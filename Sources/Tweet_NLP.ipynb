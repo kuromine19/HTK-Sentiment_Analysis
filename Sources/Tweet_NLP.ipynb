{
  "cells": [
    {
      "attachments": {},
      "cell_type": "markdown",
      "metadata": {
        "id": "Z1AvGeysSG4o"
      },
      "source": [
        "![image](images/title.jpg)"
      ]
    },
    {
      "attachments": {},
      "cell_type": "markdown",
      "metadata": {
        "id": "R6MW6X9LSG4y"
      },
      "source": [
        "![image](images/members.png)"
      ]
    },
    {
      "attachments": {},
      "cell_type": "markdown",
      "metadata": {
        "id": "LtTc9So18sHq"
      },
      "source": [
        "|<center><div style=\"width:150px\">MSSV</div><center>|<center><div style=\"width:290px\">Họ và tên</div><center>|\n",
        "|---------- |:-------------:|\n",
        "| <center>20120041<center>  | <center>Trần Kim Bảo<center> |\n",
        "| <center>20120053<center>  |   <center>Nguyễn Thành Đạt<center>   |\n",
        "| <center>20120056<center>  |<center>Trần Quốc Đỉnh<center> |\n",
        "| <center>20120060<center>  | <center>Nguyễn Trí Đức<center> |"
      ]
    },
    {
      "attachments": {},
      "cell_type": "markdown",
      "metadata": {
        "id": "37I78laxSG42"
      },
      "source": [
        "![images](images/topic.png)"
      ]
    },
    {
      "attachments": {},
      "cell_type": "markdown",
      "metadata": {
        "id": "qw8QvbSmSG43"
      },
      "source": [
        "### Tại sao lại chọn đề tài phân loại dữ liệu `Sentiment Analysis`?\n",
        "- Với các lý do sau:\n",
        "    - Tính ứng dụng cao: Phân loại dữ liệu là một trong những lĩnh vực có tính ứng dụng cao nhất trong khoa học máy tính và trí tuệ nhân tạo. Nó có thể được áp dụng trong nhiều lĩnh vực khác nhau như thương mại điện tử, y tế, tài chính, và quản lý tri thức. Giúp các nhà đầu tư và các chuyên gia tài chính đánh giá được tình hình thị trường và dự đoán xu hướng giá cả. Điều này có thể giúp họ đưa ra quyết định đúng đắn về đầu tư và các hoạt động kinh doanh. Hay giúp các doanh nghiệp và tổ chức hiểu rõ hơn về cách người dùng phản hồi đối với sản phẩm, dịch vụ hoặc sự kiện của họ. Điều này có thể giúp họ cải thiện sản phẩm hoặc dịch vụ của mình để đáp ứng nhu cầu của khách hàng.\n",
        "    - Độ phức tạp tính toán thấp: Phân loại dữ liệu thường có độ phức tạp tính toán thấp hơn so với các lĩnh vực khác của trí tuệ nhân tạo như dự báo chuỗi thời gian hoặc mạng nơ-ron sâu. Điều này có nghĩa là phân loại dữ liệu có thể được thực hiện trên các máy tính có hiệu suất trung bình.\n",
        "    - Dữ liệu phong phú: Có rất nhiều loại dữ liệu khác nhau có thể được sử dụng để phân loại dữ liệu, từ dữ liệu văn bản đến hình ảnh và âm thanh. Điều này có nghĩa là phân loại dữ liệu có thể được áp dụng cho nhiều loại dữ liệu khác nhau.\n",
        "\n",
        "### Tại sao lại chọn bộ dữ liệu này?\n",
        "- Nhóm quyết định sử dụng dataset trên, vì:\n",
        "    - Số lượng tweet lớn: Twitter là mạng xã hội lớn và phổ biến trên toàn cầu, với hàng triệu tweet được đăng tải hàng ngày. Điều này cung cấp một nguồn dữ liệu lớn để xây dựng mô hình phân loại nội dung.\n",
        "    - Tính đa dạng của nội dung: Trên Twitter, người dùng có thể chia sẻ mọi loại thông tin, từ tin tức, giải trí đến ý kiến cá nhân và cảm xúc. Do đó, tweet cung cấp một mẫu đa dạng của các loại nội dung phân loại cảm xúc.\n",
        "    - Tính ngắn gọn: Tweet có giới hạn ký tự 280, điều này yêu cầu người dùng phải tóm tắt ý kiến hoặc cảm xúc của họ trong một khoảng thời gian ngắn. Điều này làm cho tweet rất thú vị để phân tích, vì chúng ta cần đánh giá các từ và cụm từ để hiểu ý nghĩa của tweet.\n",
        "    - Tính thời sự: Twitter cung cấp một phương tiện để người dùng chia sẻ ý kiến và cảm xúc về các sự kiện thời sự đang diễn ra. Điều này cung cấp một cơ hội để xây dựng các mô hình phân loại nội dung về các sự kiện thời sự để theo dõi ý kiến của người dùng.\n",
        "\n",
        "### Nguồn gốc và giấy phép sử dụng của bộ dữ liệu?\n",
        "- Nhóm sử dụng dữ liệu [**Twitter Tweets Sentiment Dataset**](https://www.kaggle.com/datasets/yasserh/twitter-tweets-sentiment-dataset)\n",
        "- LICENSE của dữ liệu là [**CC0: Public Domain**](https://creativecommons.org/publicdomain/zero/1.0/) - người dùng được phép sử dụng với mục đích phi thương mại và phải credit cho chủ sở hữu.\n",
        "- Nguồn [**Google**](https://www.google.com/) với mục đích nghiên cứu."
      ]
    },
    {
      "attachments": {},
      "cell_type": "markdown",
      "metadata": {
        "id": "xomiDgst8sHs"
      },
      "source": [
        "### Tải thư viện"
      ]
    },
    {
      "cell_type": "code",
      "execution_count": null,
      "metadata": {
        "colab": {
          "base_uri": "https://localhost:8080/"
        },
        "id": "jUOuL9Q0Z9F3",
        "outputId": "96fa9414-ba04-4b16-f543-85ac04d031d4"
      },
      "outputs": [
        {
          "name": "stdout",
          "output_type": "stream",
          "text": [
            "Looking in indexes: https://download.pytorch.org/whl/cu118\n",
            "Requirement already satisfied: torch in /home/echkidieu/miniconda3/envs/min_ds-env/lib/python3.8/site-packages (2.0.1)\n",
            "Requirement already satisfied: torchvision in /home/echkidieu/miniconda3/envs/min_ds-env/lib/python3.8/site-packages (0.15.2+cu118)\n",
            "Requirement already satisfied: torchaudio in /home/echkidieu/miniconda3/envs/min_ds-env/lib/python3.8/site-packages (2.0.2+cu118)\n",
            "Requirement already satisfied: filelock in /home/echkidieu/miniconda3/envs/min_ds-env/lib/python3.8/site-packages (from torch) (3.12.0)\n",
            "Requirement already satisfied: typing-extensions in /home/echkidieu/miniconda3/envs/min_ds-env/lib/python3.8/site-packages (from torch) (4.5.0)\n",
            "Requirement already satisfied: sympy in /home/echkidieu/miniconda3/envs/min_ds-env/lib/python3.8/site-packages (from torch) (1.12)\n",
            "Requirement already satisfied: networkx in /home/echkidieu/miniconda3/envs/min_ds-env/lib/python3.8/site-packages (from torch) (3.1)\n",
            "Requirement already satisfied: jinja2 in /home/echkidieu/miniconda3/envs/min_ds-env/lib/python3.8/site-packages (from torch) (3.1.2)\n",
            "Requirement already satisfied: nvidia-cuda-nvrtc-cu11==11.7.99 in /home/echkidieu/miniconda3/envs/min_ds-env/lib/python3.8/site-packages (from torch) (11.7.99)\n",
            "Requirement already satisfied: nvidia-cuda-runtime-cu11==11.7.99 in /home/echkidieu/miniconda3/envs/min_ds-env/lib/python3.8/site-packages (from torch) (11.7.99)\n",
            "Requirement already satisfied: nvidia-cuda-cupti-cu11==11.7.101 in /home/echkidieu/miniconda3/envs/min_ds-env/lib/python3.8/site-packages (from torch) (11.7.101)\n",
            "Requirement already satisfied: nvidia-cudnn-cu11==8.5.0.96 in /home/echkidieu/miniconda3/envs/min_ds-env/lib/python3.8/site-packages (from torch) (8.5.0.96)\n",
            "Requirement already satisfied: nvidia-cublas-cu11==11.10.3.66 in /home/echkidieu/miniconda3/envs/min_ds-env/lib/python3.8/site-packages (from torch) (11.10.3.66)\n",
            "Requirement already satisfied: nvidia-cufft-cu11==10.9.0.58 in /home/echkidieu/miniconda3/envs/min_ds-env/lib/python3.8/site-packages (from torch) (10.9.0.58)\n",
            "Requirement already satisfied: nvidia-curand-cu11==10.2.10.91 in /home/echkidieu/miniconda3/envs/min_ds-env/lib/python3.8/site-packages (from torch) (10.2.10.91)\n",
            "Requirement already satisfied: nvidia-cusolver-cu11==11.4.0.1 in /home/echkidieu/miniconda3/envs/min_ds-env/lib/python3.8/site-packages (from torch) (11.4.0.1)\n",
            "Requirement already satisfied: nvidia-cusparse-cu11==11.7.4.91 in /home/echkidieu/miniconda3/envs/min_ds-env/lib/python3.8/site-packages (from torch) (11.7.4.91)\n",
            "Requirement already satisfied: nvidia-nccl-cu11==2.14.3 in /home/echkidieu/miniconda3/envs/min_ds-env/lib/python3.8/site-packages (from torch) (2.14.3)\n",
            "Requirement already satisfied: nvidia-nvtx-cu11==11.7.91 in /home/echkidieu/miniconda3/envs/min_ds-env/lib/python3.8/site-packages (from torch) (11.7.91)\n",
            "Requirement already satisfied: triton==2.0.0 in /home/echkidieu/miniconda3/envs/min_ds-env/lib/python3.8/site-packages (from torch) (2.0.0)\n",
            "Requirement already satisfied: setuptools in /home/echkidieu/miniconda3/envs/min_ds-env/lib/python3.8/site-packages (from nvidia-cublas-cu11==11.10.3.66->torch) (67.7.2)\n",
            "Requirement already satisfied: wheel in /home/echkidieu/miniconda3/envs/min_ds-env/lib/python3.8/site-packages (from nvidia-cublas-cu11==11.10.3.66->torch) (0.37.1)\n",
            "Requirement already satisfied: cmake in /home/echkidieu/miniconda3/envs/min_ds-env/lib/python3.8/site-packages (from triton==2.0.0->torch) (3.26.3)\n",
            "Requirement already satisfied: lit in /home/echkidieu/miniconda3/envs/min_ds-env/lib/python3.8/site-packages (from triton==2.0.0->torch) (16.0.5)\n",
            "Requirement already satisfied: numpy in /home/echkidieu/miniconda3/envs/min_ds-env/lib/python3.8/site-packages (from torchvision) (1.24.4)\n",
            "Requirement already satisfied: requests in /home/echkidieu/miniconda3/envs/min_ds-env/lib/python3.8/site-packages (from torchvision) (2.30.0)\n",
            "Requirement already satisfied: pillow!=8.3.*,>=5.3.0 in /home/echkidieu/miniconda3/envs/min_ds-env/lib/python3.8/site-packages (from torchvision) (9.5.0)\n",
            "Requirement already satisfied: MarkupSafe>=2.0 in /home/echkidieu/miniconda3/envs/min_ds-env/lib/python3.8/site-packages (from jinja2->torch) (2.1.2)\n",
            "Requirement already satisfied: charset-normalizer<4,>=2 in /home/echkidieu/miniconda3/envs/min_ds-env/lib/python3.8/site-packages (from requests->torchvision) (3.1.0)\n",
            "Requirement already satisfied: idna<4,>=2.5 in /home/echkidieu/miniconda3/envs/min_ds-env/lib/python3.8/site-packages (from requests->torchvision) (3.4)\n",
            "Requirement already satisfied: urllib3<3,>=1.21.1 in /home/echkidieu/miniconda3/envs/min_ds-env/lib/python3.8/site-packages (from requests->torchvision) (1.26.15)\n",
            "Requirement already satisfied: certifi>=2017.4.17 in /home/echkidieu/miniconda3/envs/min_ds-env/lib/python3.8/site-packages (from requests->torchvision) (2022.12.7)\n",
            "Requirement already satisfied: mpmath>=0.19 in /home/echkidieu/miniconda3/envs/min_ds-env/lib/python3.8/site-packages (from sympy->torch) (1.3.0)\n",
            "Requirement already satisfied: transformers in /home/echkidieu/miniconda3/envs/min_ds-env/lib/python3.8/site-packages (4.30.2)\n",
            "Requirement already satisfied: pandas in /home/echkidieu/miniconda3/envs/min_ds-env/lib/python3.8/site-packages (1.5.3)\n",
            "Requirement already satisfied: numpy in /home/echkidieu/miniconda3/envs/min_ds-env/lib/python3.8/site-packages (1.24.4)\n",
            "Requirement already satisfied: filelock in /home/echkidieu/miniconda3/envs/min_ds-env/lib/python3.8/site-packages (from transformers) (3.12.0)\n",
            "Requirement already satisfied: huggingface-hub<1.0,>=0.14.1 in /home/echkidieu/miniconda3/envs/min_ds-env/lib/python3.8/site-packages (from transformers) (0.15.1)\n",
            "Requirement already satisfied: packaging>=20.0 in /home/echkidieu/miniconda3/envs/min_ds-env/lib/python3.8/site-packages (from transformers) (23.1)\n",
            "Requirement already satisfied: pyyaml>=5.1 in /home/echkidieu/miniconda3/envs/min_ds-env/lib/python3.8/site-packages (from transformers) (6.0)\n",
            "Requirement already satisfied: regex!=2019.12.17 in /home/echkidieu/miniconda3/envs/min_ds-env/lib/python3.8/site-packages (from transformers) (2023.6.3)\n",
            "Requirement already satisfied: requests in /home/echkidieu/miniconda3/envs/min_ds-env/lib/python3.8/site-packages (from transformers) (2.30.0)\n",
            "Requirement already satisfied: tokenizers!=0.11.3,<0.14,>=0.11.1 in /home/echkidieu/miniconda3/envs/min_ds-env/lib/python3.8/site-packages (from transformers) (0.13.3)\n",
            "Requirement already satisfied: safetensors>=0.3.1 in /home/echkidieu/miniconda3/envs/min_ds-env/lib/python3.8/site-packages (from transformers) (0.3.1)\n",
            "Requirement already satisfied: tqdm>=4.27 in /home/echkidieu/miniconda3/envs/min_ds-env/lib/python3.8/site-packages (from transformers) (4.65.0)\n",
            "Requirement already satisfied: python-dateutil>=2.8.1 in /home/echkidieu/miniconda3/envs/min_ds-env/lib/python3.8/site-packages (from pandas) (2.8.2)\n",
            "Requirement already satisfied: pytz>=2020.1 in /home/echkidieu/miniconda3/envs/min_ds-env/lib/python3.8/site-packages (from pandas) (2023.3)\n",
            "Requirement already satisfied: fsspec in /home/echkidieu/miniconda3/envs/min_ds-env/lib/python3.8/site-packages (from huggingface-hub<1.0,>=0.14.1->transformers) (2023.5.0)\n",
            "Requirement already satisfied: typing-extensions>=3.7.4.3 in /home/echkidieu/miniconda3/envs/min_ds-env/lib/python3.8/site-packages (from huggingface-hub<1.0,>=0.14.1->transformers) (4.5.0)\n",
            "Requirement already satisfied: six>=1.5 in /home/echkidieu/miniconda3/envs/min_ds-env/lib/python3.8/site-packages (from python-dateutil>=2.8.1->pandas) (1.16.0)\n",
            "Requirement already satisfied: charset-normalizer<4,>=2 in /home/echkidieu/miniconda3/envs/min_ds-env/lib/python3.8/site-packages (from requests->transformers) (3.1.0)\n",
            "Requirement already satisfied: idna<4,>=2.5 in /home/echkidieu/miniconda3/envs/min_ds-env/lib/python3.8/site-packages (from requests->transformers) (3.4)\n",
            "Requirement already satisfied: urllib3<3,>=1.21.1 in /home/echkidieu/miniconda3/envs/min_ds-env/lib/python3.8/site-packages (from requests->transformers) (1.26.15)\n",
            "Requirement already satisfied: certifi>=2017.4.17 in /home/echkidieu/miniconda3/envs/min_ds-env/lib/python3.8/site-packages (from requests->transformers) (2022.12.7)\n",
            "Requirement already satisfied: datasets in /home/echkidieu/miniconda3/envs/min_ds-env/lib/python3.8/site-packages (2.13.0)\n",
            "Requirement already satisfied: numpy>=1.17 in /home/echkidieu/miniconda3/envs/min_ds-env/lib/python3.8/site-packages (from datasets) (1.24.4)\n",
            "Requirement already satisfied: pyarrow>=8.0.0 in /home/echkidieu/miniconda3/envs/min_ds-env/lib/python3.8/site-packages (from datasets) (12.0.1)\n",
            "Requirement already satisfied: dill<0.3.7,>=0.3.0 in /home/echkidieu/miniconda3/envs/min_ds-env/lib/python3.8/site-packages (from datasets) (0.3.6)\n",
            "Requirement already satisfied: pandas in /home/echkidieu/miniconda3/envs/min_ds-env/lib/python3.8/site-packages (from datasets) (1.5.3)\n",
            "Requirement already satisfied: requests>=2.19.0 in /home/echkidieu/miniconda3/envs/min_ds-env/lib/python3.8/site-packages (from datasets) (2.30.0)\n",
            "Requirement already satisfied: tqdm>=4.62.1 in /home/echkidieu/miniconda3/envs/min_ds-env/lib/python3.8/site-packages (from datasets) (4.65.0)\n",
            "Requirement already satisfied: xxhash in /home/echkidieu/miniconda3/envs/min_ds-env/lib/python3.8/site-packages (from datasets) (3.2.0)\n",
            "Requirement already satisfied: multiprocess in /home/echkidieu/miniconda3/envs/min_ds-env/lib/python3.8/site-packages (from datasets) (0.70.14)\n",
            "Requirement already satisfied: fsspec[http]>=2021.11.1 in /home/echkidieu/miniconda3/envs/min_ds-env/lib/python3.8/site-packages (from datasets) (2023.5.0)\n",
            "Requirement already satisfied: aiohttp in /home/echkidieu/miniconda3/envs/min_ds-env/lib/python3.8/site-packages (from datasets) (3.8.4)\n",
            "Requirement already satisfied: huggingface-hub<1.0.0,>=0.11.0 in /home/echkidieu/miniconda3/envs/min_ds-env/lib/python3.8/site-packages (from datasets) (0.15.1)\n",
            "Requirement already satisfied: packaging in /home/echkidieu/miniconda3/envs/min_ds-env/lib/python3.8/site-packages (from datasets) (23.1)\n",
            "Requirement already satisfied: pyyaml>=5.1 in /home/echkidieu/miniconda3/envs/min_ds-env/lib/python3.8/site-packages (from datasets) (6.0)\n",
            "Requirement already satisfied: attrs>=17.3.0 in /home/echkidieu/miniconda3/envs/min_ds-env/lib/python3.8/site-packages (from aiohttp->datasets) (23.1.0)\n",
            "Requirement already satisfied: charset-normalizer<4.0,>=2.0 in /home/echkidieu/miniconda3/envs/min_ds-env/lib/python3.8/site-packages (from aiohttp->datasets) (3.1.0)\n",
            "Requirement already satisfied: multidict<7.0,>=4.5 in /home/echkidieu/miniconda3/envs/min_ds-env/lib/python3.8/site-packages (from aiohttp->datasets) (6.0.4)\n",
            "Requirement already satisfied: async-timeout<5.0,>=4.0.0a3 in /home/echkidieu/miniconda3/envs/min_ds-env/lib/python3.8/site-packages (from aiohttp->datasets) (4.0.2)\n",
            "Requirement already satisfied: yarl<2.0,>=1.0 in /home/echkidieu/miniconda3/envs/min_ds-env/lib/python3.8/site-packages (from aiohttp->datasets) (1.9.2)\n",
            "Requirement already satisfied: frozenlist>=1.1.1 in /home/echkidieu/miniconda3/envs/min_ds-env/lib/python3.8/site-packages (from aiohttp->datasets) (1.3.3)\n",
            "Requirement already satisfied: aiosignal>=1.1.2 in /home/echkidieu/miniconda3/envs/min_ds-env/lib/python3.8/site-packages (from aiohttp->datasets) (1.3.1)\n",
            "Requirement already satisfied: filelock in /home/echkidieu/miniconda3/envs/min_ds-env/lib/python3.8/site-packages (from huggingface-hub<1.0.0,>=0.11.0->datasets) (3.12.0)\n",
            "Requirement already satisfied: typing-extensions>=3.7.4.3 in /home/echkidieu/miniconda3/envs/min_ds-env/lib/python3.8/site-packages (from huggingface-hub<1.0.0,>=0.11.0->datasets) (4.5.0)\n",
            "Requirement already satisfied: idna<4,>=2.5 in /home/echkidieu/miniconda3/envs/min_ds-env/lib/python3.8/site-packages (from requests>=2.19.0->datasets) (3.4)\n",
            "Requirement already satisfied: urllib3<3,>=1.21.1 in /home/echkidieu/miniconda3/envs/min_ds-env/lib/python3.8/site-packages (from requests>=2.19.0->datasets) (1.26.15)\n",
            "Requirement already satisfied: certifi>=2017.4.17 in /home/echkidieu/miniconda3/envs/min_ds-env/lib/python3.8/site-packages (from requests>=2.19.0->datasets) (2022.12.7)\n",
            "Requirement already satisfied: python-dateutil>=2.8.1 in /home/echkidieu/miniconda3/envs/min_ds-env/lib/python3.8/site-packages (from pandas->datasets) (2.8.2)\n",
            "Requirement already satisfied: pytz>=2020.1 in /home/echkidieu/miniconda3/envs/min_ds-env/lib/python3.8/site-packages (from pandas->datasets) (2023.3)\n",
            "Requirement already satisfied: six>=1.5 in /home/echkidieu/miniconda3/envs/min_ds-env/lib/python3.8/site-packages (from python-dateutil>=2.8.1->pandas->datasets) (1.16.0)\n",
            "zsh:1: no matches found: transformers[torch]\n",
            "Requirement already satisfied: accelerate in /home/echkidieu/miniconda3/envs/min_ds-env/lib/python3.8/site-packages (0.20.3)\n",
            "\u001b[33mWARNING: Retrying (Retry(total=4, connect=None, read=None, redirect=None, status=None)) after connection broken by 'NewConnectionError('<pip._vendor.urllib3.connection.HTTPSConnection object at 0x7fa56b1bcdc0>: Failed to establish a new connection: [Errno -3] Temporary failure in name resolution')': /simple/accelerate/\u001b[0m\u001b[33m\n",
            "\u001b[0m\u001b[33mWARNING: Retrying (Retry(total=3, connect=None, read=None, redirect=None, status=None)) after connection broken by 'NewConnectionError('<pip._vendor.urllib3.connection.HTTPSConnection object at 0x7fa56b16b0d0>: Failed to establish a new connection: [Errno -3] Temporary failure in name resolution')': /simple/accelerate/\u001b[0m\u001b[33m\n",
            "\u001b[0m\u001b[33mWARNING: Retrying (Retry(total=2, connect=None, read=None, redirect=None, status=None)) after connection broken by 'NewConnectionError('<pip._vendor.urllib3.connection.HTTPSConnection object at 0x7fa56b16b2b0>: Failed to establish a new connection: [Errno -3] Temporary failure in name resolution')': /simple/accelerate/\u001b[0m\u001b[33m\n",
            "\u001b[0m\u001b[33mWARNING: Retrying (Retry(total=1, connect=None, read=None, redirect=None, status=None)) after connection broken by 'NewConnectionError('<pip._vendor.urllib3.connection.HTTPSConnection object at 0x7fa56b16b460>: Failed to establish a new connection: [Errno -3] Temporary failure in name resolution')': /simple/accelerate/\u001b[0m\u001b[33m\n",
            "\u001b[0m\u001b[33mWARNING: Retrying (Retry(total=0, connect=None, read=None, redirect=None, status=None)) after connection broken by 'NewConnectionError('<pip._vendor.urllib3.connection.HTTPSConnection object at 0x7fa56b16b610>: Failed to establish a new connection: [Errno -3] Temporary failure in name resolution')': /simple/accelerate/\u001b[0m\u001b[33m\n",
            "\u001b[0mRequirement already satisfied: numpy>=1.17 in /home/echkidieu/miniconda3/envs/min_ds-env/lib/python3.8/site-packages (from accelerate) (1.24.4)\n",
            "Requirement already satisfied: packaging>=20.0 in /home/echkidieu/miniconda3/envs/min_ds-env/lib/python3.8/site-packages (from accelerate) (23.1)\n",
            "Requirement already satisfied: psutil in /home/echkidieu/miniconda3/envs/min_ds-env/lib/python3.8/site-packages (from accelerate) (5.9.5)\n",
            "Requirement already satisfied: pyyaml in /home/echkidieu/miniconda3/envs/min_ds-env/lib/python3.8/site-packages (from accelerate) (6.0)\n",
            "Requirement already satisfied: torch>=1.6.0 in /home/echkidieu/miniconda3/envs/min_ds-env/lib/python3.8/site-packages (from accelerate) (2.0.1)\n",
            "Requirement already satisfied: filelock in /home/echkidieu/miniconda3/envs/min_ds-env/lib/python3.8/site-packages (from torch>=1.6.0->accelerate) (3.12.0)\n",
            "Requirement already satisfied: typing-extensions in /home/echkidieu/miniconda3/envs/min_ds-env/lib/python3.8/site-packages (from torch>=1.6.0->accelerate) (4.5.0)\n",
            "Requirement already satisfied: sympy in /home/echkidieu/miniconda3/envs/min_ds-env/lib/python3.8/site-packages (from torch>=1.6.0->accelerate) (1.12)\n",
            "Requirement already satisfied: networkx in /home/echkidieu/miniconda3/envs/min_ds-env/lib/python3.8/site-packages (from torch>=1.6.0->accelerate) (3.1)\n",
            "Requirement already satisfied: jinja2 in /home/echkidieu/miniconda3/envs/min_ds-env/lib/python3.8/site-packages (from torch>=1.6.0->accelerate) (3.1.2)\n",
            "Requirement already satisfied: nvidia-cuda-nvrtc-cu11==11.7.99 in /home/echkidieu/miniconda3/envs/min_ds-env/lib/python3.8/site-packages (from torch>=1.6.0->accelerate) (11.7.99)\n",
            "Requirement already satisfied: nvidia-cuda-runtime-cu11==11.7.99 in /home/echkidieu/miniconda3/envs/min_ds-env/lib/python3.8/site-packages (from torch>=1.6.0->accelerate) (11.7.99)\n",
            "Requirement already satisfied: nvidia-cuda-cupti-cu11==11.7.101 in /home/echkidieu/miniconda3/envs/min_ds-env/lib/python3.8/site-packages (from torch>=1.6.0->accelerate) (11.7.101)\n",
            "Requirement already satisfied: nvidia-cudnn-cu11==8.5.0.96 in /home/echkidieu/miniconda3/envs/min_ds-env/lib/python3.8/site-packages (from torch>=1.6.0->accelerate) (8.5.0.96)\n",
            "Requirement already satisfied: nvidia-cublas-cu11==11.10.3.66 in /home/echkidieu/miniconda3/envs/min_ds-env/lib/python3.8/site-packages (from torch>=1.6.0->accelerate) (11.10.3.66)\n",
            "Requirement already satisfied: nvidia-cufft-cu11==10.9.0.58 in /home/echkidieu/miniconda3/envs/min_ds-env/lib/python3.8/site-packages (from torch>=1.6.0->accelerate) (10.9.0.58)\n",
            "Requirement already satisfied: nvidia-curand-cu11==10.2.10.91 in /home/echkidieu/miniconda3/envs/min_ds-env/lib/python3.8/site-packages (from torch>=1.6.0->accelerate) (10.2.10.91)\n",
            "Requirement already satisfied: nvidia-cusolver-cu11==11.4.0.1 in /home/echkidieu/miniconda3/envs/min_ds-env/lib/python3.8/site-packages (from torch>=1.6.0->accelerate) (11.4.0.1)\n",
            "Requirement already satisfied: nvidia-cusparse-cu11==11.7.4.91 in /home/echkidieu/miniconda3/envs/min_ds-env/lib/python3.8/site-packages (from torch>=1.6.0->accelerate) (11.7.4.91)\n",
            "Requirement already satisfied: nvidia-nccl-cu11==2.14.3 in /home/echkidieu/miniconda3/envs/min_ds-env/lib/python3.8/site-packages (from torch>=1.6.0->accelerate) (2.14.3)\n",
            "Requirement already satisfied: nvidia-nvtx-cu11==11.7.91 in /home/echkidieu/miniconda3/envs/min_ds-env/lib/python3.8/site-packages (from torch>=1.6.0->accelerate) (11.7.91)\n",
            "Requirement already satisfied: triton==2.0.0 in /home/echkidieu/miniconda3/envs/min_ds-env/lib/python3.8/site-packages (from torch>=1.6.0->accelerate) (2.0.0)\n",
            "Requirement already satisfied: setuptools in /home/echkidieu/miniconda3/envs/min_ds-env/lib/python3.8/site-packages (from nvidia-cublas-cu11==11.10.3.66->torch>=1.6.0->accelerate) (67.7.2)\n",
            "Requirement already satisfied: wheel in /home/echkidieu/miniconda3/envs/min_ds-env/lib/python3.8/site-packages (from nvidia-cublas-cu11==11.10.3.66->torch>=1.6.0->accelerate) (0.37.1)\n",
            "Requirement already satisfied: cmake in /home/echkidieu/miniconda3/envs/min_ds-env/lib/python3.8/site-packages (from triton==2.0.0->torch>=1.6.0->accelerate) (3.26.3)\n",
            "Requirement already satisfied: lit in /home/echkidieu/miniconda3/envs/min_ds-env/lib/python3.8/site-packages (from triton==2.0.0->torch>=1.6.0->accelerate) (16.0.5)\n",
            "Requirement already satisfied: MarkupSafe>=2.0 in /home/echkidieu/miniconda3/envs/min_ds-env/lib/python3.8/site-packages (from jinja2->torch>=1.6.0->accelerate) (2.1.2)\n",
            "Requirement already satisfied: mpmath>=0.19 in /home/echkidieu/miniconda3/envs/min_ds-env/lib/python3.8/site-packages (from sympy->torch>=1.6.0->accelerate) (1.3.0)\n"
          ]
        }
      ],
      "source": [
        "!pip install torch torchvision torchaudio --index-url https://download.pytorch.org/whl/cu118\n",
        "!pip install transformers pandas numpy\n",
        "!pip install datasets\n",
        "!pip install transformers[torch]\n",
        "!pip install accelerate -U"
      ]
    },
    {
      "attachments": {},
      "cell_type": "markdown",
      "metadata": {
        "id": "sP7CQWKaSG5B"
      },
      "source": [
        "![image](images/preprocessing.png)"
      ]
    },
    {
      "attachments": {},
      "cell_type": "markdown",
      "metadata": {
        "id": "ViYXNF038sHu"
      },
      "source": [
        "### Import thư viện"
      ]
    },
    {
      "cell_type": "code",
      "execution_count": 2,
      "metadata": {
        "id": "mKB6NXl_LR8p"
      },
      "outputs": [
        {
          "name": "stderr",
          "output_type": "stream",
          "text": [
            "c:\\Users\\admin\\anaconda3\\lib\\site-packages\\scipy\\__init__.py:146: UserWarning: A NumPy version >=1.16.5 and <1.23.0 is required for this version of SciPy (detected version 1.24.3\n",
            "  warnings.warn(f\"A NumPy version >={np_minversion} and <{np_maxversion}\"\n"
          ]
        }
      ],
      "source": [
        "import pandas as pd\n",
        "import numpy as np\n",
        "import matplotlib.pyplot as plt\n",
        "import seaborn as sns\n",
        "import re\n",
        "sns.set_theme()\n",
        "pd.set_option(\"display.max_colwidth\", 250)\n",
        "\n",
        "import string\n",
        "from nltk.tokenize import TweetTokenizer"
      ]
    },
    {
      "attachments": {},
      "cell_type": "markdown",
      "metadata": {
        "id": "Q9KNqsnr0YSg"
      },
      "source": [
        "## <font color=#0404B4>1. Đọc dữ liệu</font>"
      ]
    },
    {
      "cell_type": "code",
      "execution_count": null,
      "metadata": {
        "id": "XqiwbT538zDE"
      },
      "outputs": [],
      "source": [
        "# from google.colab import drive\n",
        "# drive.mount(\"/content/drive\")\n",
        "# %cd /content/drive/MyDrive/Kaggle/Datasets"
      ]
    },
    {
      "cell_type": "code",
      "execution_count": 5,
      "metadata": {
        "colab": {
          "base_uri": "https://localhost:8080/",
          "height": 206
        },
        "id": "bBX0jxNfLR8r",
        "outputId": "a4b57706-bbeb-4c8b-9979-17460f22b86f"
      },
      "outputs": [
        {
          "data": {
            "text/html": [
              "<div>\n",
              "<style scoped>\n",
              "    .dataframe tbody tr th:only-of-type {\n",
              "        vertical-align: middle;\n",
              "    }\n",
              "\n",
              "    .dataframe tbody tr th {\n",
              "        vertical-align: top;\n",
              "    }\n",
              "\n",
              "    .dataframe thead th {\n",
              "        text-align: right;\n",
              "    }\n",
              "</style>\n",
              "<table border=\"1\" class=\"dataframe\">\n",
              "  <thead>\n",
              "    <tr style=\"text-align: right;\">\n",
              "      <th></th>\n",
              "      <th>textID</th>\n",
              "      <th>text</th>\n",
              "      <th>selected_text</th>\n",
              "      <th>sentiment</th>\n",
              "    </tr>\n",
              "  </thead>\n",
              "  <tbody>\n",
              "    <tr>\n",
              "      <th>0</th>\n",
              "      <td>cb774db0d1</td>\n",
              "      <td>I`d have responded, if I were going</td>\n",
              "      <td>I`d have responded, if I were going</td>\n",
              "      <td>neutral</td>\n",
              "    </tr>\n",
              "    <tr>\n",
              "      <th>1</th>\n",
              "      <td>549e992a42</td>\n",
              "      <td>Sooo SAD I will miss you here in San Diego!!!</td>\n",
              "      <td>Sooo SAD</td>\n",
              "      <td>negative</td>\n",
              "    </tr>\n",
              "    <tr>\n",
              "      <th>2</th>\n",
              "      <td>088c60f138</td>\n",
              "      <td>my boss is bullying me...</td>\n",
              "      <td>bullying me</td>\n",
              "      <td>negative</td>\n",
              "    </tr>\n",
              "    <tr>\n",
              "      <th>3</th>\n",
              "      <td>9642c003ef</td>\n",
              "      <td>what interview! leave me alone</td>\n",
              "      <td>leave me alone</td>\n",
              "      <td>negative</td>\n",
              "    </tr>\n",
              "    <tr>\n",
              "      <th>4</th>\n",
              "      <td>358bd9e861</td>\n",
              "      <td>Sons of ****, why couldn`t they put them on the releases we already bought</td>\n",
              "      <td>Sons of ****,</td>\n",
              "      <td>negative</td>\n",
              "    </tr>\n",
              "  </tbody>\n",
              "</table>\n",
              "</div>"
            ],
            "text/plain": [
              "       textID  \\\n",
              "0  cb774db0d1   \n",
              "1  549e992a42   \n",
              "2  088c60f138   \n",
              "3  9642c003ef   \n",
              "4  358bd9e861   \n",
              "\n",
              "                                                                          text  \\\n",
              "0                                          I`d have responded, if I were going   \n",
              "1                                Sooo SAD I will miss you here in San Diego!!!   \n",
              "2                                                    my boss is bullying me...   \n",
              "3                                               what interview! leave me alone   \n",
              "4   Sons of ****, why couldn`t they put them on the releases we already bought   \n",
              "\n",
              "                         selected_text sentiment  \n",
              "0  I`d have responded, if I were going   neutral  \n",
              "1                             Sooo SAD  negative  \n",
              "2                          bullying me  negative  \n",
              "3                       leave me alone  negative  \n",
              "4                        Sons of ****,  negative  "
            ]
          },
          "execution_count": 5,
          "metadata": {},
          "output_type": "execute_result"
        }
      ],
      "source": [
        "df = pd.read_csv('../Dataset/Tweets.csv')\n",
        "df.head()"
      ]
    },
    {
      "attachments": {},
      "cell_type": "markdown",
      "metadata": {
        "id": "4HU9NVDj8sHw"
      },
      "source": [
        "## <font color=#0404B4>2. Mỗi dòng có ý nghĩa gì? Có vấn đề các dòng có ý nghĩa khác nhau không?</font>\n",
        "\n",
        "-  Mỗi dòng là thông tin về bài đăng trên Tweet của mạng xã hội Twitter gồm: id, nội dung, nội dung rút gọn và phân loại nội dung đó.<br><br>"
      ]
    },
    {
      "attachments": {},
      "cell_type": "markdown",
      "metadata": {
        "id": "ybj0IVNf8sHw"
      },
      "source": [
        "## <font color=#0404B4>3. Có dữ liệu bị trùng lặp ở các dataframe hay không?</font>"
      ]
    },
    {
      "cell_type": "code",
      "execution_count": 6,
      "metadata": {
        "id": "BPMrCAQT8sHw"
      },
      "outputs": [],
      "source": [
        "def check_duplicated(dataframe):\n",
        "    duplicated_rows = dataframe.duplicated()\n",
        "\n",
        "    # In các hàng bị lặp lại\n",
        "    if len(dataframe[duplicated_rows])>0:\n",
        "        print('Có dòng dữ liệu bị lặp')\n",
        "        display(dataframe[duplicated_rows])\n",
        "    else:\n",
        "        print('Không có dòng dữ liệu nào bị lặp')"
      ]
    },
    {
      "cell_type": "code",
      "execution_count": 7,
      "metadata": {
        "colab": {
          "base_uri": "https://localhost:8080/"
        },
        "id": "Ur8IcncM8sHx",
        "outputId": "1fb2771b-ac90-4fa7-a1d5-16b2a762a671"
      },
      "outputs": [
        {
          "name": "stdout",
          "output_type": "stream",
          "text": [
            "Không có dòng dữ liệu nào bị lặp\n"
          ]
        }
      ],
      "source": [
        "check_duplicated(df)"
      ]
    },
    {
      "attachments": {},
      "cell_type": "markdown",
      "metadata": {
        "id": "J9Hoq1i78sHx"
      },
      "source": [
        "## <font color=#0404B4>4. Mỗi cột có ý nghĩa gì?</font>"
      ]
    },
    {
      "attachments": {},
      "cell_type": "markdown",
      "metadata": {
        "id": "h92QLPRC8sHx"
      },
      "source": [
        "|STT|Tên cột dữ liệu | <center>Mô tả<center> | Đơn vị |\n",
        "|--|:------:| ---| --- |\n",
        "|1|textID|<center>Mã định danh<center>|\n",
        "|2|text| <center>Nội dung<center>|\n",
        "|3|selected_text|<center>Nội dung chắt lọc<center>|\n",
        "|4|sentiment| <center>Phân loại nội dung<center>||"
      ]
    },
    {
      "attachments": {},
      "cell_type": "markdown",
      "metadata": {
        "id": "iU7ko_v28sHx"
      },
      "source": [
        "## <font color=#0404B4>5. Mỗi cột hiện đang có kiểu dữ liệu gì? Có cột nào có kiểu dữ liệu chưa phù hợp?</font>"
      ]
    },
    {
      "cell_type": "code",
      "execution_count": 8,
      "metadata": {
        "colab": {
          "base_uri": "https://localhost:8080/"
        },
        "id": "ErLkcCjs8sHx",
        "outputId": "6a19d393-9224-44d2-9540-a6feada8d099"
      },
      "outputs": [
        {
          "name": "stdout",
          "output_type": "stream",
          "text": [
            "<class 'pandas.core.frame.DataFrame'>\n",
            "RangeIndex: 27481 entries, 0 to 27480\n",
            "Data columns (total 4 columns):\n",
            " #   Column         Non-Null Count  Dtype \n",
            "---  ------         --------------  ----- \n",
            " 0   textID         27481 non-null  object\n",
            " 1   text           27480 non-null  object\n",
            " 2   selected_text  27480 non-null  object\n",
            " 3   sentiment      27481 non-null  object\n",
            "dtypes: object(4)\n",
            "memory usage: 858.9+ KB\n"
          ]
        }
      ],
      "source": [
        "df.info()"
      ]
    },
    {
      "attachments": {},
      "cell_type": "markdown",
      "metadata": {
        "id": "e0uExnPySG5L"
      },
      "source": [
        "Ta thấy có xuất hiện 1 tweet chưa nội dung trống, thực hiện chuyển giá trị `Nan` thành khoảng `None` để phù hợp với kiểu dữ liệu dạng chuỗi"
      ]
    },
    {
      "cell_type": "code",
      "execution_count": 9,
      "metadata": {
        "id": "LeOWGltt_FX8"
      },
      "outputs": [],
      "source": [
        "df.text.fillna(\"\",inplace=True)"
      ]
    },
    {
      "cell_type": "code",
      "execution_count": 10,
      "metadata": {
        "id": "iWSRBi9y_RCm"
      },
      "outputs": [],
      "source": [
        "df.selected_text.fillna(\"\",inplace=True)"
      ]
    },
    {
      "attachments": {},
      "cell_type": "markdown",
      "metadata": {
        "id": "6PFWf7Ub8sHy"
      },
      "source": [
        "## <font color=#0404B4>6. Có cột nào cần tiền xử lý hay không?</font>"
      ]
    },
    {
      "attachments": {},
      "cell_type": "markdown",
      "metadata": {
        "id": "qCrw_SvsSG5O"
      },
      "source": [
        "Thực hiện ghép nội dung cột `selected_text` vào cột `text`"
      ]
    },
    {
      "cell_type": "code",
      "execution_count": 11,
      "metadata": {
        "id": "uFJ-XhCd-kCZ"
      },
      "outputs": [],
      "source": [
        "df.text=df.loc[:,'text'] + \" \" + df.loc[:,'selected_text']"
      ]
    },
    {
      "attachments": {},
      "cell_type": "markdown",
      "metadata": {
        "id": "jT2vlF2xSG5O"
      },
      "source": [
        "Giữ lại 2 thuộc tính dữ liệu: `text`, `sentiment` để thực hiện tiền xử lý và chuẩn bị cho mô hình"
      ]
    },
    {
      "cell_type": "code",
      "execution_count": 12,
      "metadata": {
        "id": "dFo6z_Nx8sHy"
      },
      "outputs": [],
      "source": [
        "df=df[['text','sentiment']]"
      ]
    },
    {
      "cell_type": "code",
      "execution_count": 13,
      "metadata": {
        "id": "7DXLs5KC0ken"
      },
      "outputs": [],
      "source": [
        "tokenizer_tweet=TweetTokenizer(strip_handles=True, reduce_len=True)\n",
        "\n",
        "def cleanData(text):\n",
        "  scripts_remove=[\"http\\S+\",        # Xóa địa chỉ web\n",
        "                  \"[^\\x00-\\x7F]_?\", # Ký tự không thể decode về utf-8\n",
        "                  \"@\\w+\",           # Xóa các mention\n",
        "                  \"#\\w+\"]           # Xóa các topic\n",
        "\n",
        "  # Thực hiện các thao tác trong scripts_remove\n",
        "  for script in scripts_remove:\n",
        "    text = re.sub(script, \"\", text)\n",
        "\n",
        "  #  Xóa các khoảng trắng bị thừa\n",
        "  text = re.sub(\"\\s+\", \" \", text)\n",
        "\n",
        "  # Loại bỏ ký tự trắng bị thừa ở trước và sau\n",
        "  text = text.strip()\n",
        "  return text\n",
        "\n",
        "def remove_special_characters(text):\n",
        "    # Xóa các dấu nối câu\n",
        "    tweet_tokens=tokenizer_tweet.tokenize(text)\n",
        "    text_clean_stop_words=[]\n",
        "    for word in tweet_tokens:\n",
        "      if word not in string.punctuation:\n",
        "          text_clean_stop_words.append(word)\n",
        "    return \" \".join(text_clean_stop_words)"
      ]
    },
    {
      "cell_type": "code",
      "execution_count": 14,
      "metadata": {
        "id": "KpEe_fmj0sU2"
      },
      "outputs": [],
      "source": [
        "df[\"text\"]=df.text.apply(cleanData)"
      ]
    },
    {
      "cell_type": "code",
      "execution_count": 15,
      "metadata": {
        "id": "PVjYI-N68sHz"
      },
      "outputs": [],
      "source": [
        "df_nomalize_data=df.__deepcopy__()"
      ]
    },
    {
      "cell_type": "code",
      "execution_count": 16,
      "metadata": {
        "id": "nJxtGZ-08sHz"
      },
      "outputs": [],
      "source": [
        "df_nomalize_data[\"text\"]=df_nomalize_data.text.apply(remove_special_characters)"
      ]
    },
    {
      "attachments": {},
      "cell_type": "markdown",
      "metadata": {
        "id": "0MZjxYHP8sHz"
      },
      "source": [
        "![image](images/basic_EDA.png)"
      ]
    },
    {
      "attachments": {},
      "cell_type": "markdown",
      "metadata": {
        "id": "OWG-juBDSG5R"
      },
      "source": [
        "### Import thư viện"
      ]
    },
    {
      "cell_type": "code",
      "execution_count": 17,
      "metadata": {
        "colab": {
          "base_uri": "https://localhost:8080/"
        },
        "id": "bq0uF9TO0_PF",
        "outputId": "6eabcc05-6d37-4e3c-d61e-ef87deaca452"
      },
      "outputs": [
        {
          "name": "stderr",
          "output_type": "stream",
          "text": [
            "[nltk_data] Downloading package vader_lexicon to\n",
            "[nltk_data]     C:\\Users\\admin\\AppData\\Roaming\\nltk_data...\n"
          ]
        }
      ],
      "source": [
        "from nltk.sentiment import SentimentIntensityAnalyzer\n",
        "from tqdm.notebook import tqdm\n",
        "import nltk\n",
        "nltk.download('vader_lexicon')\n",
        "sia=SentimentIntensityAnalyzer()"
      ]
    },
    {
      "attachments": {},
      "cell_type": "markdown",
      "metadata": {
        "id": "bgbIQhKWSG5S"
      },
      "source": [
        "- Tính điểm phân tích cảm xúc dựa trên công cụ SentimentIntensityAnalyzer được cung cấp bởi thư viện Natural Language Toolkit (NLTK)\n",
        "- Tạo 2 DataFrame: 1 DataFrame phân tích cảm xúc của thuộc tính `text` không thực hiện xóa các ký tự đặc biệt và có thực hiện xóa các ký tự đặc biệt."
      ]
    },
    {
      "cell_type": "code",
      "execution_count": 18,
      "metadata": {
        "colab": {
          "base_uri": "https://localhost:8080/",
          "height": 81,
          "referenced_widgets": [
            "41d784f7e2404c82adaedd9019af72dc",
            "2c0760a75c8540cc9854f5a16a35f5d4",
            "3e67f2093fc64499915bd825ca6aba6a",
            "8878520c575f4319b28f339b7e28aaac",
            "3f862444d55a48a889a6f9b26068df8d",
            "8ffeae0e7b954749b1068a44d12755f9",
            "59716b6b28d646eeb1af64f505081012",
            "808a52127ff8455c9bc59a2ee2889388",
            "6693f312c989420987b3a8f882dba1de",
            "46f2a25273eb4e0d8d7e25a79b3564aa",
            "cbfc262d4d8849439f7f32a04a16a43b",
            "0df31340129640ddb31e35ff3a2bde36",
            "54dbaf9d74a84c569a5d340be2dfdb26",
            "3d1941aa3cad4cdd95b53f766d374b2b",
            "f3c408f37a9e48b49d6482ce5b7eca80",
            "f2574292b8944d20beb5d646313ac4e9",
            "358ff69179e24b159b0b39b6ce31deca",
            "d1d895efcea34dd786b4c78cdbf6be28",
            "eefab8de372648c4a5194eda36c73ec9",
            "6dbdfca7e9784dadaea85deb64948ce6",
            "1125a9cac332412aa0b64081ff75ef3a",
            "097f02375567489fb78dda9f9332c132"
          ]
        },
        "id": "oNrJvw-X1AdG",
        "outputId": "a050b875-eb6d-449b-f919-2802178f3fbc"
      },
      "outputs": [
        {
          "data": {
            "application/vnd.jupyter.widget-view+json": {
              "model_id": "501c9442e2ef4d0d9055a5cb62207abb",
              "version_major": 2,
              "version_minor": 0
            },
            "text/plain": [
              "  0%|          | 0/27481 [00:00<?, ?it/s]"
            ]
          },
          "metadata": {},
          "output_type": "display_data"
        },
        {
          "data": {
            "application/vnd.jupyter.widget-view+json": {
              "model_id": "54f6900400a64736905b05d1e1520633",
              "version_major": 2,
              "version_minor": 0
            },
            "text/plain": [
              "  0%|          | 0/27481 [00:00<?, ?it/s]"
            ]
          },
          "metadata": {},
          "output_type": "display_data"
        }
      ],
      "source": [
        "res={}\n",
        "for i, row in tqdm(df.iterrows(), total = len(df)):\n",
        "    text = row[\"text\"]\n",
        "    res[i] = sia.polarity_scores(text)\n",
        "res_nomalize={}\n",
        "for i, row in tqdm(df_nomalize_data.iterrows(), total = len(df_nomalize_data)):\n",
        "    text = row[\"text\"]\n",
        "    res_nomalize[i] = sia.polarity_scores(text)"
      ]
    },
    {
      "cell_type": "code",
      "execution_count": 19,
      "metadata": {
        "colab": {
          "base_uri": "https://localhost:8080/",
          "height": 395
        },
        "id": "5C2uQMPU1Be4",
        "outputId": "759832e0-8f9c-4608-c84f-52447410c64c"
      },
      "outputs": [
        {
          "data": {
            "text/html": [
              "<div>\n",
              "<style scoped>\n",
              "    .dataframe tbody tr th:only-of-type {\n",
              "        vertical-align: middle;\n",
              "    }\n",
              "\n",
              "    .dataframe tbody tr th {\n",
              "        vertical-align: top;\n",
              "    }\n",
              "\n",
              "    .dataframe thead th {\n",
              "        text-align: right;\n",
              "    }\n",
              "</style>\n",
              "<table border=\"1\" class=\"dataframe\">\n",
              "  <thead>\n",
              "    <tr style=\"text-align: right;\">\n",
              "      <th></th>\n",
              "      <th>neg</th>\n",
              "      <th>neu</th>\n",
              "      <th>pos</th>\n",
              "      <th>compound</th>\n",
              "    </tr>\n",
              "  </thead>\n",
              "  <tbody>\n",
              "    <tr>\n",
              "      <th>0</th>\n",
              "      <td>0.000</td>\n",
              "      <td>1.000</td>\n",
              "      <td>0.0</td>\n",
              "      <td>0.0000</td>\n",
              "    </tr>\n",
              "    <tr>\n",
              "      <th>1</th>\n",
              "      <td>0.559</td>\n",
              "      <td>0.441</td>\n",
              "      <td>0.0</td>\n",
              "      <td>-0.8791</td>\n",
              "    </tr>\n",
              "    <tr>\n",
              "      <th>2</th>\n",
              "      <td>0.609</td>\n",
              "      <td>0.391</td>\n",
              "      <td>0.0</td>\n",
              "      <td>-0.8316</td>\n",
              "    </tr>\n",
              "    <tr>\n",
              "      <th>3</th>\n",
              "      <td>0.626</td>\n",
              "      <td>0.374</td>\n",
              "      <td>0.0</td>\n",
              "      <td>-0.5707</td>\n",
              "    </tr>\n",
              "    <tr>\n",
              "      <th>4</th>\n",
              "      <td>0.000</td>\n",
              "      <td>1.000</td>\n",
              "      <td>0.0</td>\n",
              "      <td>0.0000</td>\n",
              "    </tr>\n",
              "  </tbody>\n",
              "</table>\n",
              "</div>"
            ],
            "text/plain": [
              "     neg    neu  pos  compound\n",
              "0  0.000  1.000  0.0    0.0000\n",
              "1  0.559  0.441  0.0   -0.8791\n",
              "2  0.609  0.391  0.0   -0.8316\n",
              "3  0.626  0.374  0.0   -0.5707\n",
              "4  0.000  1.000  0.0    0.0000"
            ]
          },
          "metadata": {},
          "output_type": "display_data"
        },
        {
          "data": {
            "text/html": [
              "<div>\n",
              "<style scoped>\n",
              "    .dataframe tbody tr th:only-of-type {\n",
              "        vertical-align: middle;\n",
              "    }\n",
              "\n",
              "    .dataframe tbody tr th {\n",
              "        vertical-align: top;\n",
              "    }\n",
              "\n",
              "    .dataframe thead th {\n",
              "        text-align: right;\n",
              "    }\n",
              "</style>\n",
              "<table border=\"1\" class=\"dataframe\">\n",
              "  <thead>\n",
              "    <tr style=\"text-align: right;\">\n",
              "      <th></th>\n",
              "      <th>neg</th>\n",
              "      <th>neu</th>\n",
              "      <th>pos</th>\n",
              "      <th>compound</th>\n",
              "    </tr>\n",
              "  </thead>\n",
              "  <tbody>\n",
              "    <tr>\n",
              "      <th>0</th>\n",
              "      <td>0.000</td>\n",
              "      <td>1.000</td>\n",
              "      <td>0.0</td>\n",
              "      <td>0.0000</td>\n",
              "    </tr>\n",
              "    <tr>\n",
              "      <th>1</th>\n",
              "      <td>0.537</td>\n",
              "      <td>0.463</td>\n",
              "      <td>0.0</td>\n",
              "      <td>-0.8506</td>\n",
              "    </tr>\n",
              "    <tr>\n",
              "      <th>2</th>\n",
              "      <td>0.565</td>\n",
              "      <td>0.435</td>\n",
              "      <td>0.0</td>\n",
              "      <td>-0.8316</td>\n",
              "    </tr>\n",
              "    <tr>\n",
              "      <th>3</th>\n",
              "      <td>0.615</td>\n",
              "      <td>0.385</td>\n",
              "      <td>0.0</td>\n",
              "      <td>-0.5267</td>\n",
              "    </tr>\n",
              "    <tr>\n",
              "      <th>4</th>\n",
              "      <td>0.000</td>\n",
              "      <td>1.000</td>\n",
              "      <td>0.0</td>\n",
              "      <td>0.0000</td>\n",
              "    </tr>\n",
              "  </tbody>\n",
              "</table>\n",
              "</div>"
            ],
            "text/plain": [
              "     neg    neu  pos  compound\n",
              "0  0.000  1.000  0.0    0.0000\n",
              "1  0.537  0.463  0.0   -0.8506\n",
              "2  0.565  0.435  0.0   -0.8316\n",
              "3  0.615  0.385  0.0   -0.5267\n",
              "4  0.000  1.000  0.0    0.0000"
            ]
          },
          "metadata": {},
          "output_type": "display_data"
        }
      ],
      "source": [
        "vaders = pd.DataFrame(res).T\n",
        "vaders_nomalize=pd.DataFrame(res_nomalize).T\n",
        "display(vaders.head())\n",
        "display(vaders_nomalize.head())\n"
      ]
    },
    {
      "cell_type": "code",
      "execution_count": 20,
      "metadata": {
        "colab": {
          "base_uri": "https://localhost:8080/",
          "height": 395
        },
        "id": "K1POF0Iq1Cx7",
        "outputId": "ead02ff7-514d-420a-cc8b-d7be13d64bd1"
      },
      "outputs": [
        {
          "data": {
            "text/html": [
              "<div>\n",
              "<style scoped>\n",
              "    .dataframe tbody tr th:only-of-type {\n",
              "        vertical-align: middle;\n",
              "    }\n",
              "\n",
              "    .dataframe tbody tr th {\n",
              "        vertical-align: top;\n",
              "    }\n",
              "\n",
              "    .dataframe thead th {\n",
              "        text-align: right;\n",
              "    }\n",
              "</style>\n",
              "<table border=\"1\" class=\"dataframe\">\n",
              "  <thead>\n",
              "    <tr style=\"text-align: right;\">\n",
              "      <th></th>\n",
              "      <th>neg</th>\n",
              "      <th>neu</th>\n",
              "      <th>pos</th>\n",
              "      <th>compound</th>\n",
              "      <th>text</th>\n",
              "      <th>sentiment</th>\n",
              "    </tr>\n",
              "  </thead>\n",
              "  <tbody>\n",
              "    <tr>\n",
              "      <th>0</th>\n",
              "      <td>0.000</td>\n",
              "      <td>1.000</td>\n",
              "      <td>0.0</td>\n",
              "      <td>0.0000</td>\n",
              "      <td>I`d have responded, if I were going I`d have responded, if I were going</td>\n",
              "      <td>neutral</td>\n",
              "    </tr>\n",
              "    <tr>\n",
              "      <th>1</th>\n",
              "      <td>0.559</td>\n",
              "      <td>0.441</td>\n",
              "      <td>0.0</td>\n",
              "      <td>-0.8791</td>\n",
              "      <td>Sooo SAD I will miss you here in San Diego!!! Sooo SAD</td>\n",
              "      <td>negative</td>\n",
              "    </tr>\n",
              "    <tr>\n",
              "      <th>2</th>\n",
              "      <td>0.609</td>\n",
              "      <td>0.391</td>\n",
              "      <td>0.0</td>\n",
              "      <td>-0.8316</td>\n",
              "      <td>my boss is bullying me... bullying me</td>\n",
              "      <td>negative</td>\n",
              "    </tr>\n",
              "    <tr>\n",
              "      <th>3</th>\n",
              "      <td>0.626</td>\n",
              "      <td>0.374</td>\n",
              "      <td>0.0</td>\n",
              "      <td>-0.5707</td>\n",
              "      <td>what interview! leave me alone leave me alone</td>\n",
              "      <td>negative</td>\n",
              "    </tr>\n",
              "    <tr>\n",
              "      <th>4</th>\n",
              "      <td>0.000</td>\n",
              "      <td>1.000</td>\n",
              "      <td>0.0</td>\n",
              "      <td>0.0000</td>\n",
              "      <td>Sons of ****, why couldn`t they put them on the releases we already bought Sons of ****,</td>\n",
              "      <td>negative</td>\n",
              "    </tr>\n",
              "  </tbody>\n",
              "</table>\n",
              "</div>"
            ],
            "text/plain": [
              "     neg    neu  pos  compound  \\\n",
              "0  0.000  1.000  0.0    0.0000   \n",
              "1  0.559  0.441  0.0   -0.8791   \n",
              "2  0.609  0.391  0.0   -0.8316   \n",
              "3  0.626  0.374  0.0   -0.5707   \n",
              "4  0.000  1.000  0.0    0.0000   \n",
              "\n",
              "                                                                                       text  \\\n",
              "0                   I`d have responded, if I were going I`d have responded, if I were going   \n",
              "1                                    Sooo SAD I will miss you here in San Diego!!! Sooo SAD   \n",
              "2                                                     my boss is bullying me... bullying me   \n",
              "3                                             what interview! leave me alone leave me alone   \n",
              "4  Sons of ****, why couldn`t they put them on the releases we already bought Sons of ****,   \n",
              "\n",
              "  sentiment  \n",
              "0   neutral  \n",
              "1  negative  \n",
              "2  negative  \n",
              "3  negative  \n",
              "4  negative  "
            ]
          },
          "metadata": {},
          "output_type": "display_data"
        },
        {
          "data": {
            "text/html": [
              "<div>\n",
              "<style scoped>\n",
              "    .dataframe tbody tr th:only-of-type {\n",
              "        vertical-align: middle;\n",
              "    }\n",
              "\n",
              "    .dataframe tbody tr th {\n",
              "        vertical-align: top;\n",
              "    }\n",
              "\n",
              "    .dataframe thead th {\n",
              "        text-align: right;\n",
              "    }\n",
              "</style>\n",
              "<table border=\"1\" class=\"dataframe\">\n",
              "  <thead>\n",
              "    <tr style=\"text-align: right;\">\n",
              "      <th></th>\n",
              "      <th>neg</th>\n",
              "      <th>neu</th>\n",
              "      <th>pos</th>\n",
              "      <th>compound</th>\n",
              "      <th>text</th>\n",
              "      <th>sentiment</th>\n",
              "    </tr>\n",
              "  </thead>\n",
              "  <tbody>\n",
              "    <tr>\n",
              "      <th>0</th>\n",
              "      <td>0.000</td>\n",
              "      <td>1.000</td>\n",
              "      <td>0.0</td>\n",
              "      <td>0.0000</td>\n",
              "      <td>I d have responded if I were going I d have responded if I were going</td>\n",
              "      <td>neutral</td>\n",
              "    </tr>\n",
              "    <tr>\n",
              "      <th>1</th>\n",
              "      <td>0.537</td>\n",
              "      <td>0.463</td>\n",
              "      <td>0.0</td>\n",
              "      <td>-0.8506</td>\n",
              "      <td>Sooo SAD I will miss you here in San Diego Sooo SAD</td>\n",
              "      <td>negative</td>\n",
              "    </tr>\n",
              "    <tr>\n",
              "      <th>2</th>\n",
              "      <td>0.565</td>\n",
              "      <td>0.435</td>\n",
              "      <td>0.0</td>\n",
              "      <td>-0.8316</td>\n",
              "      <td>my boss is bullying me ... bullying me</td>\n",
              "      <td>negative</td>\n",
              "    </tr>\n",
              "    <tr>\n",
              "      <th>3</th>\n",
              "      <td>0.615</td>\n",
              "      <td>0.385</td>\n",
              "      <td>0.0</td>\n",
              "      <td>-0.5267</td>\n",
              "      <td>what interview leave me alone leave me alone</td>\n",
              "      <td>negative</td>\n",
              "    </tr>\n",
              "    <tr>\n",
              "      <th>4</th>\n",
              "      <td>0.000</td>\n",
              "      <td>1.000</td>\n",
              "      <td>0.0</td>\n",
              "      <td>0.0000</td>\n",
              "      <td>Sons of why couldn t they put them on the releases we already bought Sons of</td>\n",
              "      <td>negative</td>\n",
              "    </tr>\n",
              "  </tbody>\n",
              "</table>\n",
              "</div>"
            ],
            "text/plain": [
              "     neg    neu  pos  compound  \\\n",
              "0  0.000  1.000  0.0    0.0000   \n",
              "1  0.537  0.463  0.0   -0.8506   \n",
              "2  0.565  0.435  0.0   -0.8316   \n",
              "3  0.615  0.385  0.0   -0.5267   \n",
              "4  0.000  1.000  0.0    0.0000   \n",
              "\n",
              "                                                                           text  \\\n",
              "0         I d have responded if I were going I d have responded if I were going   \n",
              "1                           Sooo SAD I will miss you here in San Diego Sooo SAD   \n",
              "2                                        my boss is bullying me ... bullying me   \n",
              "3                                  what interview leave me alone leave me alone   \n",
              "4  Sons of why couldn t they put them on the releases we already bought Sons of   \n",
              "\n",
              "  sentiment  \n",
              "0   neutral  \n",
              "1  negative  \n",
              "2  negative  \n",
              "3  negative  \n",
              "4  negative  "
            ]
          },
          "metadata": {},
          "output_type": "display_data"
        }
      ],
      "source": [
        "vaders = vaders.merge(df, on=vaders.index, how=\"left\")\n",
        "vaders.drop(columns={\"key_0\"}, axis=1, inplace=True )\n",
        "\n",
        "vaders_nomalize = vaders_nomalize.merge(df_nomalize_data, on=vaders_nomalize.index, how=\"left\")\n",
        "vaders_nomalize.drop(columns={\"key_0\"}, axis=1, inplace=True )\n",
        "\n",
        "display(vaders.head())\n",
        "display(vaders_nomalize.head())"
      ]
    },
    {
      "cell_type": "code",
      "execution_count": 21,
      "metadata": {
        "colab": {
          "base_uri": "https://localhost:8080/",
          "height": 428
        },
        "id": "zlzOEixL1EWI",
        "outputId": "2d1d11e1-bd97-4d47-fa51-785d84017b7f"
      },
      "outputs": [
        {
          "data": {
            "image/png": "[encoded data removed]",
            "text/plain": [
              "<Figure size 864x288 with 2 Axes>"
            ]
          },
          "metadata": {},
          "output_type": "display_data"
        }
      ],
      "source": [
        "fig, axs = plt.subplots(1,2, figsize=(12,4), constrained_layout=True)\n",
        "sns.barplot(data=vaders, x=\"sentiment\", y=\"compound\",ax=axs[0])\n",
        "axs[0].set_xlabel(\"Sentiment with special characters\")\n",
        "\n",
        "sns.barplot(data=vaders_nomalize, x=\"sentiment\", y=\"compound\",ax=axs[1])\n",
        "axs[1].set_xlabel(\"Sentiment with special characters\")\n",
        "\n",
        "plt.suptitle(\"Compound Score of Tweet\")\n",
        "plt.show()"
      ]
    },
    {
      "cell_type": "code",
      "execution_count": 22,
      "metadata": {
        "colab": {
          "base_uri": "https://localhost:8080/",
          "height": 868
        },
        "id": "vkmu-mFU1F9p",
        "outputId": "4c9c4d4f-c833-4452-c20d-24fbea91513c"
      },
      "outputs": [
        {
          "data": {
            "image/png": "[encoded data removed]",
            "text/plain": [
              "<Figure size 864x576 with 6 Axes>"
            ]
          },
          "metadata": {},
          "output_type": "display_data"
        }
      ],
      "source": [
        "fig, axs = plt.subplots(2,3, figsize=(12,8))\n",
        "\n",
        "sns.barplot(data=vaders, x=\"sentiment\", y=\"pos\", ax=axs[0][0]).set(xlabel=None)\n",
        "sns.barplot(data=vaders, x=\"sentiment\", y=\"neg\", ax=axs[0][1]).set(xlabel=None)\n",
        "sns.barplot(data=vaders, x=\"sentiment\", y=\"neu\", ax=axs[0][2]).set(xlabel=None)\n",
        "\n",
        "sns.barplot(data=vaders_nomalize, x=\"sentiment\", y=\"pos\", ax=axs[1][0])\n",
        "sns.barplot(data=vaders_nomalize, x=\"sentiment\", y=\"neg\", ax=axs[1][1])\n",
        "sns.barplot(data=vaders_nomalize, x=\"sentiment\", y=\"neu\", ax=axs[1][2])\n",
        "\n",
        "axs[0][0].set_title('Positive')\n",
        "axs[0][1].set_title('Negative')\n",
        "axs[0][2].set_title('Neutral')\n",
        "\n",
        "axs[0][1].text(0.5, 1.12, \"Sentiment with special characters\", ha='center', va='center', transform=axs[0][1].transAxes)\n",
        "axs[1][1].text(0.5, 1.05, \"Sentiment without special characters\", ha='center', va='center', transform=axs[1][1].transAxes)\n",
        "\n",
        "fig.tight_layout(pad=0.5)\n",
        "plt.suptitle(\"Sentiment score of each components in a tweet\",y=1.05,fontsize=16)\n",
        "plt.show()"
      ]
    },
    {
      "attachments": {},
      "cell_type": "markdown",
      "metadata": {
        "id": "6Bdr7WPO8sH1"
      },
      "source": [
        "- Nhận xét:\n",
        "    - Dựa vào 2 biểu đồ trên ta thấy chênh lệch giữa việc xóa các ký tự đặc biệt không thay đổi quá nhiều điểm số đánh giá cảm xúc văn bản (vẫn có trường hợp mang ý nghĩa nhấn mạnh câu của người dùng).\n",
        "    - Qua tìm mô hình, với lợi thế của self-attetion vừa tăng độ chính xác lẫn tốc độ:\n",
        "        - Tự điêù chỉnh các trọng số.\n",
        "        - Bỏ qua các bước tiền xử lý như: remove stop words với các mô hình học máy khác phải thực hiện."
      ]
    },
    {
      "attachments": {},
      "cell_type": "markdown",
      "metadata": {
        "id": "yf15DVz38sH1"
      },
      "source": [
        "![image](images/model.png)"
      ]
    },
    {
      "attachments": {},
      "cell_type": "markdown",
      "metadata": {
        "id": "Y4Dpvf5USG5j"
      },
      "source": [
        "### Import thư viện"
      ]
    },
    {
      "cell_type": "code",
      "execution_count": 23,
      "metadata": {
        "id": "nq7qBVxvLR8v"
      },
      "outputs": [],
      "source": [
        "from datasets import DatasetDict,Dataset\n",
        "\n",
        "import torch\n",
        "from torch import nn\n",
        "\n",
        "import tensorflow as tf\n",
        "\n",
        "from transformers import Trainer,TrainingArguments\n",
        "from transformers import AutoTokenizer\n",
        "from transformers import AutoModelForSequenceClassification\n",
        "\n",
        "from sklearn.model_selection import train_test_split\n",
        "from sklearn.metrics import f1_score\n",
        "from sklearn.metrics import classification_report"
      ]
    },
    {
      "attachments": {},
      "cell_type": "markdown",
      "metadata": {
        "id": "SJFy7P-zSG5k"
      },
      "source": [
        "### <font color=#0404B4>1. Nomalize data</font>"
      ]
    },
    {
      "attachments": {},
      "cell_type": "markdown",
      "metadata": {
        "id": "s2BTcpM7SG5l"
      },
      "source": [
        "- Nhận xét:\n",
        "    - Vì các thuật toán học máy thường chỉ có thể làm việc với các giá trị số, chứ không thể làm việc với các giá trị không phải số như chuỗi hoặc các nhãn phân loại. Để giải quyết vấn đề này, chúng ta cần chuyển đổi các giá trị phân loại sang dạng số học (label encoding). Thực hiện chuyển biến phân loại dạng `categorical` thành `numerical` (label encoding)."
      ]
    },
    {
      "cell_type": "code",
      "execution_count": 24,
      "metadata": {
        "id": "Ps8CkatXLR8v"
      },
      "outputs": [],
      "source": [
        "def to_sentiment(Sentiment):\n",
        "    if Sentiment == 'neutral':\n",
        "        return 1\n",
        "    elif Sentiment == 'positive':\n",
        "        return 2\n",
        "    else:\n",
        "        return 0"
      ]
    },
    {
      "cell_type": "code",
      "execution_count": 25,
      "metadata": {
        "colab": {
          "base_uri": "https://localhost:8080/"
        },
        "id": "fgzNaSbJLR8v",
        "outputId": "b14ffe89-b9db-4f53-d999-c8319a09f0e5"
      },
      "outputs": [
        {
          "data": {
            "text/plain": [
              "1    11118\n",
              "2     8582\n",
              "0     7781\n",
              "Name: sentiment, dtype: int64"
            ]
          },
          "execution_count": 25,
          "metadata": {},
          "output_type": "execute_result"
        }
      ],
      "source": [
        "df['sentiment']=df.sentiment.apply(to_sentiment)\n",
        "df.sentiment.value_counts()\n"
      ]
    },
    {
      "attachments": {},
      "cell_type": "markdown",
      "metadata": {
        "id": "Ui8pYyNNLR8w"
      },
      "source": [
        "### <font color=#0404B4>2. Pre-trained</font>"
      ]
    },
    {
      "attachments": {},
      "cell_type": "markdown",
      "metadata": {
        "id": "YUAyP7FISG5o"
      },
      "source": [
        "- Mô hình pre-trained thường được huấn luyện trên các tập dữ liệu lớn và phức tạp, giúp cho việc train mô hình:\n",
        "    - Tăng độ chính xác: Vì có thể các dữ liệu trong tập train chưa chắc đã có cho mô hình huấn luyện.\n",
        "    - Tiết kiệm được thời gian: Việc huấn luyện một mô hình từ đầu có thể mất rất nhiều thời gian và tài nguyên.\n",
        "    - Khả năng tái sử dụng: Các mô hình pre-trained có thể được sử dụng lại trong nhiều tác vụ khác nhau và không cần phải huấn luyện lại từ đầu.\n",
        "\n",
        "- Pre-trained'distilbert-base-uncased' là một mô hình xử lý ngôn ngữ tự nhiên pre-trained được huấn luyện bởi Hugging Face. DistilBERT là một phiên bản nhỏ hơn và nhanh hơn của BERT, một mô hình học sâu nổi tiếng trong lĩnh vực xử lý ngôn ngữ tự nhiên.\n",
        "\n",
        "- Mô hình distilbert-base-uncased bao gồm 12 lớp mạng và khoảng 66 triệu tham số. Nó được huấn luyện trên tập dữ liệu lớn và đa dạng, bao gồm tập dữ liệu tiếng Anh của Wikipedia và các tập dữ liệu ngôn ngữ tự nhiên khác."
      ]
    },
    {
      "cell_type": "code",
      "execution_count": 26,
      "metadata": {
        "id": "xzWVtiPrNPwt"
      },
      "outputs": [],
      "source": [
        "PRE_TRAINED_MODEL_NAME = 'distilbert-base-uncased'"
      ]
    },
    {
      "cell_type": "code",
      "execution_count": 27,
      "metadata": {
        "colab": {
          "base_uri": "https://localhost:8080/",
          "height": 145,
          "referenced_widgets": [
            "48d01431984d41ebac9ac0c93eab48c6",
            "5ef064c42e8e4efb9c0cf99cae3dfb08",
            "9673f21079674609bb684606664a7370",
            "7a84366062f04ebea117191afddf8890",
            "d4c45372ae64493ba1cb933e95f5b00f",
            "1e5ba0b03e424b75bf475917d18633a1",
            "cc25450c646a4e8d828c4bc8a44984b4",
            "260c9a4d285b4a93a3dfbf656a8e5a0b",
            "4053c25fc04441a0a9be2ca58d836880",
            "42a21adec3a14fbdabd57f6b60c75fbc",
            "d1883e327ad345bf966fa108200250b7",
            "676ca0ccf06a4138aa1811edc4ab8130",
            "74deabed269a487d80ab0ccfa9add2d2",
            "1c5d032ca2cd4abeb73ca46c333f356b",
            "7efd05c704b74a73b94f76058acc9915",
            "c28f63055f60429fa41811c7eae2ee7a",
            "5fcd298a3ac64a2ca0062daea65c42a7",
            "a8b6f87500e64e3980bd6a773c9efe31",
            "26d0fbefc3774a86873ac347831ba93e",
            "04fc736d5de14cd3bc11a46c00662f84",
            "20098d63d22c43dcb93c785db8713965",
            "b96fef34ede449e8b1c0d8288e6db9a5",
            "0e5d3fe0e9784db1af4e90f524650cd3",
            "d4ffb131031d4a2394094e5da190a246",
            "312c0b545e184b67956cf03ed3ac32d6",
            "834c976d2d934fecad56dc5ad252c04c",
            "2aad54388e994be29ad9171081cda4b0",
            "54bcc1eb7bb747a38e00644b0f716a86",
            "f3a189f31c8143c8b6e66763bb2884e4",
            "caa0dd4ee91a444394a16903616b24fd",
            "50a010909a52499689ff9f9c8ffb1f85",
            "99e7b58f680441eea14c5e7ee1c1538a",
            "cc889568d0174e51941451b93218dc60",
            "dbbc3915623c49ff9820970870c5aa47",
            "01d32ed7c0eb4a73a79d8bb36a2eeae1",
            "a1cc4c43fabd449689d4c35969d17e97",
            "b12d339603714a218f29b7d7960ee469",
            "65046cc365174ae1a23bbc498fcd3253",
            "0e014b4edff54830b3418682b92760fa",
            "2e371b22771f444c956999cfa8fb02dc",
            "f88c35b3cd8e4856b2f58c4a8201da4f",
            "ed3deb56ddc24b8cbc26bfbcde43b77e",
            "b8b3ab08241445a18b0bf2eec5db488a",
            "c7334c6672a5444abf38fb3c71a79b1f"
          ]
        },
        "id": "K9GdgTz-LR8w",
        "outputId": "5e822edf-04d8-479f-f4fb-82cf285d5102"
      },
      "outputs": [
        {
          "name": "stderr",
          "output_type": "stream",
          "text": [
            "Downloading (…)okenizer_config.json: 100%|██████████| 28.0/28.0 [00:00<00:00, 6.23kB/s]\n",
            "c:\\Users\\admin\\anaconda3\\lib\\site-packages\\huggingface_hub\\file_download.py:133: UserWarning: `huggingface_hub` cache-system uses symlinks by default to efficiently store duplicated files but your machine does not support them in C:\\Users\\admin\\.cache\\huggingface\\hub. Caching files will still work but in a degraded version that might require more space on your disk. This warning can be disabled by setting the `HF_HUB_DISABLE_SYMLINKS_WARNING` environment variable. For more details, see https://huggingface.co/docs/huggingface_hub/how-to-cache#limitations.\n",
            "To support symlinks on Windows, you either need to activate Developer Mode or to run Python as an administrator. In order to see activate developer mode, see this article: https://docs.microsoft.com/en-us/windows/apps/get-started/enable-your-device-for-development\n",
            "  warnings.warn(message)\n",
            "Downloading (…)lve/main/config.json: 100%|██████████| 483/483 [00:00<00:00, 98.6kB/s]\n",
            "Downloading (…)solve/main/vocab.txt: 100%|██████████| 232k/232k [00:00<00:00, 470kB/s]\n",
            "Downloading (…)/main/tokenizer.json: 100%|██████████| 466k/466k [00:00<00:00, 642kB/s]\n"
          ]
        }
      ],
      "source": [
        "tokenizer = AutoTokenizer.from_pretrained(PRE_TRAINED_MODEL_NAME)"
      ]
    },
    {
      "attachments": {},
      "cell_type": "markdown",
      "metadata": {
        "id": "psEOJHfqLR8x"
      },
      "source": [
        "### <font color=#0404B4>3. Encode and Calculate Sentiment</font>"
      ]
    },
    {
      "attachments": {},
      "cell_type": "markdown",
      "metadata": {
        "id": "bCXx0HHDSG5q"
      },
      "source": [
        "- Chia tập dữ liệu thành 3 tập nhỏ hơn:\n",
        "    - Tập train: 70%\n",
        "    - Tập test: 15%\n",
        "    - Tập validation: 15%"
      ]
    },
    {
      "cell_type": "code",
      "execution_count": 28,
      "metadata": {
        "id": "0kXAIbQPT-N3"
      },
      "outputs": [],
      "source": [
        "df_train,df_test=train_test_split(df,test_size=.3,random_state=42)\n",
        "df_valid,df_test=train_test_split(df_test,test_size=.5,random_state=42)"
      ]
    },
    {
      "attachments": {},
      "cell_type": "markdown",
      "metadata": {
        "id": "29I06JIvSG5s"
      },
      "source": [
        "Chuyển các tập dữ liệu trên vào DatasetDict, sử dụng để đưa dữ liệu vào mô hình huấn luyện."
      ]
    },
    {
      "cell_type": "code",
      "execution_count": 29,
      "metadata": {
        "colab": {
          "base_uri": "https://localhost:8080/"
        },
        "id": "hhdqmfGr-_BB",
        "outputId": "230ae1f2-8d45-4e05-d015-9c2d278bd0f5"
      },
      "outputs": [
        {
          "data": {
            "text/plain": [
              "DatasetDict({\n",
              "    train: Dataset({\n",
              "        features: ['text', 'sentiment', '__index_level_0__'],\n",
              "        num_rows: 19236\n",
              "    })\n",
              "    validation: Dataset({\n",
              "        features: ['text', 'sentiment', '__index_level_0__'],\n",
              "        num_rows: 4122\n",
              "    })\n",
              "    test: Dataset({\n",
              "        features: ['text', 'sentiment', '__index_level_0__'],\n",
              "        num_rows: 4123\n",
              "    })\n",
              "})"
            ]
          },
          "execution_count": 29,
          "metadata": {},
          "output_type": "execute_result"
        }
      ],
      "source": [
        "dataset=DatasetDict()\n",
        "dataset['train']=Dataset.from_pandas(df_train)\n",
        "dataset['validation']=Dataset.from_pandas(df_valid)\n",
        "dataset['test']=Dataset.from_pandas(df_test)\n",
        "\n",
        "dataset"
      ]
    },
    {
      "attachments": {},
      "cell_type": "markdown",
      "metadata": {},
      "source": [
        "**Chuẩn hóa dữ liệu cho mô hình**"
      ]
    },
    {
      "cell_type": "code",
      "execution_count": 30,
      "metadata": {
        "id": "ELoLQa5QLR8y"
      },
      "outputs": [],
      "source": [
        "def tokenize_sentence(dataset):\n",
        "    return tokenizer(dataset['text'],truncation=True,max_length=160)"
      ]
    },
    {
      "cell_type": "code",
      "execution_count": 31,
      "metadata": {
        "colab": {
          "base_uri": "https://localhost:8080/",
          "height": 260,
          "referenced_widgets": [
            "50e40eadef3a4b5b8233ee23f60340b1",
            "b58dc6a22dac4baba687b34e21a41df6",
            "d331ba6e14fd4cd1b199c7062eb4446f",
            "1c92c35dcfa74668baa611e066cee376",
            "7931a158e5af4f18853b47420ae21968",
            "3f0941b6e2cb485d9b99b9246fb51d2a",
            "363a2b0b36394f7c9deddf40e150bc70",
            "ceb8cf1814fb4773a3a69db073c74d9c",
            "a989f49ba96b4c63a2b0935a0abfcbd6",
            "032a603af5cd4996836f227913b4d66c",
            "7ca3c06d229f4990ada79019e60f0ba0",
            "235437d7752c42df9252cb3ff04349b5",
            "156ca8dfac9e4b9ea1bea43e12bef04b",
            "ebc02a54a66c4073bb01abbbe1b71a57",
            "77480f7925294dc39ae65cba0d162475",
            "ab54c506ea164c3192c3b5ee5483c665",
            "c25d5d8c75d048e09c3ef0af72afda67",
            "f6afc0cbe602430d90d66a02a2a865b2",
            "afa19cb24103493483d278c6f10559d9",
            "0b0100874d694506887270a1fe570287",
            "0ec55cb6d17349018bf26afcc0e9bdee",
            "59f46496ce644d2a8fda93b536886894",
            "83fe3a090c7744acb91fbff876f82844",
            "f8ded0d031e242c5992f5c0857882ea0",
            "3497480ecc9149ed8ddb909c906e7097",
            "1df283e9852b4b0abf0f9da90918fa05",
            "215033bd0348414ab0565b659159b470",
            "81d1202e7a604162b40f2a3aeead8830",
            "22173c7c0636435e8639a665f3c3c064",
            "311bb0f7e6f2409daed731d8852d2da9",
            "3dc7a5e399f548d7b3310fe6fd861188",
            "dd7d51ced90f44a6a2bc8c3a383fecb6",
            "6567760330354251ac88d1cedbd3af17"
          ]
        },
        "id": "uE_e_ln4-_BC",
        "outputId": "a93de8d2-5180-4b77-d963-00de37812331"
      },
      "outputs": [
        {
          "name": "stderr",
          "output_type": "stream",
          "text": [
            "                                                                   \r"
          ]
        },
        {
          "data": {
            "text/plain": [
              "DatasetDict({\n",
              "    train: Dataset({\n",
              "        features: ['text', 'sentiment', '__index_level_0__', 'input_ids', 'attention_mask'],\n",
              "        num_rows: 19236\n",
              "    })\n",
              "    validation: Dataset({\n",
              "        features: ['text', 'sentiment', '__index_level_0__', 'input_ids', 'attention_mask'],\n",
              "        num_rows: 4122\n",
              "    })\n",
              "    test: Dataset({\n",
              "        features: ['text', 'sentiment', '__index_level_0__', 'input_ids', 'attention_mask'],\n",
              "        num_rows: 4123\n",
              "    })\n",
              "})"
            ]
          },
          "execution_count": 31,
          "metadata": {},
          "output_type": "execute_result"
        }
      ],
      "source": [
        "tokenized_sentence=dataset.map(tokenize_sentence,batched=True)\n",
        "tokenized_sentence"
      ]
    },
    {
      "cell_type": "code",
      "execution_count": 32,
      "metadata": {
        "id": "Df9ZCL0D-_BC"
      },
      "outputs": [],
      "source": [
        "tokenized_sentence=tokenized_sentence.rename_column('sentiment','labels')"
      ]
    },
    {
      "attachments": {},
      "cell_type": "markdown",
      "metadata": {},
      "source": [
        "**Tính toán trọng số cho hàm mất mát dữ liệu**"
      ]
    },
    {
      "cell_type": "code",
      "execution_count": 33,
      "metadata": {
        "colab": {
          "base_uri": "https://localhost:8080/"
        },
        "id": "kVHnVqCU-_BC",
        "outputId": "ebd82401-7a5a-4104-e2a8-879febf5b62a"
      },
      "outputs": [
        {
          "data": {
            "text/plain": [
              "array([0.71704096, 0.59726554, 0.68569349])"
            ]
          },
          "execution_count": 33,
          "metadata": {},
          "output_type": "execute_result"
        }
      ],
      "source": [
        "class_weights=(1-(df_train['sentiment'].value_counts().sort_index()/len(df_train))).values\n",
        "class_weights"
      ]
    },
    {
      "cell_type": "code",
      "execution_count": 34,
      "metadata": {
        "id": "Nn8KkqEW-_BC"
      },
      "outputs": [],
      "source": [
        "class_weights=torch.from_numpy(class_weights).float().to('cuda')"
      ]
    },
    {
      "attachments": {},
      "cell_type": "markdown",
      "metadata": {},
      "source": [
        "**Tính toán mất mát dữ liệu**"
      ]
    },
    {
      "cell_type": "code",
      "execution_count": 35,
      "metadata": {
        "id": "xdOuLBbd-_BD"
      },
      "outputs": [],
      "source": [
        "class WeightedLossTrainer(Trainer):\n",
        "    def compute_loss(self,model,inputs,return_outputs=False):\n",
        "\n",
        "\n",
        "        outputs=model(**inputs)\n",
        "\n",
        "        logits=outputs.get('logits')\n",
        "\n",
        "        labels=inputs.get('labels')\n",
        "\n",
        "        loss_func=nn.CrossEntropyLoss(weight=class_weights)\n",
        "        loss=loss_func(logits,labels)\n",
        "        return (loss,outputs) if return_outputs else loss\n"
      ]
    },
    {
      "attachments": {},
      "cell_type": "markdown",
      "metadata": {},
      "source": [
        "**Khởi tạo mô hình `pre_trained`**"
      ]
    },
    {
      "cell_type": "code",
      "execution_count": 36,
      "metadata": {
        "colab": {
          "base_uri": "https://localhost:8080/",
          "height": 156,
          "referenced_widgets": [
            "9af4374530a84518bfb57c2ebf0a63ce",
            "2ab08a3321124d3ea8571a95ab696c35",
            "d0ecf31cf2714d488ebca0829e2fc07f",
            "4a578e304c194e5d8dfe8bd1b613ca5b",
            "e722f9fc2b8c41e1a920567b2e29a539",
            "4937c2c422b64ce68539c6b1ced11d22",
            "7886dcc57e4b41fa899d2920f021cef8",
            "dbd8daea50254ead9c11aaa5580df57d",
            "85a25881a8814582be954a57b4152305",
            "c519f77474ce40019bf3eb1386c88818",
            "2794dbb588bd4e6f8665d44a255c671d"
          ]
        },
        "id": "kkA3avlf-_BD",
        "outputId": "c58b395c-5d7b-49c8-8b0f-d614996b71c0"
      },
      "outputs": [
        {
          "name": "stderr",
          "output_type": "stream",
          "text": [
            "Downloading model.safetensors: 100%|██████████| 268M/268M [00:09<00:00, 27.7MB/s] \n",
            "Some weights of the model checkpoint at distilbert-base-uncased were not used when initializing DistilBertForSequenceClassification: ['vocab_transform.weight', 'vocab_layer_norm.bias', 'vocab_transform.bias', 'vocab_projector.bias', 'vocab_layer_norm.weight']\n",
            "- This IS expected if you are initializing DistilBertForSequenceClassification from the checkpoint of a model trained on another task or with another architecture (e.g. initializing a BertForSequenceClassification model from a BertForPreTraining model).\n",
            "- This IS NOT expected if you are initializing DistilBertForSequenceClassification from the checkpoint of a model that you expect to be exactly identical (initializing a BertForSequenceClassification model from a BertForSequenceClassification model).\n",
            "Some weights of DistilBertForSequenceClassification were not initialized from the model checkpoint at distilbert-base-uncased and are newly initialized: ['classifier.bias', 'pre_classifier.bias', 'pre_classifier.weight', 'classifier.weight']\n",
            "You should probably TRAIN this model on a down-stream task to be able to use it for predictions and inference.\n"
          ]
        }
      ],
      "source": [
        "model = AutoModelForSequenceClassification.from_pretrained(PRE_TRAINED_MODEL_NAME,num_labels=3)"
      ]
    },
    {
      "attachments": {},
      "cell_type": "markdown",
      "metadata": {},
      "source": [
        "**Xây dựng hàm tính toán độ đo `f1`**"
      ]
    },
    {
      "cell_type": "code",
      "execution_count": 37,
      "metadata": {
        "id": "29sV_Saj-_BE"
      },
      "outputs": [],
      "source": [
        "def compute_metrics(pred):\n",
        "    labels=pred.label_ids\n",
        "    preds=pred.predictions.argmax(-1)\n",
        "    f1=f1_score(labels,preds,average='weighted')\n",
        "    return {\"f1\":f1}"
      ]
    },
    {
      "attachments": {},
      "cell_type": "markdown",
      "metadata": {
        "id": "rFNjA2KySG5y"
      },
      "source": [
        "### <font color=#0404B4>4. Train model</font>"
      ]
    },
    {
      "attachments": {},
      "cell_type": "markdown",
      "metadata": {},
      "source": [
        "**Khởi tạo các tham số để huấn luyện mô hình**"
      ]
    },
    {
      "cell_type": "code",
      "execution_count": 38,
      "metadata": {
        "id": "QWgjss2m-_BE"
      },
      "outputs": [],
      "source": [
        "batch_size=64\n",
        "logging_steps=100\n",
        "output_dir='../Model_saved'\n",
        "training_args=TrainingArguments(output_dir=output_dir,\n",
        "                                num_train_epochs=10,\n",
        "                                learning_rate=2e-5,\n",
        "                                per_device_train_batch_size=batch_size,\n",
        "                                per_device_eval_batch_size=batch_size,\n",
        "                                weight_decay=0.01,\n",
        "                                evaluation_strategy='epoch',\n",
        "                                load_best_model_at_end=True,\n",
        "                                logging_steps=logging_steps,\n",
        "                                save_strategy = \"epoch\")"
      ]
    },
    {
      "attachments": {},
      "cell_type": "markdown",
      "metadata": {},
      "source": [
        "**Xây dựng mô hình huấn luyện**"
      ]
    },
    {
      "cell_type": "code",
      "execution_count": 39,
      "metadata": {
        "id": "Q_ukfd0a-_BF"
      },
      "outputs": [],
      "source": [
        "trainer=WeightedLossTrainer(model=model,\n",
        "                            args=training_args,\n",
        "                            compute_metrics=compute_metrics,\n",
        "                            train_dataset=tokenized_sentence['train'],\n",
        "                            eval_dataset=tokenized_sentence['validation'],\n",
        "                            tokenizer=tokenizer)"
      ]
    },
    {
      "cell_type": "code",
      "execution_count": null,
      "metadata": {
        "colab": {
          "base_uri": "https://localhost:8080/",
          "height": 496
        },
        "id": "2Dt6xlQnUSZV",
        "outputId": "dedb34fc-0482-4d2a-fcd3-85b4a343d99c"
      },
      "outputs": [
        {
          "name": "stderr",
          "output_type": "stream",
          "text": [
            "/usr/local/lib/python3.10/dist-packages/transformers/optimization.py:411: FutureWarning: This implementation of AdamW is deprecated and will be removed in a future version. Use the PyTorch implementation torch.optim.AdamW instead, or set `no_deprecation_warning=True` to disable this warning\n",
            "  warnings.warn(\n",
            "You're using a DistilBertTokenizerFast tokenizer. Please note that with a fast tokenizer, using the `__call__` method is faster than using a method to encode the text followed by a call to the `pad` method to get a padded encoding.\n"
          ]
        },
        {
          "data": {
            "text/html": [
              "\n",
              "    <div>\n",
              "      \n",
              "      <progress value='3010' max='3010' style='width:300px; height:20px; vertical-align: middle;'></progress>\n",
              "      [3010/3010 22:25, Epoch 10/10]\n",
              "    </div>\n",
              "    <table border=\"1\" class=\"dataframe\">\n",
              "  <thead>\n",
              " <tr style=\"text-align: left;\">\n",
              "      <th>Epoch</th>\n",
              "      <th>Training Loss</th>\n",
              "      <th>Validation Loss</th>\n",
              "      <th>F1</th>\n",
              "    </tr>\n",
              "  </thead>\n",
              "  <tbody>\n",
              "    <tr>\n",
              "      <td>1</td>\n",
              "      <td>0.279200</td>\n",
              "      <td>0.290219</td>\n",
              "      <td>0.903979</td>\n",
              "    </tr>\n",
              "    <tr>\n",
              "      <td>2</td>\n",
              "      <td>0.231600</td>\n",
              "      <td>0.253727</td>\n",
              "      <td>0.917662</td>\n",
              "    </tr>\n",
              "    <tr>\n",
              "      <td>3</td>\n",
              "      <td>0.156200</td>\n",
              "      <td>0.273663</td>\n",
              "      <td>0.913420</td>\n",
              "    </tr>\n",
              "    <tr>\n",
              "      <td>4</td>\n",
              "      <td>0.110300</td>\n",
              "      <td>0.331571</td>\n",
              "      <td>0.907412</td>\n",
              "    </tr>\n",
              "    <tr>\n",
              "      <td>5</td>\n",
              "      <td>0.074400</td>\n",
              "      <td>0.362436</td>\n",
              "      <td>0.904630</td>\n",
              "    </tr>\n",
              "    <tr>\n",
              "      <td>6</td>\n",
              "      <td>0.051300</td>\n",
              "      <td>0.417716</td>\n",
              "      <td>0.907589</td>\n",
              "    </tr>\n",
              "    <tr>\n",
              "      <td>7</td>\n",
              "      <td>0.041700</td>\n",
              "      <td>0.430052</td>\n",
              "      <td>0.906566</td>\n",
              "    </tr>\n",
              "    <tr>\n",
              "      <td>8</td>\n",
              "      <td>0.033400</td>\n",
              "      <td>0.459850</td>\n",
              "      <td>0.903258</td>\n",
              "    </tr>\n",
              "    <tr>\n",
              "      <td>9</td>\n",
              "      <td>0.028700</td>\n",
              "      <td>0.467335</td>\n",
              "      <td>0.906840</td>\n",
              "    </tr>\n",
              "    <tr>\n",
              "      <td>10</td>\n",
              "      <td>0.019200</td>\n",
              "      <td>0.466173</td>\n",
              "      <td>0.909206</td>\n",
              "    </tr>\n",
              "  </tbody>\n",
              "</table><p>"
            ],
            "text/plain": [
              "<IPython.core.display.HTML object>"
            ]
          },
          "metadata": {},
          "output_type": "display_data"
        },
        {
          "data": {
            "text/plain": [
              "TrainOutput(global_step=3010, training_loss=0.11446973427981633, metrics={'train_runtime': 1346.5655, 'train_samples_per_second': 142.852, 'train_steps_per_second': 2.235, 'total_flos': 3855147404360544.0, 'train_loss': 0.11446973427981633, 'epoch': 10.0})"
            ]
          },
          "execution_count": 41,
          "metadata": {},
          "output_type": "execute_result"
        }
      ],
      "source": [
        "trainer.train()"
      ]
    },
    {
      "attachments": {},
      "cell_type": "markdown",
      "metadata": {
        "id": "jhSP2glCSG54"
      },
      "source": [
        "![image](images/result.png)"
      ]
    },
    {
      "cell_type": "code",
      "execution_count": null,
      "metadata": {
        "colab": {
          "base_uri": "https://localhost:8080/",
          "height": 17
        },
        "id": "Um2zaLScxVlK",
        "outputId": "1eddc084-3432-4621-9e34-40a657d181f2"
      },
      "outputs": [
        {
          "data": {
            "text/html": [],
            "text/plain": [
              "<IPython.core.display.HTML object>"
            ]
          },
          "metadata": {},
          "output_type": "display_data"
        }
      ],
      "source": [
        "y_test_predict = trainer.predict(tokenized_sentence['test'])\n",
        "y_test_logits = y_test_predict.predictions\n",
        "y_test_probabilities = tf.nn.softmax(y_test_logits)\n",
        "y_test_pred_labels = np.argmax(y_test_probabilities, axis=1)"
      ]
    },
    {
      "cell_type": "code",
      "execution_count": null,
      "metadata": {
        "colab": {
          "base_uri": "https://localhost:8080/"
        },
        "id": "VjTjlmUmxcaQ",
        "outputId": "26f1af93-0762-42b9-925c-d3306ba9d059"
      },
      "outputs": [
        {
          "name": "stdout",
          "output_type": "stream",
          "text": [
            "              precision    recall  f1-score   support\n",
            "\n",
            "           0       0.91      0.88      0.90      1154\n",
            "           1       0.89      0.95      0.92      1685\n",
            "           2       0.95      0.90      0.92      1284\n",
            "\n",
            "    accuracy                           0.91      4123\n",
            "   macro avg       0.92      0.91      0.91      4123\n",
            "weighted avg       0.92      0.91      0.91      4123\n",
            "\n"
          ]
        }
      ],
      "source": [
        "target_names = ['negative','neutral','positive']\n",
        "print(classification_report(df_test['sentiment'], y_test_pred_labels))"
      ]
    },
    {
      "attachments": {},
      "cell_type": "markdown",
      "metadata": {
        "id": "M9yYCdGBSG56"
      },
      "source": [
        "- Nhận xét:\n",
        "    - Mô hình có độ chính xác (accuracy) trên tập dữ liệu test là 0.91, có nghĩa là mô hình dự đoán đúng khoảng 91% các trường hợp trong tập dữ liệu test.\n",
        "    - Trong số ba lớp được dự đoán, lớp 1 (Neutral) có độ recall cao nhất nhưng ngược lại, lại có precision nhỏ nhất, có nghĩa là mô hình đang phân loại nhiều điểm vào lớp đó và có thể gây ra những sai sót trong việc quyết định. Lớp 0 (Negative) có độ recall thấp nhất (0.88), có nghĩa là mô hình dễ nhầm lẫn các trường hợp thuộc lớp này với lớp khác.\n",
        "    - Từ các giá trị precision, recall và f1-score của mô hình đều khá cao và ở mức tương đương, cho thấy khả năng dự đoán của mô hình đồng đều trên các lớp.\n",
        "\n",
        "&rarr; Mô hình tốt"
      ]
    },
    {
      "attachments": {},
      "cell_type": "markdown",
      "metadata": {
        "id": "lTLbITXrSG57"
      },
      "source": [
        "Lưu mô hình đã huấn luyện"
      ]
    },
    {
      "cell_type": "code",
      "execution_count": null,
      "metadata": {
        "id": "yIUQ69ZVDgFN"
      },
      "outputs": [],
      "source": [
        "trainer.save_model('sentiment_analysis_tweet')"
      ]
    }
  ],
  "metadata": {
    "accelerator": "GPU",
    "colab": {
      "gpuType": "T4",
      "provenance": []
    },
    "kernelspec": {
      "display_name": "Python 3",
      "name": "python3"
    },
    "language_info": {
      "codemirror_mode": {
        "name": "ipython",
        "version": 3
      },
      "file_extension": ".py",
      "mimetype": "text/x-python",
      "name": "python",
      "nbconvert_exporter": "python",
      "pygments_lexer": "ipython3",
      "version": "3.9.7"
    },
    "widgets": {
      "application/vnd.jupyter.widget-state+json": {
        "01d32ed7c0eb4a73a79d8bb36a2eeae1": {
          "model_module": "@jupyter-widgets/controls",
          "model_module_version": "1.5.0",
          "model_name": "HTMLModel",
          "state": {
            "_dom_classes": [],
            "_model_module": "@jupyter-widgets/controls",
            "_model_module_version": "1.5.0",
            "_model_name": "HTMLModel",
            "_view_count": null,
            "_view_module": "@jupyter-widgets/controls",
            "_view_module_version": "1.5.0",
            "_view_name": "HTMLView",
            "description": "",
            "description_tooltip": null,
            "layout": "IPY_MODEL_0e014b4edff54830b3418682b92760fa",
            "placeholder": "​",
            "style": "IPY_MODEL_2e371b22771f444c956999cfa8fb02dc",
            "value": "Downloading (…)/main/tokenizer.json: 100%"
          }
        },
        "032a603af5cd4996836f227913b4d66c": {
          "model_module": "@jupyter-widgets/base",
          "model_module_version": "1.2.0",
          "model_name": "LayoutModel",
          "state": {
            "_model_module": "@jupyter-widgets/base",
            "_model_module_version": "1.2.0",
            "_model_name": "LayoutModel",
            "_view_count": null,
            "_view_module": "@jupyter-widgets/base",
            "_view_module_version": "1.2.0",
            "_view_name": "LayoutView",
            "align_content": null,
            "align_items": null,
            "align_self": null,
            "border": null,
            "bottom": null,
            "display": null,
            "flex": null,
            "flex_flow": null,
            "grid_area": null,
            "grid_auto_columns": null,
            "grid_auto_flow": null,
            "grid_auto_rows": null,
            "grid_column": null,
            "grid_gap": null,
            "grid_row": null,
            "grid_template_areas": null,
            "grid_template_columns": null,
            "grid_template_rows": null,
            "height": null,
            "justify_content": null,
            "justify_items": null,
            "left": null,
            "margin": null,
            "max_height": null,
            "max_width": null,
            "min_height": null,
            "min_width": null,
            "object_fit": null,
            "object_position": null,
            "order": null,
            "overflow": null,
            "overflow_x": null,
            "overflow_y": null,
            "padding": null,
            "right": null,
            "top": null,
            "visibility": null,
            "width": null
          }
        },
        "04fc736d5de14cd3bc11a46c00662f84": {
          "model_module": "@jupyter-widgets/controls",
          "model_module_version": "1.5.0",
          "model_name": "ProgressStyleModel",
          "state": {
            "_model_module": "@jupyter-widgets/controls",
            "_model_module_version": "1.5.0",
            "_model_name": "ProgressStyleModel",
            "_view_count": null,
            "_view_module": "@jupyter-widgets/base",
            "_view_module_version": "1.2.0",
            "_view_name": "StyleView",
            "bar_color": null,
            "description_width": ""
          }
        },
        "097f02375567489fb78dda9f9332c132": {
          "model_module": "@jupyter-widgets/controls",
          "model_module_version": "1.5.0",
          "model_name": "DescriptionStyleModel",
          "state": {
            "_model_module": "@jupyter-widgets/controls",
            "_model_module_version": "1.5.0",
            "_model_name": "DescriptionStyleModel",
            "_view_count": null,
            "_view_module": "@jupyter-widgets/base",
            "_view_module_version": "1.2.0",
            "_view_name": "StyleView",
            "description_width": ""
          }
        },
        "0b0100874d694506887270a1fe570287": {
          "model_module": "@jupyter-widgets/controls",
          "model_module_version": "1.5.0",
          "model_name": "ProgressStyleModel",
          "state": {
            "_model_module": "@jupyter-widgets/controls",
            "_model_module_version": "1.5.0",
            "_model_name": "ProgressStyleModel",
            "_view_count": null,
            "_view_module": "@jupyter-widgets/base",
            "_view_module_version": "1.2.0",
            "_view_name": "StyleView",
            "bar_color": null,
            "description_width": ""
          }
        },
        "0df31340129640ddb31e35ff3a2bde36": {
          "model_module": "@jupyter-widgets/controls",
          "model_module_version": "1.5.0",
          "model_name": "HBoxModel",
          "state": {
            "_dom_classes": [],
            "_model_module": "@jupyter-widgets/controls",
            "_model_module_version": "1.5.0",
            "_model_name": "HBoxModel",
            "_view_count": null,
            "_view_module": "@jupyter-widgets/controls",
            "_view_module_version": "1.5.0",
            "_view_name": "HBoxView",
            "box_style": "",
            "children": [
              "IPY_MODEL_54dbaf9d74a84c569a5d340be2dfdb26",
              "IPY_MODEL_3d1941aa3cad4cdd95b53f766d374b2b",
              "IPY_MODEL_f3c408f37a9e48b49d6482ce5b7eca80"
            ],
            "layout": "IPY_MODEL_f2574292b8944d20beb5d646313ac4e9"
          }
        },
        "0e014b4edff54830b3418682b92760fa": {
          "model_module": "@jupyter-widgets/base",
          "model_module_version": "1.2.0",
          "model_name": "LayoutModel",
          "state": {
            "_model_module": "@jupyter-widgets/base",
            "_model_module_version": "1.2.0",
            "_model_name": "LayoutModel",
            "_view_count": null,
            "_view_module": "@jupyter-widgets/base",
            "_view_module_version": "1.2.0",
            "_view_name": "LayoutView",
            "align_content": null,
            "align_items": null,
            "align_self": null,
            "border": null,
            "bottom": null,
            "display": null,
            "flex": null,
            "flex_flow": null,
            "grid_area": null,
            "grid_auto_columns": null,
            "grid_auto_flow": null,
            "grid_auto_rows": null,
            "grid_column": null,
            "grid_gap": null,
            "grid_row": null,
            "grid_template_areas": null,
            "grid_template_columns": null,
            "grid_template_rows": null,
            "height": null,
            "justify_content": null,
            "justify_items": null,
            "left": null,
            "margin": null,
            "max_height": null,
            "max_width": null,
            "min_height": null,
            "min_width": null,
            "object_fit": null,
            "object_position": null,
            "order": null,
            "overflow": null,
            "overflow_x": null,
            "overflow_y": null,
            "padding": null,
            "right": null,
            "top": null,
            "visibility": null,
            "width": null
          }
        },
        "0e5d3fe0e9784db1af4e90f524650cd3": {
          "model_module": "@jupyter-widgets/controls",
          "model_module_version": "1.5.0",
          "model_name": "HBoxModel",
          "state": {
            "_dom_classes": [],
            "_model_module": "@jupyter-widgets/controls",
            "_model_module_version": "1.5.0",
            "_model_name": "HBoxModel",
            "_view_count": null,
            "_view_module": "@jupyter-widgets/controls",
            "_view_module_version": "1.5.0",
            "_view_name": "HBoxView",
            "box_style": "",
            "children": [
              "IPY_MODEL_d4ffb131031d4a2394094e5da190a246",
              "IPY_MODEL_312c0b545e184b67956cf03ed3ac32d6",
              "IPY_MODEL_834c976d2d934fecad56dc5ad252c04c"
            ],
            "layout": "IPY_MODEL_2aad54388e994be29ad9171081cda4b0"
          }
        },
        "0ec55cb6d17349018bf26afcc0e9bdee": {
          "model_module": "@jupyter-widgets/base",
          "model_module_version": "1.2.0",
          "model_name": "LayoutModel",
          "state": {
            "_model_module": "@jupyter-widgets/base",
            "_model_module_version": "1.2.0",
            "_model_name": "LayoutModel",
            "_view_count": null,
            "_view_module": "@jupyter-widgets/base",
            "_view_module_version": "1.2.0",
            "_view_name": "LayoutView",
            "align_content": null,
            "align_items": null,
            "align_self": null,
            "border": null,
            "bottom": null,
            "display": null,
            "flex": null,
            "flex_flow": null,
            "grid_area": null,
            "grid_auto_columns": null,
            "grid_auto_flow": null,
            "grid_auto_rows": null,
            "grid_column": null,
            "grid_gap": null,
            "grid_row": null,
            "grid_template_areas": null,
            "grid_template_columns": null,
            "grid_template_rows": null,
            "height": null,
            "justify_content": null,
            "justify_items": null,
            "left": null,
            "margin": null,
            "max_height": null,
            "max_width": null,
            "min_height": null,
            "min_width": null,
            "object_fit": null,
            "object_position": null,
            "order": null,
            "overflow": null,
            "overflow_x": null,
            "overflow_y": null,
            "padding": null,
            "right": null,
            "top": null,
            "visibility": null,
            "width": null
          }
        },
        "1125a9cac332412aa0b64081ff75ef3a": {
          "model_module": "@jupyter-widgets/base",
          "model_module_version": "1.2.0",
          "model_name": "LayoutModel",
          "state": {
            "_model_module": "@jupyter-widgets/base",
            "_model_module_version": "1.2.0",
            "_model_name": "LayoutModel",
            "_view_count": null,
            "_view_module": "@jupyter-widgets/base",
            "_view_module_version": "1.2.0",
            "_view_name": "LayoutView",
            "align_content": null,
            "align_items": null,
            "align_self": null,
            "border": null,
            "bottom": null,
            "display": null,
            "flex": null,
            "flex_flow": null,
            "grid_area": null,
            "grid_auto_columns": null,
            "grid_auto_flow": null,
            "grid_auto_rows": null,
            "grid_column": null,
            "grid_gap": null,
            "grid_row": null,
            "grid_template_areas": null,
            "grid_template_columns": null,
            "grid_template_rows": null,
            "height": null,
            "justify_content": null,
            "justify_items": null,
            "left": null,
            "margin": null,
            "max_height": null,
            "max_width": null,
            "min_height": null,
            "min_width": null,
            "object_fit": null,
            "object_position": null,
            "order": null,
            "overflow": null,
            "overflow_x": null,
            "overflow_y": null,
            "padding": null,
            "right": null,
            "top": null,
            "visibility": null,
            "width": null
          }
        },
        "156ca8dfac9e4b9ea1bea43e12bef04b": {
          "model_module": "@jupyter-widgets/controls",
          "model_module_version": "1.5.0",
          "model_name": "HTMLModel",
          "state": {
            "_dom_classes": [],
            "_model_module": "@jupyter-widgets/controls",
            "_model_module_version": "1.5.0",
            "_model_name": "HTMLModel",
            "_view_count": null,
            "_view_module": "@jupyter-widgets/controls",
            "_view_module_version": "1.5.0",
            "_view_name": "HTMLView",
            "description": "",
            "description_tooltip": null,
            "layout": "IPY_MODEL_c25d5d8c75d048e09c3ef0af72afda67",
            "placeholder": "​",
            "style": "IPY_MODEL_f6afc0cbe602430d90d66a02a2a865b2",
            "value": "Map:  97%"
          }
        },
        "1c5d032ca2cd4abeb73ca46c333f356b": {
          "model_module": "@jupyter-widgets/controls",
          "model_module_version": "1.5.0",
          "model_name": "FloatProgressModel",
          "state": {
            "_dom_classes": [],
            "_model_module": "@jupyter-widgets/controls",
            "_model_module_version": "1.5.0",
            "_model_name": "FloatProgressModel",
            "_view_count": null,
            "_view_module": "@jupyter-widgets/controls",
            "_view_module_version": "1.5.0",
            "_view_name": "ProgressView",
            "bar_style": "success",
            "description": "",
            "description_tooltip": null,
            "layout": "IPY_MODEL_26d0fbefc3774a86873ac347831ba93e",
            "max": 483,
            "min": 0,
            "orientation": "horizontal",
            "style": "IPY_MODEL_04fc736d5de14cd3bc11a46c00662f84",
            "value": 483
          }
        },
        "1c92c35dcfa74668baa611e066cee376": {
          "model_module": "@jupyter-widgets/controls",
          "model_module_version": "1.5.0",
          "model_name": "HTMLModel",
          "state": {
            "_dom_classes": [],
            "_model_module": "@jupyter-widgets/controls",
            "_model_module_version": "1.5.0",
            "_model_name": "HTMLModel",
            "_view_count": null,
            "_view_module": "@jupyter-widgets/controls",
            "_view_module_version": "1.5.0",
            "_view_name": "HTMLView",
            "description": "",
            "description_tooltip": null,
            "layout": "IPY_MODEL_032a603af5cd4996836f227913b4d66c",
            "placeholder": "​",
            "style": "IPY_MODEL_7ca3c06d229f4990ada79019e60f0ba0",
            "value": " 19000/19236 [00:03&lt;00:00, 7202.60 examples/s]"
          }
        },
        "1df283e9852b4b0abf0f9da90918fa05": {
          "model_module": "@jupyter-widgets/controls",
          "model_module_version": "1.5.0",
          "model_name": "HTMLModel",
          "state": {
            "_dom_classes": [],
            "_model_module": "@jupyter-widgets/controls",
            "_model_module_version": "1.5.0",
            "_model_name": "HTMLModel",
            "_view_count": null,
            "_view_module": "@jupyter-widgets/controls",
            "_view_module_version": "1.5.0",
            "_view_name": "HTMLView",
            "description": "",
            "description_tooltip": null,
            "layout": "IPY_MODEL_dd7d51ced90f44a6a2bc8c3a383fecb6",
            "placeholder": "​",
            "style": "IPY_MODEL_6567760330354251ac88d1cedbd3af17",
            "value": " 4000/4123 [00:00&lt;00:00, 8002.96 examples/s]"
          }
        },
        "1e5ba0b03e424b75bf475917d18633a1": {
          "model_module": "@jupyter-widgets/base",
          "model_module_version": "1.2.0",
          "model_name": "LayoutModel",
          "state": {
            "_model_module": "@jupyter-widgets/base",
            "_model_module_version": "1.2.0",
            "_model_name": "LayoutModel",
            "_view_count": null,
            "_view_module": "@jupyter-widgets/base",
            "_view_module_version": "1.2.0",
            "_view_name": "LayoutView",
            "align_content": null,
            "align_items": null,
            "align_self": null,
            "border": null,
            "bottom": null,
            "display": null,
            "flex": null,
            "flex_flow": null,
            "grid_area": null,
            "grid_auto_columns": null,
            "grid_auto_flow": null,
            "grid_auto_rows": null,
            "grid_column": null,
            "grid_gap": null,
            "grid_row": null,
            "grid_template_areas": null,
            "grid_template_columns": null,
            "grid_template_rows": null,
            "height": null,
            "justify_content": null,
            "justify_items": null,
            "left": null,
            "margin": null,
            "max_height": null,
            "max_width": null,
            "min_height": null,
            "min_width": null,
            "object_fit": null,
            "object_position": null,
            "order": null,
            "overflow": null,
            "overflow_x": null,
            "overflow_y": null,
            "padding": null,
            "right": null,
            "top": null,
            "visibility": null,
            "width": null
          }
        },
        "20098d63d22c43dcb93c785db8713965": {
          "model_module": "@jupyter-widgets/base",
          "model_module_version": "1.2.0",
          "model_name": "LayoutModel",
          "state": {
            "_model_module": "@jupyter-widgets/base",
            "_model_module_version": "1.2.0",
            "_model_name": "LayoutModel",
            "_view_count": null,
            "_view_module": "@jupyter-widgets/base",
            "_view_module_version": "1.2.0",
            "_view_name": "LayoutView",
            "align_content": null,
            "align_items": null,
            "align_self": null,
            "border": null,
            "bottom": null,
            "display": null,
            "flex": null,
            "flex_flow": null,
            "grid_area": null,
            "grid_auto_columns": null,
            "grid_auto_flow": null,
            "grid_auto_rows": null,
            "grid_column": null,
            "grid_gap": null,
            "grid_row": null,
            "grid_template_areas": null,
            "grid_template_columns": null,
            "grid_template_rows": null,
            "height": null,
            "justify_content": null,
            "justify_items": null,
            "left": null,
            "margin": null,
            "max_height": null,
            "max_width": null,
            "min_height": null,
            "min_width": null,
            "object_fit": null,
            "object_position": null,
            "order": null,
            "overflow": null,
            "overflow_x": null,
            "overflow_y": null,
            "padding": null,
            "right": null,
            "top": null,
            "visibility": null,
            "width": null
          }
        },
        "215033bd0348414ab0565b659159b470": {
          "model_module": "@jupyter-widgets/base",
          "model_module_version": "1.2.0",
          "model_name": "LayoutModel",
          "state": {
            "_model_module": "@jupyter-widgets/base",
            "_model_module_version": "1.2.0",
            "_model_name": "LayoutModel",
            "_view_count": null,
            "_view_module": "@jupyter-widgets/base",
            "_view_module_version": "1.2.0",
            "_view_name": "LayoutView",
            "align_content": null,
            "align_items": null,
            "align_self": null,
            "border": null,
            "bottom": null,
            "display": null,
            "flex": null,
            "flex_flow": null,
            "grid_area": null,
            "grid_auto_columns": null,
            "grid_auto_flow": null,
            "grid_auto_rows": null,
            "grid_column": null,
            "grid_gap": null,
            "grid_row": null,
            "grid_template_areas": null,
            "grid_template_columns": null,
            "grid_template_rows": null,
            "height": null,
            "justify_content": null,
            "justify_items": null,
            "left": null,
            "margin": null,
            "max_height": null,
            "max_width": null,
            "min_height": null,
            "min_width": null,
            "object_fit": null,
            "object_position": null,
            "order": null,
            "overflow": null,
            "overflow_x": null,
            "overflow_y": null,
            "padding": null,
            "right": null,
            "top": null,
            "visibility": "hidden",
            "width": null
          }
        },
        "22173c7c0636435e8639a665f3c3c064": {
          "model_module": "@jupyter-widgets/controls",
          "model_module_version": "1.5.0",
          "model_name": "DescriptionStyleModel",
          "state": {
            "_model_module": "@jupyter-widgets/controls",
            "_model_module_version": "1.5.0",
            "_model_name": "DescriptionStyleModel",
            "_view_count": null,
            "_view_module": "@jupyter-widgets/base",
            "_view_module_version": "1.2.0",
            "_view_name": "StyleView",
            "description_width": ""
          }
        },
        "235437d7752c42df9252cb3ff04349b5": {
          "model_module": "@jupyter-widgets/controls",
          "model_module_version": "1.5.0",
          "model_name": "HBoxModel",
          "state": {
            "_dom_classes": [],
            "_model_module": "@jupyter-widgets/controls",
            "_model_module_version": "1.5.0",
            "_model_name": "HBoxModel",
            "_view_count": null,
            "_view_module": "@jupyter-widgets/controls",
            "_view_module_version": "1.5.0",
            "_view_name": "HBoxView",
            "box_style": "",
            "children": [
              "IPY_MODEL_156ca8dfac9e4b9ea1bea43e12bef04b",
              "IPY_MODEL_ebc02a54a66c4073bb01abbbe1b71a57",
              "IPY_MODEL_77480f7925294dc39ae65cba0d162475"
            ],
            "layout": "IPY_MODEL_ab54c506ea164c3192c3b5ee5483c665"
          }
        },
        "260c9a4d285b4a93a3dfbf656a8e5a0b": {
          "model_module": "@jupyter-widgets/base",
          "model_module_version": "1.2.0",
          "model_name": "LayoutModel",
          "state": {
            "_model_module": "@jupyter-widgets/base",
            "_model_module_version": "1.2.0",
            "_model_name": "LayoutModel",
            "_view_count": null,
            "_view_module": "@jupyter-widgets/base",
            "_view_module_version": "1.2.0",
            "_view_name": "LayoutView",
            "align_content": null,
            "align_items": null,
            "align_self": null,
            "border": null,
            "bottom": null,
            "display": null,
            "flex": null,
            "flex_flow": null,
            "grid_area": null,
            "grid_auto_columns": null,
            "grid_auto_flow": null,
            "grid_auto_rows": null,
            "grid_column": null,
            "grid_gap": null,
            "grid_row": null,
            "grid_template_areas": null,
            "grid_template_columns": null,
            "grid_template_rows": null,
            "height": null,
            "justify_content": null,
            "justify_items": null,
            "left": null,
            "margin": null,
            "max_height": null,
            "max_width": null,
            "min_height": null,
            "min_width": null,
            "object_fit": null,
            "object_position": null,
            "order": null,
            "overflow": null,
            "overflow_x": null,
            "overflow_y": null,
            "padding": null,
            "right": null,
            "top": null,
            "visibility": null,
            "width": null
          }
        },
        "26d0fbefc3774a86873ac347831ba93e": {
          "model_module": "@jupyter-widgets/base",
          "model_module_version": "1.2.0",
          "model_name": "LayoutModel",
          "state": {
            "_model_module": "@jupyter-widgets/base",
            "_model_module_version": "1.2.0",
            "_model_name": "LayoutModel",
            "_view_count": null,
            "_view_module": "@jupyter-widgets/base",
            "_view_module_version": "1.2.0",
            "_view_name": "LayoutView",
            "align_content": null,
            "align_items": null,
            "align_self": null,
            "border": null,
            "bottom": null,
            "display": null,
            "flex": null,
            "flex_flow": null,
            "grid_area": null,
            "grid_auto_columns": null,
            "grid_auto_flow": null,
            "grid_auto_rows": null,
            "grid_column": null,
            "grid_gap": null,
            "grid_row": null,
            "grid_template_areas": null,
            "grid_template_columns": null,
            "grid_template_rows": null,
            "height": null,
            "justify_content": null,
            "justify_items": null,
            "left": null,
            "margin": null,
            "max_height": null,
            "max_width": null,
            "min_height": null,
            "min_width": null,
            "object_fit": null,
            "object_position": null,
            "order": null,
            "overflow": null,
            "overflow_x": null,
            "overflow_y": null,
            "padding": null,
            "right": null,
            "top": null,
            "visibility": null,
            "width": null
          }
        },
        "2794dbb588bd4e6f8665d44a255c671d": {
          "model_module": "@jupyter-widgets/controls",
          "model_module_version": "1.5.0",
          "model_name": "DescriptionStyleModel",
          "state": {
            "_model_module": "@jupyter-widgets/controls",
            "_model_module_version": "1.5.0",
            "_model_name": "DescriptionStyleModel",
            "_view_count": null,
            "_view_module": "@jupyter-widgets/base",
            "_view_module_version": "1.2.0",
            "_view_name": "StyleView",
            "description_width": ""
          }
        },
        "2aad54388e994be29ad9171081cda4b0": {
          "model_module": "@jupyter-widgets/base",
          "model_module_version": "1.2.0",
          "model_name": "LayoutModel",
          "state": {
            "_model_module": "@jupyter-widgets/base",
            "_model_module_version": "1.2.0",
            "_model_name": "LayoutModel",
            "_view_count": null,
            "_view_module": "@jupyter-widgets/base",
            "_view_module_version": "1.2.0",
            "_view_name": "LayoutView",
            "align_content": null,
            "align_items": null,
            "align_self": null,
            "border": null,
            "bottom": null,
            "display": null,
            "flex": null,
            "flex_flow": null,
            "grid_area": null,
            "grid_auto_columns": null,
            "grid_auto_flow": null,
            "grid_auto_rows": null,
            "grid_column": null,
            "grid_gap": null,
            "grid_row": null,
            "grid_template_areas": null,
            "grid_template_columns": null,
            "grid_template_rows": null,
            "height": null,
            "justify_content": null,
            "justify_items": null,
            "left": null,
            "margin": null,
            "max_height": null,
            "max_width": null,
            "min_height": null,
            "min_width": null,
            "object_fit": null,
            "object_position": null,
            "order": null,
            "overflow": null,
            "overflow_x": null,
            "overflow_y": null,
            "padding": null,
            "right": null,
            "top": null,
            "visibility": null,
            "width": null
          }
        },
        "2ab08a3321124d3ea8571a95ab696c35": {
          "model_module": "@jupyter-widgets/controls",
          "model_module_version": "1.5.0",
          "model_name": "HTMLModel",
          "state": {
            "_dom_classes": [],
            "_model_module": "@jupyter-widgets/controls",
            "_model_module_version": "1.5.0",
            "_model_name": "HTMLModel",
            "_view_count": null,
            "_view_module": "@jupyter-widgets/controls",
            "_view_module_version": "1.5.0",
            "_view_name": "HTMLView",
            "description": "",
            "description_tooltip": null,
            "layout": "IPY_MODEL_4937c2c422b64ce68539c6b1ced11d22",
            "placeholder": "​",
            "style": "IPY_MODEL_7886dcc57e4b41fa899d2920f021cef8",
            "value": "Downloading model.safetensors: 100%"
          }
        },
        "2c0760a75c8540cc9854f5a16a35f5d4": {
          "model_module": "@jupyter-widgets/controls",
          "model_module_version": "1.5.0",
          "model_name": "HTMLModel",
          "state": {
            "_dom_classes": [],
            "_model_module": "@jupyter-widgets/controls",
            "_model_module_version": "1.5.0",
            "_model_name": "HTMLModel",
            "_view_count": null,
            "_view_module": "@jupyter-widgets/controls",
            "_view_module_version": "1.5.0",
            "_view_name": "HTMLView",
            "description": "",
            "description_tooltip": null,
            "layout": "IPY_MODEL_8ffeae0e7b954749b1068a44d12755f9",
            "placeholder": "​",
            "style": "IPY_MODEL_59716b6b28d646eeb1af64f505081012",
            "value": "100%"
          }
        },
        "2e371b22771f444c956999cfa8fb02dc": {
          "model_module": "@jupyter-widgets/controls",
          "model_module_version": "1.5.0",
          "model_name": "DescriptionStyleModel",
          "state": {
            "_model_module": "@jupyter-widgets/controls",
            "_model_module_version": "1.5.0",
            "_model_name": "DescriptionStyleModel",
            "_view_count": null,
            "_view_module": "@jupyter-widgets/base",
            "_view_module_version": "1.2.0",
            "_view_name": "StyleView",
            "description_width": ""
          }
        },
        "311bb0f7e6f2409daed731d8852d2da9": {
          "model_module": "@jupyter-widgets/base",
          "model_module_version": "1.2.0",
          "model_name": "LayoutModel",
          "state": {
            "_model_module": "@jupyter-widgets/base",
            "_model_module_version": "1.2.0",
            "_model_name": "LayoutModel",
            "_view_count": null,
            "_view_module": "@jupyter-widgets/base",
            "_view_module_version": "1.2.0",
            "_view_name": "LayoutView",
            "align_content": null,
            "align_items": null,
            "align_self": null,
            "border": null,
            "bottom": null,
            "display": null,
            "flex": null,
            "flex_flow": null,
            "grid_area": null,
            "grid_auto_columns": null,
            "grid_auto_flow": null,
            "grid_auto_rows": null,
            "grid_column": null,
            "grid_gap": null,
            "grid_row": null,
            "grid_template_areas": null,
            "grid_template_columns": null,
            "grid_template_rows": null,
            "height": null,
            "justify_content": null,
            "justify_items": null,
            "left": null,
            "margin": null,
            "max_height": null,
            "max_width": null,
            "min_height": null,
            "min_width": null,
            "object_fit": null,
            "object_position": null,
            "order": null,
            "overflow": null,
            "overflow_x": null,
            "overflow_y": null,
            "padding": null,
            "right": null,
            "top": null,
            "visibility": null,
            "width": null
          }
        },
        "312c0b545e184b67956cf03ed3ac32d6": {
          "model_module": "@jupyter-widgets/controls",
          "model_module_version": "1.5.0",
          "model_name": "FloatProgressModel",
          "state": {
            "_dom_classes": [],
            "_model_module": "@jupyter-widgets/controls",
            "_model_module_version": "1.5.0",
            "_model_name": "FloatProgressModel",
            "_view_count": null,
            "_view_module": "@jupyter-widgets/controls",
            "_view_module_version": "1.5.0",
            "_view_name": "ProgressView",
            "bar_style": "success",
            "description": "",
            "description_tooltip": null,
            "layout": "IPY_MODEL_caa0dd4ee91a444394a16903616b24fd",
            "max": 231508,
            "min": 0,
            "orientation": "horizontal",
            "style": "IPY_MODEL_50a010909a52499689ff9f9c8ffb1f85",
            "value": 231508
          }
        },
        "3497480ecc9149ed8ddb909c906e7097": {
          "model_module": "@jupyter-widgets/controls",
          "model_module_version": "1.5.0",
          "model_name": "FloatProgressModel",
          "state": {
            "_dom_classes": [],
            "_model_module": "@jupyter-widgets/controls",
            "_model_module_version": "1.5.0",
            "_model_name": "FloatProgressModel",
            "_view_count": null,
            "_view_module": "@jupyter-widgets/controls",
            "_view_module_version": "1.5.0",
            "_view_name": "ProgressView",
            "bar_style": "",
            "description": "",
            "description_tooltip": null,
            "layout": "IPY_MODEL_311bb0f7e6f2409daed731d8852d2da9",
            "max": 4123,
            "min": 0,
            "orientation": "horizontal",
            "style": "IPY_MODEL_3dc7a5e399f548d7b3310fe6fd861188",
            "value": 4123
          }
        },
        "358ff69179e24b159b0b39b6ce31deca": {
          "model_module": "@jupyter-widgets/base",
          "model_module_version": "1.2.0",
          "model_name": "LayoutModel",
          "state": {
            "_model_module": "@jupyter-widgets/base",
            "_model_module_version": "1.2.0",
            "_model_name": "LayoutModel",
            "_view_count": null,
            "_view_module": "@jupyter-widgets/base",
            "_view_module_version": "1.2.0",
            "_view_name": "LayoutView",
            "align_content": null,
            "align_items": null,
            "align_self": null,
            "border": null,
            "bottom": null,
            "display": null,
            "flex": null,
            "flex_flow": null,
            "grid_area": null,
            "grid_auto_columns": null,
            "grid_auto_flow": null,
            "grid_auto_rows": null,
            "grid_column": null,
            "grid_gap": null,
            "grid_row": null,
            "grid_template_areas": null,
            "grid_template_columns": null,
            "grid_template_rows": null,
            "height": null,
            "justify_content": null,
            "justify_items": null,
            "left": null,
            "margin": null,
            "max_height": null,
            "max_width": null,
            "min_height": null,
            "min_width": null,
            "object_fit": null,
            "object_position": null,
            "order": null,
            "overflow": null,
            "overflow_x": null,
            "overflow_y": null,
            "padding": null,
            "right": null,
            "top": null,
            "visibility": null,
            "width": null
          }
        },
        "363a2b0b36394f7c9deddf40e150bc70": {
          "model_module": "@jupyter-widgets/controls",
          "model_module_version": "1.5.0",
          "model_name": "DescriptionStyleModel",
          "state": {
            "_model_module": "@jupyter-widgets/controls",
            "_model_module_version": "1.5.0",
            "_model_name": "DescriptionStyleModel",
            "_view_count": null,
            "_view_module": "@jupyter-widgets/base",
            "_view_module_version": "1.2.0",
            "_view_name": "StyleView",
            "description_width": ""
          }
        },
        "3d1941aa3cad4cdd95b53f766d374b2b": {
          "model_module": "@jupyter-widgets/controls",
          "model_module_version": "1.5.0",
          "model_name": "FloatProgressModel",
          "state": {
            "_dom_classes": [],
            "_model_module": "@jupyter-widgets/controls",
            "_model_module_version": "1.5.0",
            "_model_name": "FloatProgressModel",
            "_view_count": null,
            "_view_module": "@jupyter-widgets/controls",
            "_view_module_version": "1.5.0",
            "_view_name": "ProgressView",
            "bar_style": "success",
            "description": "",
            "description_tooltip": null,
            "layout": "IPY_MODEL_eefab8de372648c4a5194eda36c73ec9",
            "max": 27481,
            "min": 0,
            "orientation": "horizontal",
            "style": "IPY_MODEL_6dbdfca7e9784dadaea85deb64948ce6",
            "value": 27481
          }
        },
        "3dc7a5e399f548d7b3310fe6fd861188": {
          "model_module": "@jupyter-widgets/controls",
          "model_module_version": "1.5.0",
          "model_name": "ProgressStyleModel",
          "state": {
            "_model_module": "@jupyter-widgets/controls",
            "_model_module_version": "1.5.0",
            "_model_name": "ProgressStyleModel",
            "_view_count": null,
            "_view_module": "@jupyter-widgets/base",
            "_view_module_version": "1.2.0",
            "_view_name": "StyleView",
            "bar_color": null,
            "description_width": ""
          }
        },
        "3e67f2093fc64499915bd825ca6aba6a": {
          "model_module": "@jupyter-widgets/controls",
          "model_module_version": "1.5.0",
          "model_name": "FloatProgressModel",
          "state": {
            "_dom_classes": [],
            "_model_module": "@jupyter-widgets/controls",
            "_model_module_version": "1.5.0",
            "_model_name": "FloatProgressModel",
            "_view_count": null,
            "_view_module": "@jupyter-widgets/controls",
            "_view_module_version": "1.5.0",
            "_view_name": "ProgressView",
            "bar_style": "success",
            "description": "",
            "description_tooltip": null,
            "layout": "IPY_MODEL_808a52127ff8455c9bc59a2ee2889388",
            "max": 27481,
            "min": 0,
            "orientation": "horizontal",
            "style": "IPY_MODEL_6693f312c989420987b3a8f882dba1de",
            "value": 27481
          }
        },
        "3f0941b6e2cb485d9b99b9246fb51d2a": {
          "model_module": "@jupyter-widgets/base",
          "model_module_version": "1.2.0",
          "model_name": "LayoutModel",
          "state": {
            "_model_module": "@jupyter-widgets/base",
            "_model_module_version": "1.2.0",
            "_model_name": "LayoutModel",
            "_view_count": null,
            "_view_module": "@jupyter-widgets/base",
            "_view_module_version": "1.2.0",
            "_view_name": "LayoutView",
            "align_content": null,
            "align_items": null,
            "align_self": null,
            "border": null,
            "bottom": null,
            "display": null,
            "flex": null,
            "flex_flow": null,
            "grid_area": null,
            "grid_auto_columns": null,
            "grid_auto_flow": null,
            "grid_auto_rows": null,
            "grid_column": null,
            "grid_gap": null,
            "grid_row": null,
            "grid_template_areas": null,
            "grid_template_columns": null,
            "grid_template_rows": null,
            "height": null,
            "justify_content": null,
            "justify_items": null,
            "left": null,
            "margin": null,
            "max_height": null,
            "max_width": null,
            "min_height": null,
            "min_width": null,
            "object_fit": null,
            "object_position": null,
            "order": null,
            "overflow": null,
            "overflow_x": null,
            "overflow_y": null,
            "padding": null,
            "right": null,
            "top": null,
            "visibility": null,
            "width": null
          }
        },
        "3f862444d55a48a889a6f9b26068df8d": {
          "model_module": "@jupyter-widgets/base",
          "model_module_version": "1.2.0",
          "model_name": "LayoutModel",
          "state": {
            "_model_module": "@jupyter-widgets/base",
            "_model_module_version": "1.2.0",
            "_model_name": "LayoutModel",
            "_view_count": null,
            "_view_module": "@jupyter-widgets/base",
            "_view_module_version": "1.2.0",
            "_view_name": "LayoutView",
            "align_content": null,
            "align_items": null,
            "align_self": null,
            "border": null,
            "bottom": null,
            "display": null,
            "flex": null,
            "flex_flow": null,
            "grid_area": null,
            "grid_auto_columns": null,
            "grid_auto_flow": null,
            "grid_auto_rows": null,
            "grid_column": null,
            "grid_gap": null,
            "grid_row": null,
            "grid_template_areas": null,
            "grid_template_columns": null,
            "grid_template_rows": null,
            "height": null,
            "justify_content": null,
            "justify_items": null,
            "left": null,
            "margin": null,
            "max_height": null,
            "max_width": null,
            "min_height": null,
            "min_width": null,
            "object_fit": null,
            "object_position": null,
            "order": null,
            "overflow": null,
            "overflow_x": null,
            "overflow_y": null,
            "padding": null,
            "right": null,
            "top": null,
            "visibility": null,
            "width": null
          }
        },
        "4053c25fc04441a0a9be2ca58d836880": {
          "model_module": "@jupyter-widgets/controls",
          "model_module_version": "1.5.0",
          "model_name": "ProgressStyleModel",
          "state": {
            "_model_module": "@jupyter-widgets/controls",
            "_model_module_version": "1.5.0",
            "_model_name": "ProgressStyleModel",
            "_view_count": null,
            "_view_module": "@jupyter-widgets/base",
            "_view_module_version": "1.2.0",
            "_view_name": "StyleView",
            "bar_color": null,
            "description_width": ""
          }
        },
        "41d784f7e2404c82adaedd9019af72dc": {
          "model_module": "@jupyter-widgets/controls",
          "model_module_version": "1.5.0",
          "model_name": "HBoxModel",
          "state": {
            "_dom_classes": [],
            "_model_module": "@jupyter-widgets/controls",
            "_model_module_version": "1.5.0",
            "_model_name": "HBoxModel",
            "_view_count": null,
            "_view_module": "@jupyter-widgets/controls",
            "_view_module_version": "1.5.0",
            "_view_name": "HBoxView",
            "box_style": "",
            "children": [
              "IPY_MODEL_2c0760a75c8540cc9854f5a16a35f5d4",
              "IPY_MODEL_3e67f2093fc64499915bd825ca6aba6a",
              "IPY_MODEL_8878520c575f4319b28f339b7e28aaac"
            ],
            "layout": "IPY_MODEL_3f862444d55a48a889a6f9b26068df8d"
          }
        },
        "42a21adec3a14fbdabd57f6b60c75fbc": {
          "model_module": "@jupyter-widgets/base",
          "model_module_version": "1.2.0",
          "model_name": "LayoutModel",
          "state": {
            "_model_module": "@jupyter-widgets/base",
            "_model_module_version": "1.2.0",
            "_model_name": "LayoutModel",
            "_view_count": null,
            "_view_module": "@jupyter-widgets/base",
            "_view_module_version": "1.2.0",
            "_view_name": "LayoutView",
            "align_content": null,
            "align_items": null,
            "align_self": null,
            "border": null,
            "bottom": null,
            "display": null,
            "flex": null,
            "flex_flow": null,
            "grid_area": null,
            "grid_auto_columns": null,
            "grid_auto_flow": null,
            "grid_auto_rows": null,
            "grid_column": null,
            "grid_gap": null,
            "grid_row": null,
            "grid_template_areas": null,
            "grid_template_columns": null,
            "grid_template_rows": null,
            "height": null,
            "justify_content": null,
            "justify_items": null,
            "left": null,
            "margin": null,
            "max_height": null,
            "max_width": null,
            "min_height": null,
            "min_width": null,
            "object_fit": null,
            "object_position": null,
            "order": null,
            "overflow": null,
            "overflow_x": null,
            "overflow_y": null,
            "padding": null,
            "right": null,
            "top": null,
            "visibility": null,
            "width": null
          }
        },
        "46f2a25273eb4e0d8d7e25a79b3564aa": {
          "model_module": "@jupyter-widgets/base",
          "model_module_version": "1.2.0",
          "model_name": "LayoutModel",
          "state": {
            "_model_module": "@jupyter-widgets/base",
            "_model_module_version": "1.2.0",
            "_model_name": "LayoutModel",
            "_view_count": null,
            "_view_module": "@jupyter-widgets/base",
            "_view_module_version": "1.2.0",
            "_view_name": "LayoutView",
            "align_content": null,
            "align_items": null,
            "align_self": null,
            "border": null,
            "bottom": null,
            "display": null,
            "flex": null,
            "flex_flow": null,
            "grid_area": null,
            "grid_auto_columns": null,
            "grid_auto_flow": null,
            "grid_auto_rows": null,
            "grid_column": null,
            "grid_gap": null,
            "grid_row": null,
            "grid_template_areas": null,
            "grid_template_columns": null,
            "grid_template_rows": null,
            "height": null,
            "justify_content": null,
            "justify_items": null,
            "left": null,
            "margin": null,
            "max_height": null,
            "max_width": null,
            "min_height": null,
            "min_width": null,
            "object_fit": null,
            "object_position": null,
            "order": null,
            "overflow": null,
            "overflow_x": null,
            "overflow_y": null,
            "padding": null,
            "right": null,
            "top": null,
            "visibility": null,
            "width": null
          }
        },
        "48d01431984d41ebac9ac0c93eab48c6": {
          "model_module": "@jupyter-widgets/controls",
          "model_module_version": "1.5.0",
          "model_name": "HBoxModel",
          "state": {
            "_dom_classes": [],
            "_model_module": "@jupyter-widgets/controls",
            "_model_module_version": "1.5.0",
            "_model_name": "HBoxModel",
            "_view_count": null,
            "_view_module": "@jupyter-widgets/controls",
            "_view_module_version": "1.5.0",
            "_view_name": "HBoxView",
            "box_style": "",
            "children": [
              "IPY_MODEL_5ef064c42e8e4efb9c0cf99cae3dfb08",
              "IPY_MODEL_9673f21079674609bb684606664a7370",
              "IPY_MODEL_7a84366062f04ebea117191afddf8890"
            ],
            "layout": "IPY_MODEL_d4c45372ae64493ba1cb933e95f5b00f"
          }
        },
        "4937c2c422b64ce68539c6b1ced11d22": {
          "model_module": "@jupyter-widgets/base",
          "model_module_version": "1.2.0",
          "model_name": "LayoutModel",
          "state": {
            "_model_module": "@jupyter-widgets/base",
            "_model_module_version": "1.2.0",
            "_model_name": "LayoutModel",
            "_view_count": null,
            "_view_module": "@jupyter-widgets/base",
            "_view_module_version": "1.2.0",
            "_view_name": "LayoutView",
            "align_content": null,
            "align_items": null,
            "align_self": null,
            "border": null,
            "bottom": null,
            "display": null,
            "flex": null,
            "flex_flow": null,
            "grid_area": null,
            "grid_auto_columns": null,
            "grid_auto_flow": null,
            "grid_auto_rows": null,
            "grid_column": null,
            "grid_gap": null,
            "grid_row": null,
            "grid_template_areas": null,
            "grid_template_columns": null,
            "grid_template_rows": null,
            "height": null,
            "justify_content": null,
            "justify_items": null,
            "left": null,
            "margin": null,
            "max_height": null,
            "max_width": null,
            "min_height": null,
            "min_width": null,
            "object_fit": null,
            "object_position": null,
            "order": null,
            "overflow": null,
            "overflow_x": null,
            "overflow_y": null,
            "padding": null,
            "right": null,
            "top": null,
            "visibility": null,
            "width": null
          }
        },
        "4a578e304c194e5d8dfe8bd1b613ca5b": {
          "model_module": "@jupyter-widgets/controls",
          "model_module_version": "1.5.0",
          "model_name": "HTMLModel",
          "state": {
            "_dom_classes": [],
            "_model_module": "@jupyter-widgets/controls",
            "_model_module_version": "1.5.0",
            "_model_name": "HTMLModel",
            "_view_count": null,
            "_view_module": "@jupyter-widgets/controls",
            "_view_module_version": "1.5.0",
            "_view_name": "HTMLView",
            "description": "",
            "description_tooltip": null,
            "layout": "IPY_MODEL_c519f77474ce40019bf3eb1386c88818",
            "placeholder": "​",
            "style": "IPY_MODEL_2794dbb588bd4e6f8665d44a255c671d",
            "value": " 268M/268M [00:06&lt;00:00, 43.4MB/s]"
          }
        },
        "50a010909a52499689ff9f9c8ffb1f85": {
          "model_module": "@jupyter-widgets/controls",
          "model_module_version": "1.5.0",
          "model_name": "ProgressStyleModel",
          "state": {
            "_model_module": "@jupyter-widgets/controls",
            "_model_module_version": "1.5.0",
            "_model_name": "ProgressStyleModel",
            "_view_count": null,
            "_view_module": "@jupyter-widgets/base",
            "_view_module_version": "1.2.0",
            "_view_name": "StyleView",
            "bar_color": null,
            "description_width": ""
          }
        },
        "50e40eadef3a4b5b8233ee23f60340b1": {
          "model_module": "@jupyter-widgets/controls",
          "model_module_version": "1.5.0",
          "model_name": "HBoxModel",
          "state": {
            "_dom_classes": [],
            "_model_module": "@jupyter-widgets/controls",
            "_model_module_version": "1.5.0",
            "_model_name": "HBoxModel",
            "_view_count": null,
            "_view_module": "@jupyter-widgets/controls",
            "_view_module_version": "1.5.0",
            "_view_name": "HBoxView",
            "box_style": "",
            "children": [
              "IPY_MODEL_b58dc6a22dac4baba687b34e21a41df6",
              "IPY_MODEL_d331ba6e14fd4cd1b199c7062eb4446f",
              "IPY_MODEL_1c92c35dcfa74668baa611e066cee376"
            ],
            "layout": "IPY_MODEL_7931a158e5af4f18853b47420ae21968"
          }
        },
        "54bcc1eb7bb747a38e00644b0f716a86": {
          "model_module": "@jupyter-widgets/base",
          "model_module_version": "1.2.0",
          "model_name": "LayoutModel",
          "state": {
            "_model_module": "@jupyter-widgets/base",
            "_model_module_version": "1.2.0",
            "_model_name": "LayoutModel",
            "_view_count": null,
            "_view_module": "@jupyter-widgets/base",
            "_view_module_version": "1.2.0",
            "_view_name": "LayoutView",
            "align_content": null,
            "align_items": null,
            "align_self": null,
            "border": null,
            "bottom": null,
            "display": null,
            "flex": null,
            "flex_flow": null,
            "grid_area": null,
            "grid_auto_columns": null,
            "grid_auto_flow": null,
            "grid_auto_rows": null,
            "grid_column": null,
            "grid_gap": null,
            "grid_row": null,
            "grid_template_areas": null,
            "grid_template_columns": null,
            "grid_template_rows": null,
            "height": null,
            "justify_content": null,
            "justify_items": null,
            "left": null,
            "margin": null,
            "max_height": null,
            "max_width": null,
            "min_height": null,
            "min_width": null,
            "object_fit": null,
            "object_position": null,
            "order": null,
            "overflow": null,
            "overflow_x": null,
            "overflow_y": null,
            "padding": null,
            "right": null,
            "top": null,
            "visibility": null,
            "width": null
          }
        },
        "54dbaf9d74a84c569a5d340be2dfdb26": {
          "model_module": "@jupyter-widgets/controls",
          "model_module_version": "1.5.0",
          "model_name": "HTMLModel",
          "state": {
            "_dom_classes": [],
            "_model_module": "@jupyter-widgets/controls",
            "_model_module_version": "1.5.0",
            "_model_name": "HTMLModel",
            "_view_count": null,
            "_view_module": "@jupyter-widgets/controls",
            "_view_module_version": "1.5.0",
            "_view_name": "HTMLView",
            "description": "",
            "description_tooltip": null,
            "layout": "IPY_MODEL_358ff69179e24b159b0b39b6ce31deca",
            "placeholder": "​",
            "style": "IPY_MODEL_d1d895efcea34dd786b4c78cdbf6be28",
            "value": "100%"
          }
        },
        "59716b6b28d646eeb1af64f505081012": {
          "model_module": "@jupyter-widgets/controls",
          "model_module_version": "1.5.0",
          "model_name": "DescriptionStyleModel",
          "state": {
            "_model_module": "@jupyter-widgets/controls",
            "_model_module_version": "1.5.0",
            "_model_name": "DescriptionStyleModel",
            "_view_count": null,
            "_view_module": "@jupyter-widgets/base",
            "_view_module_version": "1.2.0",
            "_view_name": "StyleView",
            "description_width": ""
          }
        },
        "59f46496ce644d2a8fda93b536886894": {
          "model_module": "@jupyter-widgets/controls",
          "model_module_version": "1.5.0",
          "model_name": "DescriptionStyleModel",
          "state": {
            "_model_module": "@jupyter-widgets/controls",
            "_model_module_version": "1.5.0",
            "_model_name": "DescriptionStyleModel",
            "_view_count": null,
            "_view_module": "@jupyter-widgets/base",
            "_view_module_version": "1.2.0",
            "_view_name": "StyleView",
            "description_width": ""
          }
        },
        "5ef064c42e8e4efb9c0cf99cae3dfb08": {
          "model_module": "@jupyter-widgets/controls",
          "model_module_version": "1.5.0",
          "model_name": "HTMLModel",
          "state": {
            "_dom_classes": [],
            "_model_module": "@jupyter-widgets/controls",
            "_model_module_version": "1.5.0",
            "_model_name": "HTMLModel",
            "_view_count": null,
            "_view_module": "@jupyter-widgets/controls",
            "_view_module_version": "1.5.0",
            "_view_name": "HTMLView",
            "description": "",
            "description_tooltip": null,
            "layout": "IPY_MODEL_1e5ba0b03e424b75bf475917d18633a1",
            "placeholder": "​",
            "style": "IPY_MODEL_cc25450c646a4e8d828c4bc8a44984b4",
            "value": "Downloading (…)okenizer_config.json: 100%"
          }
        },
        "5fcd298a3ac64a2ca0062daea65c42a7": {
          "model_module": "@jupyter-widgets/base",
          "model_module_version": "1.2.0",
          "model_name": "LayoutModel",
          "state": {
            "_model_module": "@jupyter-widgets/base",
            "_model_module_version": "1.2.0",
            "_model_name": "LayoutModel",
            "_view_count": null,
            "_view_module": "@jupyter-widgets/base",
            "_view_module_version": "1.2.0",
            "_view_name": "LayoutView",
            "align_content": null,
            "align_items": null,
            "align_self": null,
            "border": null,
            "bottom": null,
            "display": null,
            "flex": null,
            "flex_flow": null,
            "grid_area": null,
            "grid_auto_columns": null,
            "grid_auto_flow": null,
            "grid_auto_rows": null,
            "grid_column": null,
            "grid_gap": null,
            "grid_row": null,
            "grid_template_areas": null,
            "grid_template_columns": null,
            "grid_template_rows": null,
            "height": null,
            "justify_content": null,
            "justify_items": null,
            "left": null,
            "margin": null,
            "max_height": null,
            "max_width": null,
            "min_height": null,
            "min_width": null,
            "object_fit": null,
            "object_position": null,
            "order": null,
            "overflow": null,
            "overflow_x": null,
            "overflow_y": null,
            "padding": null,
            "right": null,
            "top": null,
            "visibility": null,
            "width": null
          }
        },
        "65046cc365174ae1a23bbc498fcd3253": {
          "model_module": "@jupyter-widgets/base",
          "model_module_version": "1.2.0",
          "model_name": "LayoutModel",
          "state": {
            "_model_module": "@jupyter-widgets/base",
            "_model_module_version": "1.2.0",
            "_model_name": "LayoutModel",
            "_view_count": null,
            "_view_module": "@jupyter-widgets/base",
            "_view_module_version": "1.2.0",
            "_view_name": "LayoutView",
            "align_content": null,
            "align_items": null,
            "align_self": null,
            "border": null,
            "bottom": null,
            "display": null,
            "flex": null,
            "flex_flow": null,
            "grid_area": null,
            "grid_auto_columns": null,
            "grid_auto_flow": null,
            "grid_auto_rows": null,
            "grid_column": null,
            "grid_gap": null,
            "grid_row": null,
            "grid_template_areas": null,
            "grid_template_columns": null,
            "grid_template_rows": null,
            "height": null,
            "justify_content": null,
            "justify_items": null,
            "left": null,
            "margin": null,
            "max_height": null,
            "max_width": null,
            "min_height": null,
            "min_width": null,
            "object_fit": null,
            "object_position": null,
            "order": null,
            "overflow": null,
            "overflow_x": null,
            "overflow_y": null,
            "padding": null,
            "right": null,
            "top": null,
            "visibility": null,
            "width": null
          }
        },
        "6567760330354251ac88d1cedbd3af17": {
          "model_module": "@jupyter-widgets/controls",
          "model_module_version": "1.5.0",
          "model_name": "DescriptionStyleModel",
          "state": {
            "_model_module": "@jupyter-widgets/controls",
            "_model_module_version": "1.5.0",
            "_model_name": "DescriptionStyleModel",
            "_view_count": null,
            "_view_module": "@jupyter-widgets/base",
            "_view_module_version": "1.2.0",
            "_view_name": "StyleView",
            "description_width": ""
          }
        },
        "6693f312c989420987b3a8f882dba1de": {
          "model_module": "@jupyter-widgets/controls",
          "model_module_version": "1.5.0",
          "model_name": "ProgressStyleModel",
          "state": {
            "_model_module": "@jupyter-widgets/controls",
            "_model_module_version": "1.5.0",
            "_model_name": "ProgressStyleModel",
            "_view_count": null,
            "_view_module": "@jupyter-widgets/base",
            "_view_module_version": "1.2.0",
            "_view_name": "StyleView",
            "bar_color": null,
            "description_width": ""
          }
        },
        "676ca0ccf06a4138aa1811edc4ab8130": {
          "model_module": "@jupyter-widgets/controls",
          "model_module_version": "1.5.0",
          "model_name": "HBoxModel",
          "state": {
            "_dom_classes": [],
            "_model_module": "@jupyter-widgets/controls",
            "_model_module_version": "1.5.0",
            "_model_name": "HBoxModel",
            "_view_count": null,
            "_view_module": "@jupyter-widgets/controls",
            "_view_module_version": "1.5.0",
            "_view_name": "HBoxView",
            "box_style": "",
            "children": [
              "IPY_MODEL_74deabed269a487d80ab0ccfa9add2d2",
              "IPY_MODEL_1c5d032ca2cd4abeb73ca46c333f356b",
              "IPY_MODEL_7efd05c704b74a73b94f76058acc9915"
            ],
            "layout": "IPY_MODEL_c28f63055f60429fa41811c7eae2ee7a"
          }
        },
        "6dbdfca7e9784dadaea85deb64948ce6": {
          "model_module": "@jupyter-widgets/controls",
          "model_module_version": "1.5.0",
          "model_name": "ProgressStyleModel",
          "state": {
            "_model_module": "@jupyter-widgets/controls",
            "_model_module_version": "1.5.0",
            "_model_name": "ProgressStyleModel",
            "_view_count": null,
            "_view_module": "@jupyter-widgets/base",
            "_view_module_version": "1.2.0",
            "_view_name": "StyleView",
            "bar_color": null,
            "description_width": ""
          }
        },
        "74deabed269a487d80ab0ccfa9add2d2": {
          "model_module": "@jupyter-widgets/controls",
          "model_module_version": "1.5.0",
          "model_name": "HTMLModel",
          "state": {
            "_dom_classes": [],
            "_model_module": "@jupyter-widgets/controls",
            "_model_module_version": "1.5.0",
            "_model_name": "HTMLModel",
            "_view_count": null,
            "_view_module": "@jupyter-widgets/controls",
            "_view_module_version": "1.5.0",
            "_view_name": "HTMLView",
            "description": "",
            "description_tooltip": null,
            "layout": "IPY_MODEL_5fcd298a3ac64a2ca0062daea65c42a7",
            "placeholder": "​",
            "style": "IPY_MODEL_a8b6f87500e64e3980bd6a773c9efe31",
            "value": "Downloading (…)lve/main/config.json: 100%"
          }
        },
        "77480f7925294dc39ae65cba0d162475": {
          "model_module": "@jupyter-widgets/controls",
          "model_module_version": "1.5.0",
          "model_name": "HTMLModel",
          "state": {
            "_dom_classes": [],
            "_model_module": "@jupyter-widgets/controls",
            "_model_module_version": "1.5.0",
            "_model_name": "HTMLModel",
            "_view_count": null,
            "_view_module": "@jupyter-widgets/controls",
            "_view_module_version": "1.5.0",
            "_view_name": "HTMLView",
            "description": "",
            "description_tooltip": null,
            "layout": "IPY_MODEL_0ec55cb6d17349018bf26afcc0e9bdee",
            "placeholder": "​",
            "style": "IPY_MODEL_59f46496ce644d2a8fda93b536886894",
            "value": " 4000/4122 [00:00&lt;00:00, 7543.06 examples/s]"
          }
        },
        "7886dcc57e4b41fa899d2920f021cef8": {
          "model_module": "@jupyter-widgets/controls",
          "model_module_version": "1.5.0",
          "model_name": "DescriptionStyleModel",
          "state": {
            "_model_module": "@jupyter-widgets/controls",
            "_model_module_version": "1.5.0",
            "_model_name": "DescriptionStyleModel",
            "_view_count": null,
            "_view_module": "@jupyter-widgets/base",
            "_view_module_version": "1.2.0",
            "_view_name": "StyleView",
            "description_width": ""
          }
        },
        "7931a158e5af4f18853b47420ae21968": {
          "model_module": "@jupyter-widgets/base",
          "model_module_version": "1.2.0",
          "model_name": "LayoutModel",
          "state": {
            "_model_module": "@jupyter-widgets/base",
            "_model_module_version": "1.2.0",
            "_model_name": "LayoutModel",
            "_view_count": null,
            "_view_module": "@jupyter-widgets/base",
            "_view_module_version": "1.2.0",
            "_view_name": "LayoutView",
            "align_content": null,
            "align_items": null,
            "align_self": null,
            "border": null,
            "bottom": null,
            "display": null,
            "flex": null,
            "flex_flow": null,
            "grid_area": null,
            "grid_auto_columns": null,
            "grid_auto_flow": null,
            "grid_auto_rows": null,
            "grid_column": null,
            "grid_gap": null,
            "grid_row": null,
            "grid_template_areas": null,
            "grid_template_columns": null,
            "grid_template_rows": null,
            "height": null,
            "justify_content": null,
            "justify_items": null,
            "left": null,
            "margin": null,
            "max_height": null,
            "max_width": null,
            "min_height": null,
            "min_width": null,
            "object_fit": null,
            "object_position": null,
            "order": null,
            "overflow": null,
            "overflow_x": null,
            "overflow_y": null,
            "padding": null,
            "right": null,
            "top": null,
            "visibility": "hidden",
            "width": null
          }
        },
        "7a84366062f04ebea117191afddf8890": {
          "model_module": "@jupyter-widgets/controls",
          "model_module_version": "1.5.0",
          "model_name": "HTMLModel",
          "state": {
            "_dom_classes": [],
            "_model_module": "@jupyter-widgets/controls",
            "_model_module_version": "1.5.0",
            "_model_name": "HTMLModel",
            "_view_count": null,
            "_view_module": "@jupyter-widgets/controls",
            "_view_module_version": "1.5.0",
            "_view_name": "HTMLView",
            "description": "",
            "description_tooltip": null,
            "layout": "IPY_MODEL_42a21adec3a14fbdabd57f6b60c75fbc",
            "placeholder": "​",
            "style": "IPY_MODEL_d1883e327ad345bf966fa108200250b7",
            "value": " 28.0/28.0 [00:00&lt;00:00, 1.73kB/s]"
          }
        },
        "7ca3c06d229f4990ada79019e60f0ba0": {
          "model_module": "@jupyter-widgets/controls",
          "model_module_version": "1.5.0",
          "model_name": "DescriptionStyleModel",
          "state": {
            "_model_module": "@jupyter-widgets/controls",
            "_model_module_version": "1.5.0",
            "_model_name": "DescriptionStyleModel",
            "_view_count": null,
            "_view_module": "@jupyter-widgets/base",
            "_view_module_version": "1.2.0",
            "_view_name": "StyleView",
            "description_width": ""
          }
        },
        "7efd05c704b74a73b94f76058acc9915": {
          "model_module": "@jupyter-widgets/controls",
          "model_module_version": "1.5.0",
          "model_name": "HTMLModel",
          "state": {
            "_dom_classes": [],
            "_model_module": "@jupyter-widgets/controls",
            "_model_module_version": "1.5.0",
            "_model_name": "HTMLModel",
            "_view_count": null,
            "_view_module": "@jupyter-widgets/controls",
            "_view_module_version": "1.5.0",
            "_view_name": "HTMLView",
            "description": "",
            "description_tooltip": null,
            "layout": "IPY_MODEL_20098d63d22c43dcb93c785db8713965",
            "placeholder": "​",
            "style": "IPY_MODEL_b96fef34ede449e8b1c0d8288e6db9a5",
            "value": " 483/483 [00:00&lt;00:00, 31.0kB/s]"
          }
        },
        "808a52127ff8455c9bc59a2ee2889388": {
          "model_module": "@jupyter-widgets/base",
          "model_module_version": "1.2.0",
          "model_name": "LayoutModel",
          "state": {
            "_model_module": "@jupyter-widgets/base",
            "_model_module_version": "1.2.0",
            "_model_name": "LayoutModel",
            "_view_count": null,
            "_view_module": "@jupyter-widgets/base",
            "_view_module_version": "1.2.0",
            "_view_name": "LayoutView",
            "align_content": null,
            "align_items": null,
            "align_self": null,
            "border": null,
            "bottom": null,
            "display": null,
            "flex": null,
            "flex_flow": null,
            "grid_area": null,
            "grid_auto_columns": null,
            "grid_auto_flow": null,
            "grid_auto_rows": null,
            "grid_column": null,
            "grid_gap": null,
            "grid_row": null,
            "grid_template_areas": null,
            "grid_template_columns": null,
            "grid_template_rows": null,
            "height": null,
            "justify_content": null,
            "justify_items": null,
            "left": null,
            "margin": null,
            "max_height": null,
            "max_width": null,
            "min_height": null,
            "min_width": null,
            "object_fit": null,
            "object_position": null,
            "order": null,
            "overflow": null,
            "overflow_x": null,
            "overflow_y": null,
            "padding": null,
            "right": null,
            "top": null,
            "visibility": null,
            "width": null
          }
        },
        "81d1202e7a604162b40f2a3aeead8830": {
          "model_module": "@jupyter-widgets/base",
          "model_module_version": "1.2.0",
          "model_name": "LayoutModel",
          "state": {
            "_model_module": "@jupyter-widgets/base",
            "_model_module_version": "1.2.0",
            "_model_name": "LayoutModel",
            "_view_count": null,
            "_view_module": "@jupyter-widgets/base",
            "_view_module_version": "1.2.0",
            "_view_name": "LayoutView",
            "align_content": null,
            "align_items": null,
            "align_self": null,
            "border": null,
            "bottom": null,
            "display": null,
            "flex": null,
            "flex_flow": null,
            "grid_area": null,
            "grid_auto_columns": null,
            "grid_auto_flow": null,
            "grid_auto_rows": null,
            "grid_column": null,
            "grid_gap": null,
            "grid_row": null,
            "grid_template_areas": null,
            "grid_template_columns": null,
            "grid_template_rows": null,
            "height": null,
            "justify_content": null,
            "justify_items": null,
            "left": null,
            "margin": null,
            "max_height": null,
            "max_width": null,
            "min_height": null,
            "min_width": null,
            "object_fit": null,
            "object_position": null,
            "order": null,
            "overflow": null,
            "overflow_x": null,
            "overflow_y": null,
            "padding": null,
            "right": null,
            "top": null,
            "visibility": null,
            "width": null
          }
        },
        "834c976d2d934fecad56dc5ad252c04c": {
          "model_module": "@jupyter-widgets/controls",
          "model_module_version": "1.5.0",
          "model_name": "HTMLModel",
          "state": {
            "_dom_classes": [],
            "_model_module": "@jupyter-widgets/controls",
            "_model_module_version": "1.5.0",
            "_model_name": "HTMLModel",
            "_view_count": null,
            "_view_module": "@jupyter-widgets/controls",
            "_view_module_version": "1.5.0",
            "_view_name": "HTMLView",
            "description": "",
            "description_tooltip": null,
            "layout": "IPY_MODEL_99e7b58f680441eea14c5e7ee1c1538a",
            "placeholder": "​",
            "style": "IPY_MODEL_cc889568d0174e51941451b93218dc60",
            "value": " 232k/232k [00:00&lt;00:00, 4.33MB/s]"
          }
        },
        "83fe3a090c7744acb91fbff876f82844": {
          "model_module": "@jupyter-widgets/controls",
          "model_module_version": "1.5.0",
          "model_name": "HBoxModel",
          "state": {
            "_dom_classes": [],
            "_model_module": "@jupyter-widgets/controls",
            "_model_module_version": "1.5.0",
            "_model_name": "HBoxModel",
            "_view_count": null,
            "_view_module": "@jupyter-widgets/controls",
            "_view_module_version": "1.5.0",
            "_view_name": "HBoxView",
            "box_style": "",
            "children": [
              "IPY_MODEL_f8ded0d031e242c5992f5c0857882ea0",
              "IPY_MODEL_3497480ecc9149ed8ddb909c906e7097",
              "IPY_MODEL_1df283e9852b4b0abf0f9da90918fa05"
            ],
            "layout": "IPY_MODEL_215033bd0348414ab0565b659159b470"
          }
        },
        "85a25881a8814582be954a57b4152305": {
          "model_module": "@jupyter-widgets/controls",
          "model_module_version": "1.5.0",
          "model_name": "ProgressStyleModel",
          "state": {
            "_model_module": "@jupyter-widgets/controls",
            "_model_module_version": "1.5.0",
            "_model_name": "ProgressStyleModel",
            "_view_count": null,
            "_view_module": "@jupyter-widgets/base",
            "_view_module_version": "1.2.0",
            "_view_name": "StyleView",
            "bar_color": null,
            "description_width": ""
          }
        },
        "8878520c575f4319b28f339b7e28aaac": {
          "model_module": "@jupyter-widgets/controls",
          "model_module_version": "1.5.0",
          "model_name": "HTMLModel",
          "state": {
            "_dom_classes": [],
            "_model_module": "@jupyter-widgets/controls",
            "_model_module_version": "1.5.0",
            "_model_name": "HTMLModel",
            "_view_count": null,
            "_view_module": "@jupyter-widgets/controls",
            "_view_module_version": "1.5.0",
            "_view_name": "HTMLView",
            "description": "",
            "description_tooltip": null,
            "layout": "IPY_MODEL_46f2a25273eb4e0d8d7e25a79b3564aa",
            "placeholder": "​",
            "style": "IPY_MODEL_cbfc262d4d8849439f7f32a04a16a43b",
            "value": " 27481/27481 [00:19&lt;00:00, 1695.17it/s]"
          }
        },
        "8ffeae0e7b954749b1068a44d12755f9": {
          "model_module": "@jupyter-widgets/base",
          "model_module_version": "1.2.0",
          "model_name": "LayoutModel",
          "state": {
            "_model_module": "@jupyter-widgets/base",
            "_model_module_version": "1.2.0",
            "_model_name": "LayoutModel",
            "_view_count": null,
            "_view_module": "@jupyter-widgets/base",
            "_view_module_version": "1.2.0",
            "_view_name": "LayoutView",
            "align_content": null,
            "align_items": null,
            "align_self": null,
            "border": null,
            "bottom": null,
            "display": null,
            "flex": null,
            "flex_flow": null,
            "grid_area": null,
            "grid_auto_columns": null,
            "grid_auto_flow": null,
            "grid_auto_rows": null,
            "grid_column": null,
            "grid_gap": null,
            "grid_row": null,
            "grid_template_areas": null,
            "grid_template_columns": null,
            "grid_template_rows": null,
            "height": null,
            "justify_content": null,
            "justify_items": null,
            "left": null,
            "margin": null,
            "max_height": null,
            "max_width": null,
            "min_height": null,
            "min_width": null,
            "object_fit": null,
            "object_position": null,
            "order": null,
            "overflow": null,
            "overflow_x": null,
            "overflow_y": null,
            "padding": null,
            "right": null,
            "top": null,
            "visibility": null,
            "width": null
          }
        },
        "9673f21079674609bb684606664a7370": {
          "model_module": "@jupyter-widgets/controls",
          "model_module_version": "1.5.0",
          "model_name": "FloatProgressModel",
          "state": {
            "_dom_classes": [],
            "_model_module": "@jupyter-widgets/controls",
            "_model_module_version": "1.5.0",
            "_model_name": "FloatProgressModel",
            "_view_count": null,
            "_view_module": "@jupyter-widgets/controls",
            "_view_module_version": "1.5.0",
            "_view_name": "ProgressView",
            "bar_style": "success",
            "description": "",
            "description_tooltip": null,
            "layout": "IPY_MODEL_260c9a4d285b4a93a3dfbf656a8e5a0b",
            "max": 28,
            "min": 0,
            "orientation": "horizontal",
            "style": "IPY_MODEL_4053c25fc04441a0a9be2ca58d836880",
            "value": 28
          }
        },
        "99e7b58f680441eea14c5e7ee1c1538a": {
          "model_module": "@jupyter-widgets/base",
          "model_module_version": "1.2.0",
          "model_name": "LayoutModel",
          "state": {
            "_model_module": "@jupyter-widgets/base",
            "_model_module_version": "1.2.0",
            "_model_name": "LayoutModel",
            "_view_count": null,
            "_view_module": "@jupyter-widgets/base",
            "_view_module_version": "1.2.0",
            "_view_name": "LayoutView",
            "align_content": null,
            "align_items": null,
            "align_self": null,
            "border": null,
            "bottom": null,
            "display": null,
            "flex": null,
            "flex_flow": null,
            "grid_area": null,
            "grid_auto_columns": null,
            "grid_auto_flow": null,
            "grid_auto_rows": null,
            "grid_column": null,
            "grid_gap": null,
            "grid_row": null,
            "grid_template_areas": null,
            "grid_template_columns": null,
            "grid_template_rows": null,
            "height": null,
            "justify_content": null,
            "justify_items": null,
            "left": null,
            "margin": null,
            "max_height": null,
            "max_width": null,
            "min_height": null,
            "min_width": null,
            "object_fit": null,
            "object_position": null,
            "order": null,
            "overflow": null,
            "overflow_x": null,
            "overflow_y": null,
            "padding": null,
            "right": null,
            "top": null,
            "visibility": null,
            "width": null
          }
        },
        "9af4374530a84518bfb57c2ebf0a63ce": {
          "model_module": "@jupyter-widgets/controls",
          "model_module_version": "1.5.0",
          "model_name": "HBoxModel",
          "state": {
            "_dom_classes": [],
            "_model_module": "@jupyter-widgets/controls",
            "_model_module_version": "1.5.0",
            "_model_name": "HBoxModel",
            "_view_count": null,
            "_view_module": "@jupyter-widgets/controls",
            "_view_module_version": "1.5.0",
            "_view_name": "HBoxView",
            "box_style": "",
            "children": [
              "IPY_MODEL_2ab08a3321124d3ea8571a95ab696c35",
              "IPY_MODEL_d0ecf31cf2714d488ebca0829e2fc07f",
              "IPY_MODEL_4a578e304c194e5d8dfe8bd1b613ca5b"
            ],
            "layout": "IPY_MODEL_e722f9fc2b8c41e1a920567b2e29a539"
          }
        },
        "a1cc4c43fabd449689d4c35969d17e97": {
          "model_module": "@jupyter-widgets/controls",
          "model_module_version": "1.5.0",
          "model_name": "FloatProgressModel",
          "state": {
            "_dom_classes": [],
            "_model_module": "@jupyter-widgets/controls",
            "_model_module_version": "1.5.0",
            "_model_name": "FloatProgressModel",
            "_view_count": null,
            "_view_module": "@jupyter-widgets/controls",
            "_view_module_version": "1.5.0",
            "_view_name": "ProgressView",
            "bar_style": "success",
            "description": "",
            "description_tooltip": null,
            "layout": "IPY_MODEL_f88c35b3cd8e4856b2f58c4a8201da4f",
            "max": 466062,
            "min": 0,
            "orientation": "horizontal",
            "style": "IPY_MODEL_ed3deb56ddc24b8cbc26bfbcde43b77e",
            "value": 466062
          }
        },
        "a8b6f87500e64e3980bd6a773c9efe31": {
          "model_module": "@jupyter-widgets/controls",
          "model_module_version": "1.5.0",
          "model_name": "DescriptionStyleModel",
          "state": {
            "_model_module": "@jupyter-widgets/controls",
            "_model_module_version": "1.5.0",
            "_model_name": "DescriptionStyleModel",
            "_view_count": null,
            "_view_module": "@jupyter-widgets/base",
            "_view_module_version": "1.2.0",
            "_view_name": "StyleView",
            "description_width": ""
          }
        },
        "a989f49ba96b4c63a2b0935a0abfcbd6": {
          "model_module": "@jupyter-widgets/controls",
          "model_module_version": "1.5.0",
          "model_name": "ProgressStyleModel",
          "state": {
            "_model_module": "@jupyter-widgets/controls",
            "_model_module_version": "1.5.0",
            "_model_name": "ProgressStyleModel",
            "_view_count": null,
            "_view_module": "@jupyter-widgets/base",
            "_view_module_version": "1.2.0",
            "_view_name": "StyleView",
            "bar_color": null,
            "description_width": ""
          }
        },
        "ab54c506ea164c3192c3b5ee5483c665": {
          "model_module": "@jupyter-widgets/base",
          "model_module_version": "1.2.0",
          "model_name": "LayoutModel",
          "state": {
            "_model_module": "@jupyter-widgets/base",
            "_model_module_version": "1.2.0",
            "_model_name": "LayoutModel",
            "_view_count": null,
            "_view_module": "@jupyter-widgets/base",
            "_view_module_version": "1.2.0",
            "_view_name": "LayoutView",
            "align_content": null,
            "align_items": null,
            "align_self": null,
            "border": null,
            "bottom": null,
            "display": null,
            "flex": null,
            "flex_flow": null,
            "grid_area": null,
            "grid_auto_columns": null,
            "grid_auto_flow": null,
            "grid_auto_rows": null,
            "grid_column": null,
            "grid_gap": null,
            "grid_row": null,
            "grid_template_areas": null,
            "grid_template_columns": null,
            "grid_template_rows": null,
            "height": null,
            "justify_content": null,
            "justify_items": null,
            "left": null,
            "margin": null,
            "max_height": null,
            "max_width": null,
            "min_height": null,
            "min_width": null,
            "object_fit": null,
            "object_position": null,
            "order": null,
            "overflow": null,
            "overflow_x": null,
            "overflow_y": null,
            "padding": null,
            "right": null,
            "top": null,
            "visibility": "hidden",
            "width": null
          }
        },
        "afa19cb24103493483d278c6f10559d9": {
          "model_module": "@jupyter-widgets/base",
          "model_module_version": "1.2.0",
          "model_name": "LayoutModel",
          "state": {
            "_model_module": "@jupyter-widgets/base",
            "_model_module_version": "1.2.0",
            "_model_name": "LayoutModel",
            "_view_count": null,
            "_view_module": "@jupyter-widgets/base",
            "_view_module_version": "1.2.0",
            "_view_name": "LayoutView",
            "align_content": null,
            "align_items": null,
            "align_self": null,
            "border": null,
            "bottom": null,
            "display": null,
            "flex": null,
            "flex_flow": null,
            "grid_area": null,
            "grid_auto_columns": null,
            "grid_auto_flow": null,
            "grid_auto_rows": null,
            "grid_column": null,
            "grid_gap": null,
            "grid_row": null,
            "grid_template_areas": null,
            "grid_template_columns": null,
            "grid_template_rows": null,
            "height": null,
            "justify_content": null,
            "justify_items": null,
            "left": null,
            "margin": null,
            "max_height": null,
            "max_width": null,
            "min_height": null,
            "min_width": null,
            "object_fit": null,
            "object_position": null,
            "order": null,
            "overflow": null,
            "overflow_x": null,
            "overflow_y": null,
            "padding": null,
            "right": null,
            "top": null,
            "visibility": null,
            "width": null
          }
        },
        "b12d339603714a218f29b7d7960ee469": {
          "model_module": "@jupyter-widgets/controls",
          "model_module_version": "1.5.0",
          "model_name": "HTMLModel",
          "state": {
            "_dom_classes": [],
            "_model_module": "@jupyter-widgets/controls",
            "_model_module_version": "1.5.0",
            "_model_name": "HTMLModel",
            "_view_count": null,
            "_view_module": "@jupyter-widgets/controls",
            "_view_module_version": "1.5.0",
            "_view_name": "HTMLView",
            "description": "",
            "description_tooltip": null,
            "layout": "IPY_MODEL_b8b3ab08241445a18b0bf2eec5db488a",
            "placeholder": "​",
            "style": "IPY_MODEL_c7334c6672a5444abf38fb3c71a79b1f",
            "value": " 466k/466k [00:00&lt;00:00, 13.1MB/s]"
          }
        },
        "b58dc6a22dac4baba687b34e21a41df6": {
          "model_module": "@jupyter-widgets/controls",
          "model_module_version": "1.5.0",
          "model_name": "HTMLModel",
          "state": {
            "_dom_classes": [],
            "_model_module": "@jupyter-widgets/controls",
            "_model_module_version": "1.5.0",
            "_model_name": "HTMLModel",
            "_view_count": null,
            "_view_module": "@jupyter-widgets/controls",
            "_view_module_version": "1.5.0",
            "_view_name": "HTMLView",
            "description": "",
            "description_tooltip": null,
            "layout": "IPY_MODEL_3f0941b6e2cb485d9b99b9246fb51d2a",
            "placeholder": "​",
            "style": "IPY_MODEL_363a2b0b36394f7c9deddf40e150bc70",
            "value": "Map:  99%"
          }
        },
        "b8b3ab08241445a18b0bf2eec5db488a": {
          "model_module": "@jupyter-widgets/base",
          "model_module_version": "1.2.0",
          "model_name": "LayoutModel",
          "state": {
            "_model_module": "@jupyter-widgets/base",
            "_model_module_version": "1.2.0",
            "_model_name": "LayoutModel",
            "_view_count": null,
            "_view_module": "@jupyter-widgets/base",
            "_view_module_version": "1.2.0",
            "_view_name": "LayoutView",
            "align_content": null,
            "align_items": null,
            "align_self": null,
            "border": null,
            "bottom": null,
            "display": null,
            "flex": null,
            "flex_flow": null,
            "grid_area": null,
            "grid_auto_columns": null,
            "grid_auto_flow": null,
            "grid_auto_rows": null,
            "grid_column": null,
            "grid_gap": null,
            "grid_row": null,
            "grid_template_areas": null,
            "grid_template_columns": null,
            "grid_template_rows": null,
            "height": null,
            "justify_content": null,
            "justify_items": null,
            "left": null,
            "margin": null,
            "max_height": null,
            "max_width": null,
            "min_height": null,
            "min_width": null,
            "object_fit": null,
            "object_position": null,
            "order": null,
            "overflow": null,
            "overflow_x": null,
            "overflow_y": null,
            "padding": null,
            "right": null,
            "top": null,
            "visibility": null,
            "width": null
          }
        },
        "b96fef34ede449e8b1c0d8288e6db9a5": {
          "model_module": "@jupyter-widgets/controls",
          "model_module_version": "1.5.0",
          "model_name": "DescriptionStyleModel",
          "state": {
            "_model_module": "@jupyter-widgets/controls",
            "_model_module_version": "1.5.0",
            "_model_name": "DescriptionStyleModel",
            "_view_count": null,
            "_view_module": "@jupyter-widgets/base",
            "_view_module_version": "1.2.0",
            "_view_name": "StyleView",
            "description_width": ""
          }
        },
        "c25d5d8c75d048e09c3ef0af72afda67": {
          "model_module": "@jupyter-widgets/base",
          "model_module_version": "1.2.0",
          "model_name": "LayoutModel",
          "state": {
            "_model_module": "@jupyter-widgets/base",
            "_model_module_version": "1.2.0",
            "_model_name": "LayoutModel",
            "_view_count": null,
            "_view_module": "@jupyter-widgets/base",
            "_view_module_version": "1.2.0",
            "_view_name": "LayoutView",
            "align_content": null,
            "align_items": null,
            "align_self": null,
            "border": null,
            "bottom": null,
            "display": null,
            "flex": null,
            "flex_flow": null,
            "grid_area": null,
            "grid_auto_columns": null,
            "grid_auto_flow": null,
            "grid_auto_rows": null,
            "grid_column": null,
            "grid_gap": null,
            "grid_row": null,
            "grid_template_areas": null,
            "grid_template_columns": null,
            "grid_template_rows": null,
            "height": null,
            "justify_content": null,
            "justify_items": null,
            "left": null,
            "margin": null,
            "max_height": null,
            "max_width": null,
            "min_height": null,
            "min_width": null,
            "object_fit": null,
            "object_position": null,
            "order": null,
            "overflow": null,
            "overflow_x": null,
            "overflow_y": null,
            "padding": null,
            "right": null,
            "top": null,
            "visibility": null,
            "width": null
          }
        },
        "c28f63055f60429fa41811c7eae2ee7a": {
          "model_module": "@jupyter-widgets/base",
          "model_module_version": "1.2.0",
          "model_name": "LayoutModel",
          "state": {
            "_model_module": "@jupyter-widgets/base",
            "_model_module_version": "1.2.0",
            "_model_name": "LayoutModel",
            "_view_count": null,
            "_view_module": "@jupyter-widgets/base",
            "_view_module_version": "1.2.0",
            "_view_name": "LayoutView",
            "align_content": null,
            "align_items": null,
            "align_self": null,
            "border": null,
            "bottom": null,
            "display": null,
            "flex": null,
            "flex_flow": null,
            "grid_area": null,
            "grid_auto_columns": null,
            "grid_auto_flow": null,
            "grid_auto_rows": null,
            "grid_column": null,
            "grid_gap": null,
            "grid_row": null,
            "grid_template_areas": null,
            "grid_template_columns": null,
            "grid_template_rows": null,
            "height": null,
            "justify_content": null,
            "justify_items": null,
            "left": null,
            "margin": null,
            "max_height": null,
            "max_width": null,
            "min_height": null,
            "min_width": null,
            "object_fit": null,
            "object_position": null,
            "order": null,
            "overflow": null,
            "overflow_x": null,
            "overflow_y": null,
            "padding": null,
            "right": null,
            "top": null,
            "visibility": null,
            "width": null
          }
        },
        "c519f77474ce40019bf3eb1386c88818": {
          "model_module": "@jupyter-widgets/base",
          "model_module_version": "1.2.0",
          "model_name": "LayoutModel",
          "state": {
            "_model_module": "@jupyter-widgets/base",
            "_model_module_version": "1.2.0",
            "_model_name": "LayoutModel",
            "_view_count": null,
            "_view_module": "@jupyter-widgets/base",
            "_view_module_version": "1.2.0",
            "_view_name": "LayoutView",
            "align_content": null,
            "align_items": null,
            "align_self": null,
            "border": null,
            "bottom": null,
            "display": null,
            "flex": null,
            "flex_flow": null,
            "grid_area": null,
            "grid_auto_columns": null,
            "grid_auto_flow": null,
            "grid_auto_rows": null,
            "grid_column": null,
            "grid_gap": null,
            "grid_row": null,
            "grid_template_areas": null,
            "grid_template_columns": null,
            "grid_template_rows": null,
            "height": null,
            "justify_content": null,
            "justify_items": null,
            "left": null,
            "margin": null,
            "max_height": null,
            "max_width": null,
            "min_height": null,
            "min_width": null,
            "object_fit": null,
            "object_position": null,
            "order": null,
            "overflow": null,
            "overflow_x": null,
            "overflow_y": null,
            "padding": null,
            "right": null,
            "top": null,
            "visibility": null,
            "width": null
          }
        },
        "c7334c6672a5444abf38fb3c71a79b1f": {
          "model_module": "@jupyter-widgets/controls",
          "model_module_version": "1.5.0",
          "model_name": "DescriptionStyleModel",
          "state": {
            "_model_module": "@jupyter-widgets/controls",
            "_model_module_version": "1.5.0",
            "_model_name": "DescriptionStyleModel",
            "_view_count": null,
            "_view_module": "@jupyter-widgets/base",
            "_view_module_version": "1.2.0",
            "_view_name": "StyleView",
            "description_width": ""
          }
        },
        "caa0dd4ee91a444394a16903616b24fd": {
          "model_module": "@jupyter-widgets/base",
          "model_module_version": "1.2.0",
          "model_name": "LayoutModel",
          "state": {
            "_model_module": "@jupyter-widgets/base",
            "_model_module_version": "1.2.0",
            "_model_name": "LayoutModel",
            "_view_count": null,
            "_view_module": "@jupyter-widgets/base",
            "_view_module_version": "1.2.0",
            "_view_name": "LayoutView",
            "align_content": null,
            "align_items": null,
            "align_self": null,
            "border": null,
            "bottom": null,
            "display": null,
            "flex": null,
            "flex_flow": null,
            "grid_area": null,
            "grid_auto_columns": null,
            "grid_auto_flow": null,
            "grid_auto_rows": null,
            "grid_column": null,
            "grid_gap": null,
            "grid_row": null,
            "grid_template_areas": null,
            "grid_template_columns": null,
            "grid_template_rows": null,
            "height": null,
            "justify_content": null,
            "justify_items": null,
            "left": null,
            "margin": null,
            "max_height": null,
            "max_width": null,
            "min_height": null,
            "min_width": null,
            "object_fit": null,
            "object_position": null,
            "order": null,
            "overflow": null,
            "overflow_x": null,
            "overflow_y": null,
            "padding": null,
            "right": null,
            "top": null,
            "visibility": null,
            "width": null
          }
        },
        "cbfc262d4d8849439f7f32a04a16a43b": {
          "model_module": "@jupyter-widgets/controls",
          "model_module_version": "1.5.0",
          "model_name": "DescriptionStyleModel",
          "state": {
            "_model_module": "@jupyter-widgets/controls",
            "_model_module_version": "1.5.0",
            "_model_name": "DescriptionStyleModel",
            "_view_count": null,
            "_view_module": "@jupyter-widgets/base",
            "_view_module_version": "1.2.0",
            "_view_name": "StyleView",
            "description_width": ""
          }
        },
        "cc25450c646a4e8d828c4bc8a44984b4": {
          "model_module": "@jupyter-widgets/controls",
          "model_module_version": "1.5.0",
          "model_name": "DescriptionStyleModel",
          "state": {
            "_model_module": "@jupyter-widgets/controls",
            "_model_module_version": "1.5.0",
            "_model_name": "DescriptionStyleModel",
            "_view_count": null,
            "_view_module": "@jupyter-widgets/base",
            "_view_module_version": "1.2.0",
            "_view_name": "StyleView",
            "description_width": ""
          }
        },
        "cc889568d0174e51941451b93218dc60": {
          "model_module": "@jupyter-widgets/controls",
          "model_module_version": "1.5.0",
          "model_name": "DescriptionStyleModel",
          "state": {
            "_model_module": "@jupyter-widgets/controls",
            "_model_module_version": "1.5.0",
            "_model_name": "DescriptionStyleModel",
            "_view_count": null,
            "_view_module": "@jupyter-widgets/base",
            "_view_module_version": "1.2.0",
            "_view_name": "StyleView",
            "description_width": ""
          }
        },
        "ceb8cf1814fb4773a3a69db073c74d9c": {
          "model_module": "@jupyter-widgets/base",
          "model_module_version": "1.2.0",
          "model_name": "LayoutModel",
          "state": {
            "_model_module": "@jupyter-widgets/base",
            "_model_module_version": "1.2.0",
            "_model_name": "LayoutModel",
            "_view_count": null,
            "_view_module": "@jupyter-widgets/base",
            "_view_module_version": "1.2.0",
            "_view_name": "LayoutView",
            "align_content": null,
            "align_items": null,
            "align_self": null,
            "border": null,
            "bottom": null,
            "display": null,
            "flex": null,
            "flex_flow": null,
            "grid_area": null,
            "grid_auto_columns": null,
            "grid_auto_flow": null,
            "grid_auto_rows": null,
            "grid_column": null,
            "grid_gap": null,
            "grid_row": null,
            "grid_template_areas": null,
            "grid_template_columns": null,
            "grid_template_rows": null,
            "height": null,
            "justify_content": null,
            "justify_items": null,
            "left": null,
            "margin": null,
            "max_height": null,
            "max_width": null,
            "min_height": null,
            "min_width": null,
            "object_fit": null,
            "object_position": null,
            "order": null,
            "overflow": null,
            "overflow_x": null,
            "overflow_y": null,
            "padding": null,
            "right": null,
            "top": null,
            "visibility": null,
            "width": null
          }
        },
        "d0ecf31cf2714d488ebca0829e2fc07f": {
          "model_module": "@jupyter-widgets/controls",
          "model_module_version": "1.5.0",
          "model_name": "FloatProgressModel",
          "state": {
            "_dom_classes": [],
            "_model_module": "@jupyter-widgets/controls",
            "_model_module_version": "1.5.0",
            "_model_name": "FloatProgressModel",
            "_view_count": null,
            "_view_module": "@jupyter-widgets/controls",
            "_view_module_version": "1.5.0",
            "_view_name": "ProgressView",
            "bar_style": "success",
            "description": "",
            "description_tooltip": null,
            "layout": "IPY_MODEL_dbd8daea50254ead9c11aaa5580df57d",
            "max": 267954768,
            "min": 0,
            "orientation": "horizontal",
            "style": "IPY_MODEL_85a25881a8814582be954a57b4152305",
            "value": 267954768
          }
        },
        "d1883e327ad345bf966fa108200250b7": {
          "model_module": "@jupyter-widgets/controls",
          "model_module_version": "1.5.0",
          "model_name": "DescriptionStyleModel",
          "state": {
            "_model_module": "@jupyter-widgets/controls",
            "_model_module_version": "1.5.0",
            "_model_name": "DescriptionStyleModel",
            "_view_count": null,
            "_view_module": "@jupyter-widgets/base",
            "_view_module_version": "1.2.0",
            "_view_name": "StyleView",
            "description_width": ""
          }
        },
        "d1d895efcea34dd786b4c78cdbf6be28": {
          "model_module": "@jupyter-widgets/controls",
          "model_module_version": "1.5.0",
          "model_name": "DescriptionStyleModel",
          "state": {
            "_model_module": "@jupyter-widgets/controls",
            "_model_module_version": "1.5.0",
            "_model_name": "DescriptionStyleModel",
            "_view_count": null,
            "_view_module": "@jupyter-widgets/base",
            "_view_module_version": "1.2.0",
            "_view_name": "StyleView",
            "description_width": ""
          }
        },
        "d331ba6e14fd4cd1b199c7062eb4446f": {
          "model_module": "@jupyter-widgets/controls",
          "model_module_version": "1.5.0",
          "model_name": "FloatProgressModel",
          "state": {
            "_dom_classes": [],
            "_model_module": "@jupyter-widgets/controls",
            "_model_module_version": "1.5.0",
            "_model_name": "FloatProgressModel",
            "_view_count": null,
            "_view_module": "@jupyter-widgets/controls",
            "_view_module_version": "1.5.0",
            "_view_name": "ProgressView",
            "bar_style": "",
            "description": "",
            "description_tooltip": null,
            "layout": "IPY_MODEL_ceb8cf1814fb4773a3a69db073c74d9c",
            "max": 19236,
            "min": 0,
            "orientation": "horizontal",
            "style": "IPY_MODEL_a989f49ba96b4c63a2b0935a0abfcbd6",
            "value": 19236
          }
        },
        "d4c45372ae64493ba1cb933e95f5b00f": {
          "model_module": "@jupyter-widgets/base",
          "model_module_version": "1.2.0",
          "model_name": "LayoutModel",
          "state": {
            "_model_module": "@jupyter-widgets/base",
            "_model_module_version": "1.2.0",
            "_model_name": "LayoutModel",
            "_view_count": null,
            "_view_module": "@jupyter-widgets/base",
            "_view_module_version": "1.2.0",
            "_view_name": "LayoutView",
            "align_content": null,
            "align_items": null,
            "align_self": null,
            "border": null,
            "bottom": null,
            "display": null,
            "flex": null,
            "flex_flow": null,
            "grid_area": null,
            "grid_auto_columns": null,
            "grid_auto_flow": null,
            "grid_auto_rows": null,
            "grid_column": null,
            "grid_gap": null,
            "grid_row": null,
            "grid_template_areas": null,
            "grid_template_columns": null,
            "grid_template_rows": null,
            "height": null,
            "justify_content": null,
            "justify_items": null,
            "left": null,
            "margin": null,
            "max_height": null,
            "max_width": null,
            "min_height": null,
            "min_width": null,
            "object_fit": null,
            "object_position": null,
            "order": null,
            "overflow": null,
            "overflow_x": null,
            "overflow_y": null,
            "padding": null,
            "right": null,
            "top": null,
            "visibility": null,
            "width": null
          }
        },
        "d4ffb131031d4a2394094e5da190a246": {
          "model_module": "@jupyter-widgets/controls",
          "model_module_version": "1.5.0",
          "model_name": "HTMLModel",
          "state": {
            "_dom_classes": [],
            "_model_module": "@jupyter-widgets/controls",
            "_model_module_version": "1.5.0",
            "_model_name": "HTMLModel",
            "_view_count": null,
            "_view_module": "@jupyter-widgets/controls",
            "_view_module_version": "1.5.0",
            "_view_name": "HTMLView",
            "description": "",
            "description_tooltip": null,
            "layout": "IPY_MODEL_54bcc1eb7bb747a38e00644b0f716a86",
            "placeholder": "​",
            "style": "IPY_MODEL_f3a189f31c8143c8b6e66763bb2884e4",
            "value": "Downloading (…)solve/main/vocab.txt: 100%"
          }
        },
        "dbbc3915623c49ff9820970870c5aa47": {
          "model_module": "@jupyter-widgets/controls",
          "model_module_version": "1.5.0",
          "model_name": "HBoxModel",
          "state": {
            "_dom_classes": [],
            "_model_module": "@jupyter-widgets/controls",
            "_model_module_version": "1.5.0",
            "_model_name": "HBoxModel",
            "_view_count": null,
            "_view_module": "@jupyter-widgets/controls",
            "_view_module_version": "1.5.0",
            "_view_name": "HBoxView",
            "box_style": "",
            "children": [
              "IPY_MODEL_01d32ed7c0eb4a73a79d8bb36a2eeae1",
              "IPY_MODEL_a1cc4c43fabd449689d4c35969d17e97",
              "IPY_MODEL_b12d339603714a218f29b7d7960ee469"
            ],
            "layout": "IPY_MODEL_65046cc365174ae1a23bbc498fcd3253"
          }
        },
        "dbd8daea50254ead9c11aaa5580df57d": {
          "model_module": "@jupyter-widgets/base",
          "model_module_version": "1.2.0",
          "model_name": "LayoutModel",
          "state": {
            "_model_module": "@jupyter-widgets/base",
            "_model_module_version": "1.2.0",
            "_model_name": "LayoutModel",
            "_view_count": null,
            "_view_module": "@jupyter-widgets/base",
            "_view_module_version": "1.2.0",
            "_view_name": "LayoutView",
            "align_content": null,
            "align_items": null,
            "align_self": null,
            "border": null,
            "bottom": null,
            "display": null,
            "flex": null,
            "flex_flow": null,
            "grid_area": null,
            "grid_auto_columns": null,
            "grid_auto_flow": null,
            "grid_auto_rows": null,
            "grid_column": null,
            "grid_gap": null,
            "grid_row": null,
            "grid_template_areas": null,
            "grid_template_columns": null,
            "grid_template_rows": null,
            "height": null,
            "justify_content": null,
            "justify_items": null,
            "left": null,
            "margin": null,
            "max_height": null,
            "max_width": null,
            "min_height": null,
            "min_width": null,
            "object_fit": null,
            "object_position": null,
            "order": null,
            "overflow": null,
            "overflow_x": null,
            "overflow_y": null,
            "padding": null,
            "right": null,
            "top": null,
            "visibility": null,
            "width": null
          }
        },
        "dd7d51ced90f44a6a2bc8c3a383fecb6": {
          "model_module": "@jupyter-widgets/base",
          "model_module_version": "1.2.0",
          "model_name": "LayoutModel",
          "state": {
            "_model_module": "@jupyter-widgets/base",
            "_model_module_version": "1.2.0",
            "_model_name": "LayoutModel",
            "_view_count": null,
            "_view_module": "@jupyter-widgets/base",
            "_view_module_version": "1.2.0",
            "_view_name": "LayoutView",
            "align_content": null,
            "align_items": null,
            "align_self": null,
            "border": null,
            "bottom": null,
            "display": null,
            "flex": null,
            "flex_flow": null,
            "grid_area": null,
            "grid_auto_columns": null,
            "grid_auto_flow": null,
            "grid_auto_rows": null,
            "grid_column": null,
            "grid_gap": null,
            "grid_row": null,
            "grid_template_areas": null,
            "grid_template_columns": null,
            "grid_template_rows": null,
            "height": null,
            "justify_content": null,
            "justify_items": null,
            "left": null,
            "margin": null,
            "max_height": null,
            "max_width": null,
            "min_height": null,
            "min_width": null,
            "object_fit": null,
            "object_position": null,
            "order": null,
            "overflow": null,
            "overflow_x": null,
            "overflow_y": null,
            "padding": null,
            "right": null,
            "top": null,
            "visibility": null,
            "width": null
          }
        },
        "e722f9fc2b8c41e1a920567b2e29a539": {
          "model_module": "@jupyter-widgets/base",
          "model_module_version": "1.2.0",
          "model_name": "LayoutModel",
          "state": {
            "_model_module": "@jupyter-widgets/base",
            "_model_module_version": "1.2.0",
            "_model_name": "LayoutModel",
            "_view_count": null,
            "_view_module": "@jupyter-widgets/base",
            "_view_module_version": "1.2.0",
            "_view_name": "LayoutView",
            "align_content": null,
            "align_items": null,
            "align_self": null,
            "border": null,
            "bottom": null,
            "display": null,
            "flex": null,
            "flex_flow": null,
            "grid_area": null,
            "grid_auto_columns": null,
            "grid_auto_flow": null,
            "grid_auto_rows": null,
            "grid_column": null,
            "grid_gap": null,
            "grid_row": null,
            "grid_template_areas": null,
            "grid_template_columns": null,
            "grid_template_rows": null,
            "height": null,
            "justify_content": null,
            "justify_items": null,
            "left": null,
            "margin": null,
            "max_height": null,
            "max_width": null,
            "min_height": null,
            "min_width": null,
            "object_fit": null,
            "object_position": null,
            "order": null,
            "overflow": null,
            "overflow_x": null,
            "overflow_y": null,
            "padding": null,
            "right": null,
            "top": null,
            "visibility": null,
            "width": null
          }
        },
        "ebc02a54a66c4073bb01abbbe1b71a57": {
          "model_module": "@jupyter-widgets/controls",
          "model_module_version": "1.5.0",
          "model_name": "FloatProgressModel",
          "state": {
            "_dom_classes": [],
            "_model_module": "@jupyter-widgets/controls",
            "_model_module_version": "1.5.0",
            "_model_name": "FloatProgressModel",
            "_view_count": null,
            "_view_module": "@jupyter-widgets/controls",
            "_view_module_version": "1.5.0",
            "_view_name": "ProgressView",
            "bar_style": "",
            "description": "",
            "description_tooltip": null,
            "layout": "IPY_MODEL_afa19cb24103493483d278c6f10559d9",
            "max": 4122,
            "min": 0,
            "orientation": "horizontal",
            "style": "IPY_MODEL_0b0100874d694506887270a1fe570287",
            "value": 4122
          }
        },
        "ed3deb56ddc24b8cbc26bfbcde43b77e": {
          "model_module": "@jupyter-widgets/controls",
          "model_module_version": "1.5.0",
          "model_name": "ProgressStyleModel",
          "state": {
            "_model_module": "@jupyter-widgets/controls",
            "_model_module_version": "1.5.0",
            "_model_name": "ProgressStyleModel",
            "_view_count": null,
            "_view_module": "@jupyter-widgets/base",
            "_view_module_version": "1.2.0",
            "_view_name": "StyleView",
            "bar_color": null,
            "description_width": ""
          }
        },
        "eefab8de372648c4a5194eda36c73ec9": {
          "model_module": "@jupyter-widgets/base",
          "model_module_version": "1.2.0",
          "model_name": "LayoutModel",
          "state": {
            "_model_module": "@jupyter-widgets/base",
            "_model_module_version": "1.2.0",
            "_model_name": "LayoutModel",
            "_view_count": null,
            "_view_module": "@jupyter-widgets/base",
            "_view_module_version": "1.2.0",
            "_view_name": "LayoutView",
            "align_content": null,
            "align_items": null,
            "align_self": null,
            "border": null,
            "bottom": null,
            "display": null,
            "flex": null,
            "flex_flow": null,
            "grid_area": null,
            "grid_auto_columns": null,
            "grid_auto_flow": null,
            "grid_auto_rows": null,
            "grid_column": null,
            "grid_gap": null,
            "grid_row": null,
            "grid_template_areas": null,
            "grid_template_columns": null,
            "grid_template_rows": null,
            "height": null,
            "justify_content": null,
            "justify_items": null,
            "left": null,
            "margin": null,
            "max_height": null,
            "max_width": null,
            "min_height": null,
            "min_width": null,
            "object_fit": null,
            "object_position": null,
            "order": null,
            "overflow": null,
            "overflow_x": null,
            "overflow_y": null,
            "padding": null,
            "right": null,
            "top": null,
            "visibility": null,
            "width": null
          }
        },
        "f2574292b8944d20beb5d646313ac4e9": {
          "model_module": "@jupyter-widgets/base",
          "model_module_version": "1.2.0",
          "model_name": "LayoutModel",
          "state": {
            "_model_module": "@jupyter-widgets/base",
            "_model_module_version": "1.2.0",
            "_model_name": "LayoutModel",
            "_view_count": null,
            "_view_module": "@jupyter-widgets/base",
            "_view_module_version": "1.2.0",
            "_view_name": "LayoutView",
            "align_content": null,
            "align_items": null,
            "align_self": null,
            "border": null,
            "bottom": null,
            "display": null,
            "flex": null,
            "flex_flow": null,
            "grid_area": null,
            "grid_auto_columns": null,
            "grid_auto_flow": null,
            "grid_auto_rows": null,
            "grid_column": null,
            "grid_gap": null,
            "grid_row": null,
            "grid_template_areas": null,
            "grid_template_columns": null,
            "grid_template_rows": null,
            "height": null,
            "justify_content": null,
            "justify_items": null,
            "left": null,
            "margin": null,
            "max_height": null,
            "max_width": null,
            "min_height": null,
            "min_width": null,
            "object_fit": null,
            "object_position": null,
            "order": null,
            "overflow": null,
            "overflow_x": null,
            "overflow_y": null,
            "padding": null,
            "right": null,
            "top": null,
            "visibility": null,
            "width": null
          }
        },
        "f3a189f31c8143c8b6e66763bb2884e4": {
          "model_module": "@jupyter-widgets/controls",
          "model_module_version": "1.5.0",
          "model_name": "DescriptionStyleModel",
          "state": {
            "_model_module": "@jupyter-widgets/controls",
            "_model_module_version": "1.5.0",
            "_model_name": "DescriptionStyleModel",
            "_view_count": null,
            "_view_module": "@jupyter-widgets/base",
            "_view_module_version": "1.2.0",
            "_view_name": "StyleView",
            "description_width": ""
          }
        },
        "f3c408f37a9e48b49d6482ce5b7eca80": {
          "model_module": "@jupyter-widgets/controls",
          "model_module_version": "1.5.0",
          "model_name": "HTMLModel",
          "state": {
            "_dom_classes": [],
            "_model_module": "@jupyter-widgets/controls",
            "_model_module_version": "1.5.0",
            "_model_name": "HTMLModel",
            "_view_count": null,
            "_view_module": "@jupyter-widgets/controls",
            "_view_module_version": "1.5.0",
            "_view_name": "HTMLView",
            "description": "",
            "description_tooltip": null,
            "layout": "IPY_MODEL_1125a9cac332412aa0b64081ff75ef3a",
            "placeholder": "​",
            "style": "IPY_MODEL_097f02375567489fb78dda9f9332c132",
            "value": " 27481/27481 [00:21&lt;00:00, 930.73it/s]"
          }
        },
        "f6afc0cbe602430d90d66a02a2a865b2": {
          "model_module": "@jupyter-widgets/controls",
          "model_module_version": "1.5.0",
          "model_name": "DescriptionStyleModel",
          "state": {
            "_model_module": "@jupyter-widgets/controls",
            "_model_module_version": "1.5.0",
            "_model_name": "DescriptionStyleModel",
            "_view_count": null,
            "_view_module": "@jupyter-widgets/base",
            "_view_module_version": "1.2.0",
            "_view_name": "StyleView",
            "description_width": ""
          }
        },
        "f88c35b3cd8e4856b2f58c4a8201da4f": {
          "model_module": "@jupyter-widgets/base",
          "model_module_version": "1.2.0",
          "model_name": "LayoutModel",
          "state": {
            "_model_module": "@jupyter-widgets/base",
            "_model_module_version": "1.2.0",
            "_model_name": "LayoutModel",
            "_view_count": null,
            "_view_module": "@jupyter-widgets/base",
            "_view_module_version": "1.2.0",
            "_view_name": "LayoutView",
            "align_content": null,
            "align_items": null,
            "align_self": null,
            "border": null,
            "bottom": null,
            "display": null,
            "flex": null,
            "flex_flow": null,
            "grid_area": null,
            "grid_auto_columns": null,
            "grid_auto_flow": null,
            "grid_auto_rows": null,
            "grid_column": null,
            "grid_gap": null,
            "grid_row": null,
            "grid_template_areas": null,
            "grid_template_columns": null,
            "grid_template_rows": null,
            "height": null,
            "justify_content": null,
            "justify_items": null,
            "left": null,
            "margin": null,
            "max_height": null,
            "max_width": null,
            "min_height": null,
            "min_width": null,
            "object_fit": null,
            "object_position": null,
            "order": null,
            "overflow": null,
            "overflow_x": null,
            "overflow_y": null,
            "padding": null,
            "right": null,
            "top": null,
            "visibility": null,
            "width": null
          }
        },
        "f8ded0d031e242c5992f5c0857882ea0": {
          "model_module": "@jupyter-widgets/controls",
          "model_module_version": "1.5.0",
          "model_name": "HTMLModel",
          "state": {
            "_dom_classes": [],
            "_model_module": "@jupyter-widgets/controls",
            "_model_module_version": "1.5.0",
            "_model_name": "HTMLModel",
            "_view_count": null,
            "_view_module": "@jupyter-widgets/controls",
            "_view_module_version": "1.5.0",
            "_view_name": "HTMLView",
            "description": "",
            "description_tooltip": null,
            "layout": "IPY_MODEL_81d1202e7a604162b40f2a3aeead8830",
            "placeholder": "​",
            "style": "IPY_MODEL_22173c7c0636435e8639a665f3c3c064",
            "value": "Map:  97%"
          }
        }
      }
    }
  },
  "nbformat": 4,
  "nbformat_minor": 0
}
